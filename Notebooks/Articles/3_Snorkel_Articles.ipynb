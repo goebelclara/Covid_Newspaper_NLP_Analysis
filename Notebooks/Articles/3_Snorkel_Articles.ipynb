{
 "cells": [
  {
   "cell_type": "markdown",
   "metadata": {},
   "source": [
    "## Table of Contents\n",
    "\n",
    "* [Chapter 1](#chapter1): Annotating\n",
    "* [Chapter 2](#chapter2): Labelling Functions\n",
    "    * [Section 2.1](#section_2_1): Lexicon-based LFs\n",
    "    * [Section 2.2](#section_2_2): Keyword-based LFs\n",
    "    * [Section 2.3](#section_2_3): Machine-learning-based LFs\n",
    "    * [Section 2.4](#section_2_4): Deep-learning-based LFs\n",
    "    * [Section 2.5](#section_2_5): Evaluating LFs\n",
    "* [Chapter 3](#chapter3): Propagation"
   ]
  },
  {
   "cell_type": "markdown",
   "metadata": {},
   "source": [
    "## Chapter 1: <a class=\"anchor\" id=\"chapter1\"></a> Annotating"
   ]
  },
  {
   "cell_type": "code",
   "execution_count": 1,
   "metadata": {},
   "outputs": [],
   "source": [
    "#Performing required installations\n",
    "#pip install snorkel\n",
    "#pip install xgboost\n",
    "#pip install germansentiment"
   ]
  },
  {
   "cell_type": "code",
   "execution_count": 2,
   "metadata": {},
   "outputs": [],
   "source": [
    "#Importing libraries\n",
    "#Data processing\n",
    "import pandas as pd\n",
    "import numpy as np\n",
    "import re\n",
    "from typing import List\n",
    "\n",
    "#Snorkel\n",
    "from snorkel.preprocess import preprocessor\n",
    "from snorkel.labeling import labeling_function, PandasLFApplier, LFAnalysis\n",
    "from snorkel.labeling.model import LabelModel, MajorityLabelVoter\n",
    "import snorkel\n",
    "\n",
    "#Sentiment analysis\n",
    "from textblob_de import TextBlobDE\n",
    "from nltk import word_tokenize\n",
    "from nltk.corpus import stopwords\n",
    "from spacy_sentiws import spaCySentiWS\n",
    "import string as st\n",
    "import spacy\n",
    "import spacy.cli\n",
    "from germansentiment import SentimentModel\n",
    "\n",
    "#Machine learning\n",
    "from sklearn.model_selection import train_test_split, GridSearchCV\n",
    "from sklearn.feature_extraction.text import TfidfVectorizer, CountVectorizer\n",
    "from sklearn.linear_model import LogisticRegression\n",
    "from sklearn.ensemble import RandomForestClassifier\n",
    "from sklearn.metrics import accuracy_score, classification_report\n",
    "import xgboost as xg\n",
    "from sklearn.svm import SVC\n",
    "from transformers import AutoModelForSequenceClassification, AutoTokenizer\n",
    "import torch\n",
    "import torch.nn.functional as F\n",
    "\n",
    "#Timeseries and date handling\n",
    "from dateutil.relativedelta import relativedelta\n",
    "\n",
    "#Visualization\n",
    "import matplotlib.pyplot as plt\n",
    "import seaborn as sns\n",
    "import matplotlib.ticker as mtick\n",
    "import matplotlib.patches as mpatches\n",
    "\n",
    "#Stats\n",
    "import scipy.stats\n",
    "import math\n",
    "from statistics import mode\n",
    "\n",
    "#Other\n",
    "import warnings\n",
    "import os\n",
    "import inspect\n",
    "import pickle\n",
    "import time\n",
    "from tqdm import tqdm\n",
    "tqdm.pandas()"
   ]
  },
  {
   "cell_type": "code",
   "execution_count": 3,
   "metadata": {},
   "outputs": [],
   "source": [
    "#Suppressing warnings\n",
    "warnings.simplefilter(action = \"ignore\")"
   ]
  },
  {
   "cell_type": "code",
   "execution_count": 4,
   "metadata": {},
   "outputs": [],
   "source": [
    "#Reading in CSVs\n",
    "os.chdir(\"..\")\n",
    "os.chdir(\"..\")\n",
    "df = pd.read_csv(\"Data/Articles/cleaned_parsed_data.csv\", index_col = 0, parse_dates = [\"pubtime\", \"pubday\", \"pubmonth\"])\n",
    "\n",
    "df_media = pd.read_csv(\"Inputs/Articles/media.csv\")\n",
    "df_entities = pd.read_csv(\"Inputs/Articles/entities.csv\")\n",
    "df_key_media = pd.read_csv(\"Inputs/Articles/key_media.csv\", index_col = 0)\n",
    "df_key_entities = pd.read_csv(\"Inputs/Articles/key_entities.csv\", index_col = 0)\n",
    "\n",
    "X_test_lf_prev = pd.read_csv(\"Outputs/Articles/Snorkel/X_test_lf_manual.csv\", index_col = 0)\n",
    "y_test_lf_prev = pd.read_csv(\"Outputs/Articles/Snorkel/y_test_lf_manual.csv\", index_col = 0)\n",
    "X_vali_lf_prev = pd.read_csv(\"Outputs/Articles/Snorkel/X_vali_lf_manual.csv\", index_col = 0)\n",
    "y_vali_lf_prev = pd.read_csv(\"Outputs/Articles/Snorkel/y_vali_lf_manual.csv\", index_col = 0)\n",
    "X_train_lf_prev = pd.read_csv(\"Outputs/Articles/Snorkel/X_train_lf_manual.csv\", index_col = 0)\n",
    "y_train_lf_prev = pd.read_csv(\"Outputs/Articles/Snorkel/y_train_lf_manual.csv\", index_col = 0)\n",
    "\n",
    "df_snorkel = pd.read_csv(\"Outputs/Articles/Snorkel/snorkel.csv\", index_col = 0)\n",
    "\n",
    "polart_df = pd.read_csv(\"Resources/PolArt/polartlexicon.csv\")\n",
    "gervader_df = pd.read_csv(\"Resources/GERVader/GERVaderLexicon.csv\")\n",
    "emotion_df = pd.read_csv(\"Resources/EmotionLexicon/EmotionLexicon.csv\")\n",
    "os.chdir(\"Notebooks/Articles\")"
   ]
  },
  {
   "cell_type": "code",
   "execution_count": 5,
   "metadata": {
    "scrolled": true
   },
   "outputs": [
    {
     "data": {
      "text/plain": [
       "['Ueli_Maurer',\n",
       " 'Guy_Parmelin',\n",
       " 'Simonetta_Sommaruga',\n",
       " 'Alain_Berset',\n",
       " 'Bundesrat',\n",
       " 'Tanja_Stadler',\n",
       " 'Martin_Ackermann',\n",
       " 'Taskforce',\n",
       " 'Christoph_Berger',\n",
       " 'EKIF',\n",
       " 'Patrick_Mathys',\n",
       " 'Marcel_Salathe',\n",
       " 'Daniel_Koch',\n",
       " 'BAG',\n",
       " 'Swissmedic',\n",
       " 'Lukas_Engelberger',\n",
       " 'GDK',\n",
       " 'SVP',\n",
       " 'SP',\n",
       " 'FDP',\n",
       " 'Die_Mitte',\n",
       " 'Die_Gruene',\n",
       " 'Befuerworter',\n",
       " 'Gegner',\n",
       " 'Skeptiker',\n",
       " 'Kritiker',\n",
       " 'Opposition',\n",
       " 'Demonstranten']"
      ]
     },
     "execution_count": 5,
     "metadata": {},
     "output_type": "execute_result"
    }
   ],
   "source": [
    "#Setting entities\n",
    "entities = list(df_entities[df_entities[\"selection\"] == 1][\"designed_entity\"].unique())\n",
    "entities"
   ]
  },
  {
   "cell_type": "code",
   "execution_count": 6,
   "metadata": {
    "scrolled": true
   },
   "outputs": [
    {
     "data": {
      "text/plain": [
       "['Ueli_Maurer',\n",
       " 'Alain_Berset',\n",
       " 'Bundesrat',\n",
       " 'Taskforce',\n",
       " 'BAG',\n",
       " 'Daniel_Koch',\n",
       " 'Tanja_Stadler',\n",
       " 'Christoph_Berger',\n",
       " 'Lukas_Engelberger',\n",
       " 'Patrick_Mathys',\n",
       " 'SVP',\n",
       " 'SP',\n",
       " 'FDP',\n",
       " 'Die_Mitte']"
      ]
     },
     "execution_count": 6,
     "metadata": {},
     "output_type": "execute_result"
    }
   ],
   "source": [
    "#Setting key entities\n",
    "key_entities = list(df_key_entities[\"key_entities\"])\n",
    "key_entities"
   ]
  },
  {
   "cell_type": "code",
   "execution_count": 7,
   "metadata": {
    "scrolled": true
   },
   "outputs": [
    {
     "data": {
      "text/plain": [
       "['Cash',\n",
       " 'NZZ',\n",
       " 'Tages_Anzeiger',\n",
       " 'Zuercher_Unterlaender',\n",
       " 'Blick',\n",
       " 'Zuerichsee_Zeitung',\n",
       " 'Berner Zeitung',\n",
       " 'Solothurner_Zeitung',\n",
       " 'SRF',\n",
       " 'Berner_Oberlaender',\n",
       " '20_Minuten',\n",
       " 'Limmattaler_Zeitung',\n",
       " 'Langenthaler_Tagblatt',\n",
       " 'Basler_Zeitung',\n",
       " 'Grenchner_Tagblatt',\n",
       " 'Aargauer_Zeitung',\n",
       " 'BZ_Basel',\n",
       " 'Handelszeitung',\n",
       " 'Luzerner_Zeitung',\n",
       " 'Landbote',\n",
       " 'Oltner_Tagblatt',\n",
       " 'St._Galler_Tagblatt',\n",
       " 'Werdenberger_&_Obertoggenburger',\n",
       " 'Toggenburger_Tagblatt',\n",
       " 'Glueckspost',\n",
       " 'Schweizer_Illustrierte',\n",
       " 'Das_Magazin',\n",
       " 'Der_Bund',\n",
       " 'Nidwaldner_Zeitung',\n",
       " 'Thuner_Tagblatt',\n",
       " 'Zofinger_Tagblatt',\n",
       " 'Zuger_Zeitung',\n",
       " 'Sonntagszeitung',\n",
       " 'Badener_Tagblatt',\n",
       " 'Thurgauer_Zeitung',\n",
       " 'Bilanz',\n",
       " 'Obwaldner_Zeitung',\n",
       " 'Urnerzeitung',\n",
       " 'Thalwiler_Anzeiger',\n",
       " 'Finanz_und_Wirtschaft',\n",
       " 'Die_Wochenzeitung',\n",
       " 'Swissinfo',\n",
       " 'Wiler_Zeitung',\n",
       " 'Appenzeller_Zeitung',\n",
       " 'Beobachter',\n",
       " 'Zuger_Presse',\n",
       " 'Zugerbieter',\n",
       " 'Streaming',\n",
       " 'Tele',\n",
       " 'TV_Star',\n",
       " 'Schweizer_Familie',\n",
       " 'Encore!',\n",
       " 'Schweizer_Landliebe',\n",
       " 'Style',\n",
       " 'Berner_Zeitung',\n",
       " 'Urner_Zeitung']"
      ]
     },
     "execution_count": 7,
     "metadata": {},
     "output_type": "execute_result"
    }
   ],
   "source": [
    "#Setting media\n",
    "media = list(df_media[\"medium_name\"].unique())\n",
    "media"
   ]
  },
  {
   "cell_type": "code",
   "execution_count": 9,
   "metadata": {},
   "outputs": [],
   "source": [
    "#Defining function to retrieve variable name for CSV\n",
    "def retrieve_name(var):\n",
    "    for fi in reversed(inspect.stack()):\n",
    "        names = [var_name for var_name, var_val in fi.frame.f_locals.items() if var_val is var]\n",
    "        if len(names) > 0:\n",
    "            return names[0]"
   ]
  },
  {
   "cell_type": "code",
   "execution_count": 10,
   "metadata": {},
   "outputs": [],
   "source": [
    "#Defining function to check if value in series is consistent\n",
    "def is_unique(series)\n",
    "    array = series.to_numpy()\n",
    "    return (array[0] == array).all()"
   ]
  },
  {
   "cell_type": "code",
   "execution_count": 11,
   "metadata": {},
   "outputs": [],
   "source": [
    "#Defining function for manual annotation\n",
    "def manually_annotate(df_X, df_y):\n",
    "    counter = 0\n",
    "    for index_X, index_y in zip(df_X.index, df_y.index):\n",
    "        counter += 1\n",
    "        if df_y.loc[index_y, \"sentiment\"] not in [0.0,1.0,2.0]:\n",
    "            #Print counter\n",
    "            print(f\"{counter}/{len(df_X)}\")\n",
    "            \n",
    "            #Print entity and sentence\n",
    "            entity = df_X.loc[index_X, \"entity_name\"]\n",
    "            sentence = df_X.loc[index_X, \"sentence_ABSA\"]\n",
    "            print(f\"{entity}: {sentence}\")\n",
    "            \n",
    "            #Get user input for sentiment\n",
    "            sentiment = input(\"Sentiment: \")\n",
    "            #If user input is BREAK, stop loop\n",
    "            if sentiment == \"BREAK\":\n",
    "                break\n",
    "            try:\n",
    "                df_y.loc[index_y, \"sentiment\"] = float(sentiment)\n",
    "            except:\n",
    "                df_y.loc[index_y, \"sentiment\"] = np.nan\n",
    "            \n",
    "            #Set manual annotation to 1\n",
    "            df_y.loc[index_y, \"manual_annotation\"] = 1\n",
    "            \n",
    "            print(\"\\n\")"
   ]
  },
  {
   "cell_type": "code",
   "execution_count": 12,
   "metadata": {},
   "outputs": [],
   "source": [
    "#Defining function to review manual annotation\n",
    "def review_manual_annotation(df_X, df_y):\n",
    "    df_joined = df_X.join(df_y)\n",
    "    #Review only non-duplicates\n",
    "    df_joined_subset = df_joined.drop_duplicates(subset = [\"entity_name\", \"sentence_ABSA\"])\n",
    "    df_joined_subset = df_joined_subset[df_joined_subset[\"sentiment\"] != 0]\n",
    "    \n",
    "    for index in df_joined_subset.index:\n",
    "        #Print entity and sentence\n",
    "        entity = df_joined_subset.loc[index, \"entity_name\"]\n",
    "        sentence = df_joined_subset.loc[index, \"sentence_ABSA\"]\n",
    "        print(f\"{entity}: {sentence}\")\n",
    "         \n",
    "        #Print current sentiment\n",
    "        sentiment = df_joined_subset.loc[index, \"sentiment\"]\n",
    "        print(f\"Sentiment: {sentiment}\")\n",
    "        \n",
    "        #Get user input for potential correction\n",
    "        check = input(\"Correction: \")\n",
    "        #If user input is nothing, continue\n",
    "        if check == \"\":\n",
    "            print(\"\\n\")\n",
    "        #If user input is a number, amend sentiment\n",
    "        elif check in [0.0,1.0,2.0]:\n",
    "            relevant_indices = df_joined[(df_joined[\"entity_name\"] == entity) & (df_joined[\"sentence_ABSA\"] == sentence)].index\n",
    "            df_y.loc[relevant_indices, \"sentiment\"] = float(check)\n",
    "            print(\"\\n\")\n",
    "        #If user input is BREAK, stop loop\n",
    "        elif check == \"BREAK\":\n",
    "            break"
   ]
  },
  {
   "cell_type": "code",
   "execution_count": 13,
   "metadata": {},
   "outputs": [],
   "source": [
    "#Defining function to check for inconsistencies in manual annotation\n",
    "def check_inconsistencies_manual_annotation(X_dfs, y_dfs):\n",
    "    #Join together training, validation, and testing data\n",
    "    X = pd.concat(X_dfs)\n",
    "    y = pd.concat(y_dfs)\n",
    "    X = X[y[\"sentiment\"].notnull()]\n",
    "    y = y[y[\"sentiment\"].notnull()]\n",
    "    full = X.join(y)\n",
    "    \n",
    "    #Get recurring sentence and entity combinations\n",
    "    full[\"stratification\"] = full.apply(lambda x: x[\"entity_name\"] + \"; \" + x[\"sentence_ABSA\"], axis = 1) \n",
    "    duplicates = full[\"stratification\"].value_counts()[full[\"stratification\"].value_counts() > 1].index\n",
    "    duplicates = [x.split(\"; \") for x in duplicates]\n",
    "    \n",
    "    #For each sentence and entity combination, check whether the sentiment is consistent throughout\n",
    "    counter = 0\n",
    "    for entity, sentence in duplicates:\n",
    "        filtered = full[(full[\"entity_name\"] == entity) & (full[\"sentence_ABSA\"] == sentence)]\n",
    "        if is_unique(filtered[\"sentiment\"]) == False:\n",
    "            counter += 1\n",
    "            print(f\"Use amend_manual_annotation to change the sentiment for the entity {entity} and the sentence {sentence}.\")\n",
    "    if counter == 0:\n",
    "        print(\"No inconsistencies found.\")"
   ]
  },
  {
   "cell_type": "code",
   "execution_count": 14,
   "metadata": {},
   "outputs": [],
   "source": [
    "#Defining function to amend manual annotation, based on input sentence\n",
    "def amend_manual_annotation(X_dfs, y_dfs, sentence):\n",
    "    #Join together training, validation, and testing data\n",
    "    X = pd.concat(X_dfs)\n",
    "    y = pd.concat(y_dfs)\n",
    "    X = X[y[\"sentiment\"].notnull()]\n",
    "    y = y[y[\"sentiment\"].notnull()]\n",
    "    full = X.join(y)\n",
    "    \n",
    "    #Filter by user-input sentence\n",
    "    filtered = full[(full[\"sentence_ABSA\"] == sentence)]\n",
    "    relevant_indeces = filtered.index\n",
    "    \n",
    "    for index in relevant_indeces:\n",
    "        #For each occurrence of sentence in data, print entity and sentence\n",
    "        entity = filtered.loc[index, \"entity_name\"]\n",
    "        print(f\"{entity}: {sentence}\")\n",
    "        \n",
    "        #Get user input for sentiment\n",
    "        sentiment = input(\"Sentiment: \")\n",
    "        \n",
    "        #Save user input to training, validation, or testing data\n",
    "        for subdf in y_dfs:\n",
    "            if index in subdf.index:\n",
    "                subdf.loc[index, \"sentiment\"] = float(sentiment)"
   ]
  },
  {
   "cell_type": "code",
   "execution_count": 15,
   "metadata": {},
   "outputs": [],
   "source": [
    "#Defining function to add stratification column\n",
    "def stratify(subdf):\n",
    "    subdf[\"stratification\"] = subdf[\"entity_name\"].apply(lambda x: x if x in key_entities else \"other\")"
   ]
  },
  {
   "cell_type": "code",
   "execution_count": 16,
   "metadata": {},
   "outputs": [],
   "source": [
    "#Defining function to return splits only for LF portion\n",
    "def get_single_splits(df, stratification):\n",
    "    X = df.drop([\"sentiment\", \"manual_annotation\"], axis = 1)\n",
    "    y = df[[\"sentiment\", \"manual_annotation\"]]\n",
    "    \n",
    "    if stratification == True:\n",
    "        X_train_total, X_test, y_train_total, y_test = train_test_split(X, y, \n",
    "                                                                        test_size = 0.2, \n",
    "                                                                        random_state = 1, \n",
    "                                                                        stratify = X[\"stratification\"])\n",
    "\n",
    "        X_train, X_vali, y_train, y_vali = train_test_split(X_train_total, y_train_total, \n",
    "                                                            test_size = 0.2, \n",
    "                                                            random_state = 1, \n",
    "                                                            stratify = X_train_total[\"stratification\"])\n",
    "\n",
    "    else:\n",
    "        X_train_total, X_test, y_train_total, y_test = train_test_split(X, y, \n",
    "                                                                        test_size = 0.2, \n",
    "                                                                        random_state = 1)\n",
    "\n",
    "        X_train, X_vali, y_train, y_vali = train_test_split(X_train_total, y_train_total, \n",
    "                                                            test_size = 0.2, \n",
    "                                                            random_state = 1)\n",
    "    \n",
    "    return [X_train, y_train, X_vali, y_vali, X_test, y_test]"
   ]
  },
  {
   "cell_type": "code",
   "execution_count": 17,
   "metadata": {},
   "outputs": [],
   "source": [
    "#Defining function to return splits for LF and non-LF portion\n",
    "def get_full_splits(df, missing_share, stratification):\n",
    "    X = df.drop([\"sentiment\", \"manual_annotation\"], axis = 1)\n",
    "    y = df[[\"sentiment\", \"manual_annotation\"]]\n",
    "    \n",
    "    if stratification == True:\n",
    "        X_non_lf, X_lf, y_non_lf, y_lf = train_test_split(X, y,\n",
    "                                                          test_size = missing_share, \n",
    "                                                          random_state = 1, \n",
    "                                                          stratify = X[\"stratification\"])\n",
    "        \n",
    "        X_train_total_lf, X_test_lf, y_train_total_lf, y_test_lf = train_test_split(X_lf, y_lf, \n",
    "                                                                                    test_size = 0.2, \n",
    "                                                                                    random_state = 1, \n",
    "                                                                                    stratify = X_lf[\"stratification\"])\n",
    "\n",
    "\n",
    "        X_train_lf, X_vali_lf, y_train_lf, y_vali_lf = train_test_split(X_train_total_lf, y_train_total_lf, \n",
    "                                                                        test_size = 0.2, \n",
    "                                                                        random_state = 1, \n",
    "                                                                        stratify = X_train_total_lf[\"stratification\"])\n",
    "        \n",
    "        X_train_total_non_lf, X_test_non_lf, y_train_total_non_lf, y_test_non_lf = train_test_split(X_non_lf, y_non_lf, \n",
    "                                                                                                    test_size = 0.2, \n",
    "                                                                                                    random_state = 1, \n",
    "                                                                                                    stratify = X_non_lf[\"stratification\"])\n",
    "\n",
    "        X_train_non_lf, X_vali_non_lf, y_train_non_lf, y_vali_non_lf = train_test_split(X_train_total_non_lf, y_train_total_non_lf, \n",
    "                                                                                        test_size = 0.2, \n",
    "                                                                                        random_state = 1, \n",
    "                                                                                        stratify = X_train_total_non_lf[\"stratification\"])\n",
    "\n",
    "        \n",
    "    else:\n",
    "        X_non_lf, X_lf, y_non_lf, y_lf = train_test_split(X, y,\n",
    "                                                          test_size = missing_share, \n",
    "                                                          random_state = 1)\n",
    "        \n",
    "        X_train_total_lf, X_test_lf, y_train_total_lf, y_test_lf = train_test_split(X_lf, y_lf, \n",
    "                                                                                    test_size = 0.2, \n",
    "                                                                                    random_state = 1)\n",
    "\n",
    "\n",
    "        X_train_lf, X_vali_lf, y_train_lf, y_vali_lf = train_test_split(X_train_total_lf, y_train_total_lf, \n",
    "                                                                        test_size = 0.2, \n",
    "                                                                        random_state = 1)\n",
    "        \n",
    "        X_train_total_non_lf, X_test_non_lf, y_train_total_non_lf, y_test_non_lf = train_test_split(X_non_lf, y_non_lf, \n",
    "                                                                                                    test_size = 0.2, \n",
    "                                                                                                    random_state = 1)\n",
    "\n",
    "        X_train_non_lf, X_vali_non_lf, y_train_non_lf, y_vali_non_lf = train_test_split(X_train_total_non_lf, y_train_total_non_lf, \n",
    "                                                                                        test_size = 0.2, \n",
    "                                                                                        random_state = 1)\n",
    "        \n",
    "    return [X_train_lf, X_train_non_lf, y_train_lf, y_train_non_lf, X_vali_lf, X_vali_non_lf, y_vali_lf, y_vali_non_lf, X_test_lf, X_test_non_lf, y_test_lf, y_test_non_lf]"
   ]
  },
  {
   "cell_type": "code",
   "execution_count": 18,
   "metadata": {},
   "outputs": [],
   "source": [
    "#Defining function to merge splits of unnannotated and annotated data\n",
    "def merge_annotated_unannotated_splits(annotated_splits, unannotated_splits):\n",
    "    #Get all annotated splits\n",
    "    X_train_lf_annotated, y_train_lf_annotated, X_vali_lf_annotated, y_vali_lf_annotated, X_test_lf_annotated, y_test_lf_annotated = annotated_splits\n",
    "\n",
    "    #Get all unannotated splits\n",
    "    X_train_lf_unannotated, X_train_non_lf_unannotated, y_train_lf_unannotated, y_train_non_lf_unannotated, X_vali_lf_unannotated, X_vali_non_lf_unannotated, y_vali_lf_unannotated, y_vali_non_lf_unannotated, X_test_lf_unannotated, X_test_non_lf_unannotated, y_test_lf_unannotated, y_test_non_lf_unannotated = unannotated_splits\n",
    "    \n",
    "    #For LF portions, merge annotated splits with unannotated splits\n",
    "    X_train_lf = pd.concat([X_train_lf_annotated, X_train_lf_unannotated])\n",
    "    X_train_non_lf = X_train_non_lf_unannotated\n",
    "    y_train_lf = pd.concat([y_train_lf_annotated, y_train_lf_unannotated])\n",
    "    y_train_non_lf = y_train_non_lf_unannotated\n",
    "    X_vali_lf = pd.concat([X_vali_lf_annotated, X_vali_lf_unannotated]) \n",
    "    X_vali_non_lf = X_vali_non_lf_unannotated\n",
    "    y_vali_lf = pd.concat([y_vali_lf_annotated, y_vali_lf_unannotated]) \n",
    "    y_vali_non_lf = y_vali_non_lf_unannotated\n",
    "    X_test_lf = pd.concat([X_test_lf_annotated, X_test_lf_unannotated]) \n",
    "    X_test_non_lf = X_test_non_lf_unannotated\n",
    "    y_test_lf = pd.concat([y_test_lf_annotated, y_test_lf_unannotated]) \n",
    "    y_test_non_lf = y_test_non_lf_unannotated\n",
    "    \n",
    "    return [X_train_lf, X_train_non_lf, y_train_lf, y_train_non_lf, X_vali_lf, X_vali_non_lf, y_vali_lf, y_vali_non_lf, X_test_lf, X_test_non_lf, y_test_lf, y_test_non_lf]"
   ]
  },
  {
   "cell_type": "code",
   "execution_count": 19,
   "metadata": {},
   "outputs": [],
   "source": [
    "#Defining function to merge previously annotated sentences with dataframe and generate splits\n",
    "def get_final_splits(X_dfs, y_dfs, df):\n",
    "    #Merge previous annotations of sentiment\n",
    "    annotated_X = pd.concat(X_dfs)\n",
    "    annotated_y = pd.concat(y_dfs)\n",
    "    annotated_X = annotated_X[annotated_y[\"sentiment\"].notnull()]\n",
    "    annotated_y = annotated_y[annotated_y[\"sentiment\"].notnull()]\n",
    "    annotated = annotated_X.join(annotated_y)\n",
    "    annotated.drop_duplicates(subset = [\"sentence_ABSA\", \"entity_name\"], inplace = True)\n",
    "    \n",
    "    #Get total length of data and calculate length of manually labelled LF portion as 5% of total data\n",
    "    total_observations = len(df)\n",
    "    lf_observations = total_observations * 0.05\n",
    "    non_lf_observations = total_observations - lf_observations\n",
    "    \n",
    "    #Merge previous annotations of sentiment into dataframe and set sentiment for remaining rows to np.nan\n",
    "    df = pd.merge(df, \n",
    "                  annotated[[\"sentiment\", \"manual_annotation\", \"sentence_ABSA\", \"entity_name\"]], \n",
    "                  how = \"left\", \n",
    "                  left_on = [\"sentence_ABSA\", \"entity_name\"], \n",
    "                  right_on = [\"sentence_ABSA\", \"entity_name\"])\n",
    "\n",
    "    #Split dataframe into annotated and unannotated version\n",
    "    df_annotated = df[df[\"sentiment\"].notnull()]\n",
    "    df_unannotated = df[df[\"sentiment\"].isnull()]\n",
    "    \n",
    "    #Stratify both dataframes\n",
    "    dfs = [df_annotated, df_unannotated]\n",
    "    for subdf in dfs:\n",
    "        stratify(subdf)\n",
    "\n",
    "    #Split annotated dataframe\n",
    "    X_train_lf, y_train_lf, X_vali_lf, y_vali_lf, X_test_lf, y_test_lf = get_single_splits(df_annotated, stratification = False)\n",
    "     \n",
    "    lf_observations_current = len(y_train_lf) + len(y_vali_lf) + len(y_test_lf)\n",
    "    #If annotated rows form less than 5% of total data, fill remaining share of LF portion with unannotated rows for later manual labelling\n",
    "    if lf_observations_current < lf_observations:\n",
    "        missing_share = (lf_observations - lf_observations_current) / non_lf_observations\n",
    "        annotated_splits = get_single_splits(df_annotated, stratification = True)\n",
    "        unannotated_splits = get_full_splits(df_unannotated, missing_share, stratification = True)\n",
    "        X_train_lf, X_train_non_lf, y_train_lf, y_train_non_lf, X_vali_lf, X_vali_non_lf, y_vali_lf, y_vali_non_lf, X_test_lf, X_test_non_lf, y_test_lf, y_test_non_lf = merge_annotated_unannotated_splits(annotated_splits, unannotated_splits)\n",
    "    #If annotated rows form equal to or more than 5% of total data, no more manual labelling is required, thus, fill LF portion only with annotated rows and non-LF portion only with unannotated rows\n",
    "    else:\n",
    "        X_train_non_lf, y_train_non_lf, X_vali_non_lf, y_vali_non_lf, X_test_non_lf, y_test_non_lf = get_single_splits(df_unannotated, stratification = False)\n",
    "    \n",
    "    return X_train_lf, X_train_non_lf, y_train_lf, y_train_non_lf, X_vali_lf, X_vali_non_lf, y_vali_lf, y_vali_non_lf, X_test_lf, X_test_non_lf, y_test_lf, y_test_non_lf"
   ]
  },
  {
   "cell_type": "code",
   "execution_count": 20,
   "metadata": {},
   "outputs": [],
   "source": [
    "#Dropping duplicates\n",
    "df_unique = df.drop_duplicates(subset = [\"entity_name\", \"sentence_ABSA\", \"medium_name\"])"
   ]
  },
  {
   "cell_type": "code",
   "execution_count": 21,
   "metadata": {},
   "outputs": [],
   "source": [
    "#Merging previously annotated sentences with dataframe and generating splits\n",
    "X_dfs = [X_train_lf_prev, X_vali_lf_prev, X_test_lf_prev]\n",
    "y_dfs = [y_train_lf_prev, y_vali_lf_prev, y_test_lf_prev]\n",
    "  \n",
    "X_train_lf, X_train_non_lf, y_train_lf, y_train_non_lf, X_vali_lf, X_vali_non_lf, y_vali_lf, y_vali_non_lf, X_test_lf, X_test_non_lf, y_test_lf, y_test_non_lf = get_final_splits(X_dfs, y_dfs, df_unique)"
   ]
  },
  {
   "cell_type": "code",
   "execution_count": 22,
   "metadata": {},
   "outputs": [],
   "source": [
    "#Manually annotating and saving to CSV\n",
    "manually_annotate(X_train_lf, y_train_lf)"
   ]
  },
  {
   "cell_type": "code",
   "execution_count": 23,
   "metadata": {},
   "outputs": [],
   "source": [
    "#Manually annotating and saving to CSV\n",
    "manually_annotate(X_vali_lf, y_vali_lf)"
   ]
  },
  {
   "cell_type": "code",
   "execution_count": 24,
   "metadata": {},
   "outputs": [],
   "source": [
    "#Manually annotating and saving to CSV\n",
    "manually_annotate(X_test_lf, y_test_lf)"
   ]
  },
  {
   "cell_type": "code",
   "execution_count": 25,
   "metadata": {},
   "outputs": [
    {
     "name": "stdout",
     "output_type": "stream",
     "text": [
      "No inconsistencies found.\n"
     ]
    }
   ],
   "source": [
    "#Checking inconsistencies in manual annotation\n",
    "X_dfs = [X_train_lf, X_vali_lf, X_test_lf]\n",
    "y_dfs = [y_train_lf, y_vali_lf, y_test_lf]\n",
    "\n",
    "check_inconsistencies_manual_annotation(X_dfs, y_dfs)"
   ]
  },
  {
   "cell_type": "code",
   "execution_count": 27,
   "metadata": {},
   "outputs": [],
   "source": [
    "#Saving manual annotations separately\n",
    "os.chdir(\"..\")\n",
    "os.chdir(\"..\")\n",
    "dfs = [X_train_lf, y_train_lf, X_vali_lf, y_vali_lf, X_test_lf, y_test_lf]\n",
    "for subdf in dfs:\n",
    "    subdf.to_csv(f\"Outputs/Articles/Snorkel/{retrieve_name(subdf)}_manual.csv\")\n",
    "    time.sleep(5)\n",
    "os.chdir(\"Notebooks/Articles\")"
   ]
  },
  {
   "cell_type": "code",
   "execution_count": 28,
   "metadata": {},
   "outputs": [],
   "source": [
    "#Saving manual annotations jointly\n",
    "X = pd.concat([X_train_lf, X_vali_lf, X_test_lf])\n",
    "y = pd.concat([y_train_lf, y_vali_lf, y_test_lf])\n",
    "df_annotated = X.join(y)"
   ]
  },
  {
   "cell_type": "code",
   "execution_count": 29,
   "metadata": {},
   "outputs": [],
   "source": [
    "#Resetting index\n",
    "df_annotated = df_annotated.reset_index()"
   ]
  },
  {
   "cell_type": "code",
   "execution_count": 30,
   "metadata": {},
   "outputs": [],
   "source": [
    "#Sorting values\n",
    "df_annotated = df_annotated.sort_values(by = \"pubtime\").reset_index(drop = True)"
   ]
  },
  {
   "cell_type": "code",
   "execution_count": 31,
   "metadata": {},
   "outputs": [],
   "source": [
    "#Re-mapping sentiment to [-1,1] spectrum\n",
    "sentiment_map = {\"0.0\": 0, \"1.0\": 1, \"2.0\": -1}\n",
    "df_annotated[\"sentiment\"] = df_annotated[\"sentiment\"].apply(lambda x: sentiment_map[str(x)])"
   ]
  },
  {
   "cell_type": "code",
   "execution_count": 32,
   "metadata": {},
   "outputs": [],
   "source": [
    "#Saving to CSV\n",
    "os.chdir(\"..\")\n",
    "os.chdir(\"..\")\n",
    "df_annotated.to_csv(\"Outputs/Articles/Snorkel/manual.csv\")\n",
    "os.chdir(\"Notebooks/Articles\")"
   ]
  },
  {
   "cell_type": "markdown",
   "metadata": {},
   "source": [
    "## Chapter 2: <a class=\"anchor\" id=\"chapter2\"></a> Labelling Functions"
   ]
  },
  {
   "cell_type": "code",
   "execution_count": 33,
   "metadata": {},
   "outputs": [],
   "source": [
    "#Defining function to convert to float\n",
    "def convert_to_float_or_nan(string):\n",
    "    try:\n",
    "        num = float(string)\n",
    "        return num\n",
    "    except:\n",
    "        return np.nan"
   ]
  },
  {
   "cell_type": "code",
   "execution_count": 34,
   "metadata": {},
   "outputs": [],
   "source": [
    "#Defining function to lemmatize tokens\n",
    "def lemmatize(tokens):\n",
    "    spacy_tokens = [nlp(token) for token in tokens]\n",
    "    lemmas = [spacy_token[0].lemma_ for spacy_token in spacy_tokens]\n",
    "    return lemmas"
   ]
  },
  {
   "cell_type": "code",
   "execution_count": 35,
   "metadata": {},
   "outputs": [],
   "source": [
    "#Defining preprocessing function excluding lemmatization\n",
    "def preprocess_excl_lemma(string):\n",
    "    string = string[\"clause_ABSA\"]\n",
    "    \n",
    "    tokens = string.split()\n",
    "    \n",
    "    stopword = set(stopwords.words(\"german\"))\n",
    "    tokens = [token for token in tokens if token not in stopword]\n",
    "    \n",
    "    punctuation = list(st.punctuation)\n",
    "    tokens = [token for token in tokens if token not in punctuation]\n",
    "    \n",
    "    preprocessed_string = \" \".join(tokens)\n",
    "    \n",
    "    return preprocessed_string"
   ]
  },
  {
   "cell_type": "code",
   "execution_count": 36,
   "metadata": {},
   "outputs": [],
   "source": [
    "#Defining preprocessing function including lemmatization\n",
    "def preprocess_incl_lemma(string):\n",
    "    string = string[\"clause_ABSA\"]\n",
    "    \n",
    "    tokens = string.split()\n",
    "    \n",
    "    stopword = set(stopwords.words(\"german\"))\n",
    "    tokens = [token for token in tokens if token not in stopword]\n",
    "    \n",
    "    punctuation = list(st.punctuation)\n",
    "    tokens = [token for token in tokens if token not in punctuation]\n",
    "    \n",
    "    lemmas = lemmatize(tokens)\n",
    "    \n",
    "    preprocessed_string = \" \".join(lemmas)\n",
    "    \n",
    "    return preprocessed_string"
   ]
  },
  {
   "cell_type": "code",
   "execution_count": 37,
   "metadata": {},
   "outputs": [],
   "source": [
    "#Defining function to retrieve score for lexicons\n",
    "def get_score(doc, score_list):\n",
    "    polarity_list = [1 if score > 0 else -1 for score in score_list if score != 0]\n",
    "    polarity = sum(polarity_list)\n",
    "    sentiment = np.where(polarity > 0, 1, np.where(polarity == 0, 0, -1)).flatten()[0]\n",
    "    return polarity"
   ]
  },
  {
   "cell_type": "code",
   "execution_count": 38,
   "metadata": {},
   "outputs": [],
   "source": [
    "#Setting voting values\n",
    "NEUTRAL = 0\n",
    "POSITIVE = 1 \n",
    "NEGATIVE = 2\n",
    "ABSTAIN = -1"
   ]
  },
  {
   "cell_type": "code",
   "execution_count": 39,
   "metadata": {},
   "outputs": [],
   "source": [
    "#Instantiating nlp\n",
    "nlp = spacy.load(\"de_core_news_md\", disable = [\"tagger\", \"parser\", \"ner\"])"
   ]
  },
  {
   "cell_type": "code",
   "execution_count": 40,
   "metadata": {},
   "outputs": [],
   "source": [
    "#Linking to SentiWS\n",
    "sentiws = spaCySentiWS(sentiws_path = \"Resources/SentiWS/\")"
   ]
  },
  {
   "cell_type": "code",
   "execution_count": 41,
   "metadata": {},
   "outputs": [],
   "source": [
    "#Setting PolArt map\n",
    "polart_map = {key: value for key, value in zip(polart_df[\"word\"], polart_df[\"polarity_score\"])}"
   ]
  },
  {
   "cell_type": "code",
   "execution_count": 42,
   "metadata": {},
   "outputs": [],
   "source": [
    "#Setting GERVader map\n",
    "gervader_map = {key: value for key, value in zip(gervader_df[\"word\"], gervader_df[\"polarity\"])}"
   ]
  },
  {
   "cell_type": "code",
   "execution_count": 43,
   "metadata": {},
   "outputs": [],
   "source": [
    "#Setting emotion lexicon map\n",
    "emotion_map = {key: value for key, value in zip(emotion_df[\"word\"], emotion_df[\"polarity\"])}"
   ]
  },
  {
   "cell_type": "markdown",
   "metadata": {},
   "source": [
    "### Section 2.1: <a class=\"anchor\" id=\"section_2_1\"></a> Lexicon-based LFs"
   ]
  },
  {
   "cell_type": "code",
   "execution_count": 44,
   "metadata": {},
   "outputs": [],
   "source": [
    "#Setting labelling function with TextBlob\n",
    "@preprocessor(memoize = True)\n",
    "def textblob_pre(string):\n",
    "    #Preprocessing\n",
    "    preprocessed_string = preprocess_excl_lemma(string)\n",
    "    \n",
    "    #Calculating sentiment\n",
    "    string.polarity = TextBlobDE(preprocessed_string).polarity\n",
    "    \n",
    "    #Calculating subjectivity\n",
    "    string.subjectivity = TextBlobDE(preprocessed_string).subjectivity\n",
    "    \n",
    "    return string\n",
    "\n",
    "@labeling_function(pre = [textblob_pre])\n",
    "def textblob(string):\n",
    "    if string.polarity > 0.5:\n",
    "        return POSITIVE\n",
    "    elif string.polarity < -0.5:\n",
    "        return NEGATIVE\n",
    "    else:\n",
    "        return NEUTRAL"
   ]
  },
  {
   "cell_type": "code",
   "execution_count": 45,
   "metadata": {},
   "outputs": [],
   "source": [
    "#Setting labelling function with SentiWS\n",
    "@preprocessor(memoize = True)\n",
    "def sentiws_pre(string):\n",
    "    #Preprocessing\n",
    "    preprocessed_string = preprocess_excl_lemma(string)\n",
    "    \n",
    "    #Calculating sentiment\n",
    "    doc = nlp(preprocessed_string)\n",
    "    score_list = [0 if token._.sentiws == None else float(token._.sentiws) for token in doc]\n",
    "    string.score = get_score(doc, score_list)\n",
    "    \n",
    "    return string\n",
    "\n",
    "@labeling_function(pre = [sentiws_pre])\n",
    "def sentiws(string):\n",
    "    if string.score >= 2:\n",
    "        return POSITIVE\n",
    "    elif string.score <= -1:\n",
    "        return NEGATIVE\n",
    "    else:\n",
    "        return NEUTRAL"
   ]
  },
  {
   "cell_type": "markdown",
   "metadata": {},
   "source": [
    "### Section 2.2: <a class=\"anchor\" id=\"section_2_2\"></a> Keyword-based LFs"
   ]
  },
  {
   "cell_type": "code",
   "execution_count": 46,
   "metadata": {},
   "outputs": [],
   "source": [
    "#Reading in data\n",
    "#os.chdir(\"..\")\n",
    "#os.chdir(\"..\")\n",
    "#polart_df = pd.read_csv(\"Resources/PolArt/polartlexicon.txt\", sep = \" \", header = None)\n",
    "#os.chdir(\"Notebooks/Articles\")"
   ]
  },
  {
   "cell_type": "code",
   "execution_count": 47,
   "metadata": {},
   "outputs": [],
   "source": [
    "#Manipulating PolArt dataframe\n",
    "#polart_df.columns = [\"word\", \"polarity\", \"pos\"]\n",
    "\n",
    "#polart_df[\"word\"] = polart_df[\"word\"].apply(lambda x: x.lower())\n",
    "#umlaute = [\"ä\", \"ö\", \"ü\"]\n",
    "#substitutes = [\"ae\", \"oe\", \"ue\"]\n",
    "#for umlaut, substitute in zip(umlaute, substitutes):\n",
    "    #polart_df[\"word\"] = polart_df[\"word\"].apply(lambda x: re.sub(umlaut, substitute, x))\n",
    "#polart_df[\"word\"] = polart_df[\"word\"].apply(lambda x: re.sub(\"ß\", \"ss\", x))\n",
    "\n",
    "#polart_df[\"polarity_direction\"] = polart_df[\"polarity\"].apply(lambda x: x.split(\"=\")[0])\n",
    "\n",
    "#polart_df[\"polarity_score\"] = polart_df[\"polarity\"].apply(lambda x: x.split(\"=\")[1])\n",
    "#polart_df[\"polarity_score\"] = polart_df[\"polarity_score\"].apply(lambda x: convert_to_float_or_nan(x))\n",
    "#polart_df[\"polarity_score\"] = polart_df.apply(lambda x: -x[\"polarity_score\"] if x[\"polarity_direction\"] == \"NEG\" else x[\"polarity_score\"], axis = 1)\n",
    "\n",
    "#polart_df.drop([\"polarity\", \"pos\"], axis = 1, inplace = True)"
   ]
  },
  {
   "cell_type": "code",
   "execution_count": 48,
   "metadata": {},
   "outputs": [],
   "source": [
    "#Saving to CSV\n",
    "#os.chdir(\"..\")\n",
    "#os.chdir(\"..\")\n",
    "#polart_df.to_csv(\"Resources/PolArt/polartlexicon.csv\")\n",
    "#os.chdir(\"Notebooks/Articles\")"
   ]
  },
  {
   "cell_type": "code",
   "execution_count": 49,
   "metadata": {},
   "outputs": [],
   "source": [
    "#Setting labelling function with PolArt\n",
    "@labeling_function()\n",
    "def polart(string):\n",
    "    #Preprocessing\n",
    "    preprocessed_string = preprocess_incl_lemma(string)\n",
    "\n",
    "    #Calculating sentiment\n",
    "    doc = nlp(preprocessed_string)\n",
    "    score_list = [polart_map[str(token)] if str(token) in polart_map else 0 for token in doc]\n",
    "    score = get_score(doc, score_list)\n",
    "    \n",
    "    if score >= 2:\n",
    "        return POSITIVE\n",
    "    elif score <= -1:\n",
    "        return NEGATIVE\n",
    "    else:\n",
    "        return NEUTRAL"
   ]
  },
  {
   "cell_type": "code",
   "execution_count": 50,
   "metadata": {},
   "outputs": [],
   "source": [
    "#Reading in data\n",
    "#os.chdir(\"..\")\n",
    "#os.chdir(\"..\")\n",
    "#gervader_df = pd.read_csv(\"Resources/GERVader/GERVaderLexicon.txt\", sep = \"\\t\", header = None)\n",
    "#os.chdir(\"Notebooks/Articles\")"
   ]
  },
  {
   "cell_type": "code",
   "execution_count": 51,
   "metadata": {},
   "outputs": [],
   "source": [
    "#Manipulating GerVader dataframe\n",
    "#gervader_df.columns = [\"word\", \"polarity\", \"normalized_polarity\", \"embedding\"]\n",
    "\n",
    "#gervader_df[\"word\"] = gervader_df[\"word\"].apply(lambda x: x.lower())\n",
    "#umlaute = [\"ä\", \"ö\", \"ü\"]\n",
    "#substitutes = [\"ae\", \"oe\", \"ue\"]\n",
    "#for umlaut, substitute in zip(umlaute, substitutes):\n",
    "    #gervader_df[\"word\"] = gervader_df[\"word\"].apply(lambda x: re.sub(umlaut, substitute, x))\n",
    "#gervader_df[\"word\"] = gervader_df[\"word\"].apply(lambda x: re.sub(\"ß\", \"ss\", x))\n",
    "\n",
    "#gervader_df.drop([\"normalized_polarity\", \"embedding\"], axis = 1, inplace = True)"
   ]
  },
  {
   "cell_type": "code",
   "execution_count": 52,
   "metadata": {},
   "outputs": [],
   "source": [
    "#Saving to CSV\n",
    "#os.chdir(\"..\")\n",
    "#os.chdir(\"..\")\n",
    "#gervader_df.to_csv(\"Resources/GerVader/GERVaderLexicon.csv\")\n",
    "#os.chdir(\"Notebooks/Articles\")"
   ]
  },
  {
   "cell_type": "code",
   "execution_count": 53,
   "metadata": {},
   "outputs": [],
   "source": [
    "#Setting labelling function with GERVader\n",
    "@labeling_function()\n",
    "def gervader(string):\n",
    "    #Preprocessing\n",
    "    preprocessed_string = preprocess_incl_lemma(string)\n",
    "    \n",
    "    #Calculating sentiment\n",
    "    doc = nlp(preprocessed_string)\n",
    "    score_list = [gervader_map[str(token)] if str(token) in gervader_map else 0 for token in doc]\n",
    "    score = get_score(doc, score_list)\n",
    "    \n",
    "    if score >= 2:\n",
    "        return POSITIVE\n",
    "    elif score <= -1:\n",
    "        return NEGATIVE\n",
    "    else:\n",
    "        return NEUTRAL"
   ]
  },
  {
   "cell_type": "code",
   "execution_count": 54,
   "metadata": {},
   "outputs": [],
   "source": [
    "#Reading in data\n",
    "#os.chdir(\"..\")\n",
    "#os.chdir(\"..\")\n",
    "#ekel = pd.read_csv(\"Resources/EmotionLexicon/ekel.txt\", sep = \",\", header = None)\n",
    "#freude = pd.read_csv(\"Resources/EmotionLexicon/freude.txt\", sep = \",\", header = None)\n",
    "#furcht = pd.read_csv(\"Resources/EmotionLexicon/furcht.txt\", sep = \",\", header = None)\n",
    "#liebe = pd.read_csv(\"Resources/EmotionLexicon/liebe.txt\", sep = \",\", header = None)\n",
    "#trauer = pd.read_csv(\"Resources/EmotionLexicon/trauer.txt\", sep = \",\", header = None)\n",
    "#ueberraschung = pd.read_csv(\"Resources/EmotionLexicon/überraschung.txt\", sep = \",\", header = None)\n",
    "#verachtung = pd.read_csv(\"Resources/EmotionLexicon/verachtung.txt\", sep = \",\", header = None)\n",
    "#wut = pd.read_csv(\"Resources/EmotionLexicon/wut.txt\", sep = \",\", header = None)\n",
    "#os.chdir(\"Notebooks/Articles\")"
   ]
  },
  {
   "cell_type": "code",
   "execution_count": 55,
   "metadata": {},
   "outputs": [],
   "source": [
    "#Manipulating emotion lexicon dataframe\n",
    "#dfs = [ekel, freude, furcht, liebe, trauer, ueberraschung, verachtung, wut]\n",
    "#emotions = [\"ekel\", \"freude\", \"furcht\", \"liebe\", \"trauer\", \"ueberraschung\", \"verachtung\", \"wut\"]\n",
    "#for subdf, emotion in zip(dfs, emotions):\n",
    "    #subdf.columns = [\"word\", \"polarity\"]\n",
    "    #subdf[\"emotion\"] = emotion\n",
    "    \n",
    "#emotion_df = pd.concat(dfs)\n",
    "   \n",
    "#emotion_df[\"word\"] = emotion_df[\"word\"].apply(lambda x: x.lower())\n",
    "#umlaute = [\"ä\", \"ö\", \"ü\"]\n",
    "#substitutes = [\"ae\", \"oe\", \"ue\"]\n",
    "#for umlaut, substitute in zip(umlaute, substitutes):\n",
    "    #emotion_df[\"word\"] = emotion_df[\"word\"].apply(lambda x: re.sub(umlaut, substitute, x))\n",
    "#emotion_df[\"word\"] = emotion_df[\"word\"].apply(lambda x: re.sub(\"ß\", \"ss\", x))\n",
    "\n",
    "#negative = [\"ekel\", \"furcht\", \"trauer\", \"verachtung\", \"wut\"]\n",
    "#positive = [\"freude\", \"liebe\"]\n",
    "#emotion_df[\"polarity\"] = emotion_df.apply(lambda x: -x[\"polarity\"] if x[\"emotion\"] in negative else x[\"polarity\"], axis = 1)"
   ]
  },
  {
   "cell_type": "code",
   "execution_count": 56,
   "metadata": {},
   "outputs": [],
   "source": [
    "#Saving to CSV\n",
    "#os.chdir(\"..\")\n",
    "#os.chdir(\"..\")\n",
    "#emotion_df.to_csv(\"Resources/EmotionLexicon/EmotionLexicon.csv\")\n",
    "#os.chdir(\"Notebooks/Articles\")"
   ]
  },
  {
   "cell_type": "code",
   "execution_count": 57,
   "metadata": {},
   "outputs": [],
   "source": [
    "#Setting labelling function with emotion lexicon\n",
    "@labeling_function()\n",
    "def emotion(string):\n",
    "    #Preprocessing\n",
    "    preprocessed_string = preprocess_incl_lemma(string)\n",
    "    \n",
    "    #Calculating sentiment\n",
    "    doc = nlp(preprocessed_string)\n",
    "    score_list = [emotion_map[str(token)] if str(token) in emotion_map else 0 for token in doc]\n",
    "    score = get_score(doc, score_list)\n",
    "    \n",
    "    if score >= 2:\n",
    "        return POSITIVE\n",
    "    elif score <= -1:\n",
    "        return NEGATIVE\n",
    "    else:\n",
    "        return ABSTAIN"
   ]
  },
  {
   "cell_type": "code",
   "execution_count": 58,
   "metadata": {},
   "outputs": [],
   "source": [
    "#Setting labelling function with reference to modal verbs\n",
    "@labeling_function()\n",
    "def modal(string):\n",
    "    #Setting modal verbs\n",
    "    modals = [\"duerfen\", \"darf\", \"duerfte\", \"duerfen\", \"duerften\", \"gedurft\",\n",
    "              \"muessen\", \"muss\", \"muesste\", \"muessen\", \"muessten\", \"gemusst\",\n",
    "              \"sollen\", \"soll\", \"sollte\", \"sollen\", \"sollten\", \"gesollt\"]\n",
    "    regex_match = \"|\".join(modals)\n",
    "    \n",
    "    #Preprocessing\n",
    "    preprocessed_string = preprocess_excl_lemma(string)\n",
    "    \n",
    "    try:\n",
    "        if re.search(regex_match, preprocessed_string):\n",
    "            sentiment = -1\n",
    "        else:\n",
    "            sentiment = np.nan\n",
    "    except:\n",
    "        sentiment = np.nan\n",
    "    \n",
    "    if sentiment == -1:\n",
    "        return NEGATIVE\n",
    "    else:\n",
    "        return ABSTAIN"
   ]
  },
  {
   "cell_type": "code",
   "execution_count": 59,
   "metadata": {},
   "outputs": [],
   "source": [
    "#Setting labelling function with reference to conjunctives\n",
    "@labeling_function()\n",
    "def conjunctive(string):\n",
    "    #Setting modal verbs\n",
    "    conjunctives = [\"haette\\w*\"]\n",
    "    regex_match = \"|\".join(conjunctives)\n",
    "    \n",
    "    #Preprocessing\n",
    "    preprocessed_string = preprocess_excl_lemma(string)\n",
    "    \n",
    "    try:\n",
    "        if re.search(regex_match, preprocessed_string):\n",
    "            sentiment = -1\n",
    "        else:\n",
    "            sentiment = np.nan\n",
    "    except:\n",
    "        sentiment = np.nan\n",
    "    \n",
    "    if sentiment == -1:\n",
    "        return NEGATIVE\n",
    "    else:\n",
    "        return ABSTAIN"
   ]
  },
  {
   "cell_type": "code",
   "execution_count": 60,
   "metadata": {},
   "outputs": [],
   "source": [
    "#Setting labelling function with reference to reproaches\n",
    "@labeling_function()\n",
    "def reproach(string):\n",
    "    #Setting modal verbs\n",
    "    reproaches = [\"vorwu\\w*\" \"werfen .*? vor\", \"wirft .*? vor\", \"warfen .*? vor\", \"wurf .*? vor\", \"vorgewurfen\", \n",
    "                  \"forder\\w*\", \n",
    "                  \"kritis\\w*\", \n",
    "                  \"angreif\\w*\", \"angegriff\\w*\", \"greif\\w* .*? an\", \"griff\\w* .*? an\", \n",
    "                  \"beanstand\\w*\", \n",
    "                  \"missbillig\\w*\",\n",
    "                  \"tadel\\w*\", \n",
    "                  \"monier\\w*\"]\n",
    "    \n",
    "    regex_match = \"|\".join(reproaches)\n",
    "    \n",
    "    #Preprocessing\n",
    "    preprocessed_string = preprocess_excl_lemma(string)\n",
    "    \n",
    "    try:\n",
    "        if re.search(regex_match, preprocessed_string):\n",
    "            sentiment = -1\n",
    "        else:\n",
    "            sentiment = np.nan\n",
    "    except:\n",
    "        sentiment = np.nan\n",
    "    \n",
    "    if sentiment == -1:\n",
    "        return NEGATIVE\n",
    "    else:\n",
    "        return ABSTAIN"
   ]
  },
  {
   "cell_type": "code",
   "execution_count": 61,
   "metadata": {},
   "outputs": [],
   "source": [
    "#Setting labelling function with reference to claims\n",
    "@labeling_function()\n",
    "def claim(string):\n",
    "    #Setting claims\n",
    "    claims = [\"sagt\", \"schreibt\"]\n",
    "    \n",
    "    regex_match = \"|\".join(claims)\n",
    "    \n",
    "    #Preprocessing\n",
    "    preprocessed_string = preprocess_excl_lemma(string)\n",
    "    \n",
    "    try:\n",
    "        if re.search(regex_match, preprocessed_string):\n",
    "            sentiment = 0\n",
    "        else:\n",
    "            sentiment = np.nan\n",
    "    except:\n",
    "        sentiment = np.nan\n",
    "    \n",
    "    if sentiment == 0:\n",
    "        return NEUTRAL\n",
    "    else:\n",
    "        return ABSTAIN"
   ]
  },
  {
   "cell_type": "code",
   "execution_count": 62,
   "metadata": {},
   "outputs": [],
   "source": [
    "#Setting labelling function with reference to positive words\n",
    "@labeling_function()\n",
    "def positive(string):\n",
    "    #Setting claims\n",
    "    positive = [\"gut\", \"positiv\", \"erfreulich\", \n",
    "                \"richtig\", \n",
    "                \"begruesse\\w*\", \"unterstuetze\\w*\", \"vertraue\\w*\"]\n",
    "    \n",
    "    regex_match = \"|\".join(positive)\n",
    "    \n",
    "    #Preprocessing\n",
    "    preprocessed_string = preprocess_excl_lemma(string)\n",
    "    \n",
    "    try:\n",
    "        if re.search(regex_match, preprocessed_string):\n",
    "            sentiment = 1\n",
    "        else:\n",
    "            sentiment = np.nan\n",
    "    except:\n",
    "        sentiment = np.nan\n",
    "    \n",
    "    if sentiment == 1:\n",
    "        return POSITIVE\n",
    "    else:\n",
    "        return ABSTAIN"
   ]
  },
  {
   "cell_type": "markdown",
   "metadata": {},
   "source": [
    "### Section 2.3: <a class=\"anchor\" id=\"section_2_3\"></a> Machine-learning-based LFs"
   ]
  },
  {
   "cell_type": "code",
   "execution_count": 63,
   "metadata": {},
   "outputs": [],
   "source": [
    "#Defining function to return Spacy vectors\n",
    "def get_spacy_vectors(string):\n",
    "    tokens = string.split(\" \")\n",
    "    tokens = [token_split for token in tokens for token_split in token.split(\"_\")]\n",
    "    tokens_string = \" \".join(tokens)\n",
    "    doc = nlp(tokens_string)\n",
    "    dim_y = len(doc)\n",
    "    dim_x = 300\n",
    "    vectors = np.empty((dim_y, dim_x))\n",
    "    for index, token in enumerate(doc):\n",
    "        try:\n",
    "            vector = token.vector\n",
    "            vectors[index] = vector\n",
    "        except:\n",
    "            vectors[index] = 0\n",
    "    return vectors"
   ]
  },
  {
   "cell_type": "code",
   "execution_count": 64,
   "metadata": {},
   "outputs": [],
   "source": [
    "#Creating embedding dataframes\n",
    "X_train_lf_embed = X_train_lf.copy()\n",
    "X_vali_lf_embed = X_vali_lf.copy()\n",
    "X_test_lf_embed = X_test_lf.copy()"
   ]
  },
  {
   "cell_type": "code",
   "execution_count": 65,
   "metadata": {},
   "outputs": [
    {
     "name": "stderr",
     "output_type": "stream",
     "text": [
      "100%|██████████████████████████████████████| 7808/7808 [00:19<00:00, 400.50it/s]\n",
      "100%|██████████████████████████████████████| 1952/1952 [00:05<00:00, 365.58it/s]\n",
      "100%|██████████████████████████████████████| 2440/2440 [00:05<00:00, 415.74it/s]\n"
     ]
    }
   ],
   "source": [
    "#Getting Spacy vectors\n",
    "X_train_lf_embed[\"clause_ABSA_spacy_vectors\"] = X_train_lf_embed[\"clause_ABSA\"].progress_apply(lambda x: get_spacy_vectors(x).mean(axis = 0))\n",
    "X_vali_lf_embed[\"clause_ABSA_spacy_vectors\"] = X_vali_lf_embed[\"clause_ABSA\"].progress_apply(lambda x: get_spacy_vectors(x).mean(axis = 0))\n",
    "X_test_lf_embed[\"clause_ABSA_spacy_vectors\"] = X_test_lf_embed[\"clause_ABSA\"].progress_apply(lambda x: get_spacy_vectors(x).mean(axis = 0))"
   ]
  },
  {
   "cell_type": "code",
   "execution_count": 66,
   "metadata": {},
   "outputs": [],
   "source": [
    "#Instantiating and fitting CountVectorizer\n",
    "cv = CountVectorizer()\n",
    "cv.fit(X_train_non_lf[\"clause_ABSA\"])\n",
    "X_train_lf_vect = cv.transform(X_train_lf[\"clause_ABSA\"])\n",
    "X_vali_lf_vect = cv.transform(X_vali_lf[\"clause_ABSA\"])\n",
    "X_test_lf_vect = cv.transform(X_test_lf[\"clause_ABSA\"])\n",
    "    \n",
    "#Saving fitted CountVectorizer\n",
    "os.chdir(\"..\")\n",
    "os.chdir(\"..\")\n",
    "os.chdir(\"Models/Articles/Snorkel/\")\n",
    "model_name = \"cv_lf.pkl\"\n",
    "with open(model_name, \"wb\") as file:\n",
    "    pickle.dump(cv, file)\n",
    "os.chdir(\"..\")\n",
    "os.chdir(\"..\")\n",
    "os.chdir(\"..\")\n",
    "os.chdir(\"Notebooks/Articles\")"
   ]
  },
  {
   "cell_type": "markdown",
   "metadata": {},
   "source": [
    "#### Logistic regression - Spacy vectors"
   ]
  },
  {
   "cell_type": "code",
   "execution_count": 67,
   "metadata": {},
   "outputs": [
    {
     "data": {
      "text/plain": [
       "{'penalty': 'l2'}"
      ]
     },
     "execution_count": 67,
     "metadata": {},
     "output_type": "execute_result"
    }
   ],
   "source": [
    "#Deriving best parameters for logistic regression\n",
    "log_reg_params = [{\"penalty\": [\"l1\", \"l2\", \"elasticnet\", \"none\"]}]\n",
    "gs = GridSearchCV(LogisticRegression(class_weight = {0: 1, 1: 8, 2: 5}, \n",
    "                                     solver = \"liblinear\"), \n",
    "                  param_grid = log_reg_params,\n",
    "                  cv = 2, \n",
    "                  scoring = \"f1_macro\")\n",
    "gs.fit(X_train_lf_embed[\"clause_ABSA_spacy_vectors\"].to_list(), y_train_lf[\"sentiment\"])\n",
    "best_params_penalty = gs.best_params_\n",
    "best_params_penalty"
   ]
  },
  {
   "cell_type": "code",
   "execution_count": 68,
   "metadata": {},
   "outputs": [
    {
     "data": {
      "image/png": "[encoded data removed]",
      "text/plain": [
       "<Figure size 864x288 with 1 Axes>"
      ]
     },
     "metadata": {
      "needs_background": "light"
     },
     "output_type": "display_data"
    }
   ],
   "source": [
    "#Visualizing hyperparameter tuning\n",
    "#Preparing data\n",
    "y = gs.cv_results_[\"mean_test_score\"][gs.cv_results_[\"mean_test_score\"] > 0]\n",
    "\n",
    "#Creating plot architecture\n",
    "fig, ax = plt.subplots(figsize = (12, 4))\n",
    "sns.despine(top = True)\n",
    "fig.suptitle(\"Logistic regression: Tuning penalty\",\n",
    "             color = \"#696969\",\n",
    "             weight = \"bold\",\n",
    "             size = 12)\n",
    "\n",
    "#Plotting\n",
    "plt.bar([\"l1\", \"l2\"], y, color = \"#E8E8E8\")\n",
    "plt.ylabel(\"F1 macro\")\n",
    "plt.ylim(0, 1)\n",
    "plt.xlabel(\"Penalty\")\n",
    "\n",
    "#Setting parameters\n",
    "ax.patches[1].set_facecolor(\"#add1de\")\n",
    "\n",
    "plt.show()"
   ]
  },
  {
   "cell_type": "code",
   "execution_count": 69,
   "metadata": {},
   "outputs": [
    {
     "data": {
      "text/plain": [
       "{'C': 56.0}"
      ]
     },
     "execution_count": 69,
     "metadata": {},
     "output_type": "execute_result"
    }
   ],
   "source": [
    "#Deriving best parameters for logistic regression\n",
    "log_reg_params = [{\"C\": np.linspace(1, 100, 10)}]\n",
    "gs = GridSearchCV(LogisticRegression(class_weight = {0: 1, 1: 8, 2: 5}, \n",
    "                                     penalty = \"l2\"), \n",
    "                  param_grid = log_reg_params,\n",
    "                  cv = 2, \n",
    "                  scoring = \"f1_macro\")\n",
    "gs.fit(X_train_lf_embed[\"clause_ABSA_spacy_vectors\"].to_list(), y_train_lf[\"sentiment\"])\n",
    "best_params_C = gs.best_params_\n",
    "best_params_C"
   ]
  },
  {
   "cell_type": "code",
   "execution_count": 70,
   "metadata": {},
   "outputs": [
    {
     "data": {
      "image/png": "[encoded data removed]",
      "text/plain": [
       "<Figure size 864x288 with 1 Axes>"
      ]
     },
     "metadata": {
      "needs_background": "light"
     },
     "output_type": "display_data"
    }
   ],
   "source": [
    "#Visualizing hyperparameter tuning\n",
    "#Creating plot architecture\n",
    "fig, ax = plt.subplots(figsize = (12, 4))\n",
    "sns.despine(top = True)\n",
    "fig.suptitle(\"Logistic regression: Tuning C\",\n",
    "             color = \"#696969\",\n",
    "             weight = \"bold\",\n",
    "             size = 12)\n",
    "\n",
    "#Plotting\n",
    "plt.plot(np.linspace(1, 100, 10), abs(gs.cv_results_[\"mean_test_score\"]), color = \"#7ec8d9\")\n",
    "plt.ylabel(\"F1 macro\")\n",
    "plt.ylim(0.5, 1)\n",
    "plt.xlabel(\"C\")\n",
    "plt.xlim(1, 100)\n",
    "\n",
    "plt.show()"
   ]
  },
  {
   "cell_type": "code",
   "execution_count": 71,
   "metadata": {},
   "outputs": [
    {
     "data": {
      "text/plain": [
       "{'solver': 'liblinear'}"
      ]
     },
     "execution_count": 71,
     "metadata": {},
     "output_type": "execute_result"
    }
   ],
   "source": [
    "#Deriving best parameters for logistic regression\n",
    "log_reg_params = [{\"solver\": [\"newton-cg\", \"lbfgs\", \"liblinear\", \"sag\", \"saga\"]}]\n",
    "gs = GridSearchCV(LogisticRegression(class_weight = {0: 1, 1: 8, 2: 5}, \n",
    "                                     penalty = \"l2\", \n",
    "                                     C = best_params_C[\"C\"]), \n",
    "                  param_grid = log_reg_params,\n",
    "                  cv = 2, \n",
    "                  scoring = \"f1_macro\")\n",
    "gs.fit(X_train_lf_embed[\"clause_ABSA_spacy_vectors\"].to_list(), y_train_lf[\"sentiment\"])\n",
    "best_params_solver = gs.best_params_\n",
    "best_params_solver"
   ]
  },
  {
   "cell_type": "code",
   "execution_count": 72,
   "metadata": {},
   "outputs": [
    {
     "data": {
      "image/png": "[encoded data removed]",
      "text/plain": [
       "<Figure size 864x288 with 1 Axes>"
      ]
     },
     "metadata": {
      "needs_background": "light"
     },
     "output_type": "display_data"
    }
   ],
   "source": [
    "#Visualizing hyperparameter tuning\n",
    "#Preparing data\n",
    "gs_results = pd.DataFrame(data = {\"f1_macro\": abs(gs.cv_results_[\"mean_test_score\"]), \n",
    "                                  \"solver\": [\"newton-cg\", \"lbfgs\", \"liblinear\", \"sag\", \"saga\"]})\n",
    "gs_results.sort_values(\"f1_macro\", ascending = False, inplace = True)\n",
    "\n",
    "#Creating plot architecture\n",
    "fig, ax = plt.subplots(figsize = (12, 4))\n",
    "sns.despine(top = True)\n",
    "fig.suptitle(\"Logistic regression: Tuning solver\",\n",
    "             color = \"#696969\",\n",
    "             weight = \"bold\",\n",
    "             size = 12)\n",
    "\n",
    "#Plotting\n",
    "plt.bar(gs_results[\"solver\"], gs_results[\"f1_macro\"], color = \"#E8E8E8\")\n",
    "plt.ylabel(\"F1 macro\")\n",
    "plt.ylim(0, 1)\n",
    "plt.xlabel(\"Penalty\")\n",
    "\n",
    "#Setting parameters\n",
    "ax.patches[0].set_facecolor(\"#add1de\")\n",
    "\n",
    "plt.show()"
   ]
  },
  {
   "cell_type": "code",
   "execution_count": 73,
   "metadata": {},
   "outputs": [
    {
     "data": {
      "text/plain": [
       "LogisticRegression(C=45, class_weight={0: 1, 1: 8, 2: 5}, random_state=1,\n",
       "                   solver='liblinear')"
      ]
     },
     "execution_count": 73,
     "metadata": {},
     "output_type": "execute_result"
    }
   ],
   "source": [
    "#Fitting logistic regression\n",
    "log_reg = LogisticRegression(class_weight = {0: 1, 1: 8, 2: 5},\n",
    "                             penalty = \"l2\",\n",
    "                             C = 45, #best_params_C[\"C\"], \n",
    "                             solver = \"liblinear\", #best_params_solver[\"solver\"], \n",
    "                             random_state = 1)\n",
    "log_reg.fit(X_train_lf_embed[\"clause_ABSA_spacy_vectors\"].to_list(), y_train_lf[\"sentiment\"])"
   ]
  },
  {
   "cell_type": "code",
   "execution_count": 74,
   "metadata": {},
   "outputs": [
    {
     "name": "stdout",
     "output_type": "stream",
     "text": [
      "              precision    recall  f1-score   support\n",
      "\n",
      "         0.0       0.92      0.90      0.91      1976\n",
      "         1.0       0.45      0.52      0.49       124\n",
      "         2.0       0.57      0.60      0.58       340\n",
      "\n",
      "    accuracy                           0.84      2440\n",
      "   macro avg       0.64      0.67      0.66      2440\n",
      "weighted avg       0.84      0.84      0.84      2440\n",
      "\n"
     ]
    }
   ],
   "source": [
    "#Evaluating logistic regression\n",
    "y_test_lf_pred = log_reg.predict(X_test_lf_embed[\"clause_ABSA_spacy_vectors\"].to_list())\n",
    "print(classification_report(y_test_lf[\"sentiment\"], y_test_lf_pred))"
   ]
  },
  {
   "cell_type": "code",
   "execution_count": 75,
   "metadata": {},
   "outputs": [],
   "source": [
    "#Saving fitted model\n",
    "os.chdir(\"..\")\n",
    "os.chdir(\"..\")\n",
    "os.chdir(\"Models/Articles/Snorkel/\")\n",
    "model_name = \"log_reg_spacy_lf.pkl\"\n",
    "with open(model_name, \"wb\") as file:\n",
    "    pickle.dump(log_reg, file)\n",
    "os.chdir(\"..\")\n",
    "os.chdir(\"..\")\n",
    "os.chdir(\"..\")\n",
    "os.chdir(\"Notebooks/Articles\")"
   ]
  },
  {
   "cell_type": "code",
   "execution_count": 76,
   "metadata": {},
   "outputs": [],
   "source": [
    "#Setting labelling function with logistic regression\n",
    "@labeling_function()\n",
    "def log_reg_spacy_lf(string):\n",
    "    #Opening models\n",
    "    os.chdir(\"..\")\n",
    "    os.chdir(\"..\")\n",
    "    os.chdir(\"Models/Articles/Snorkel/\")\n",
    "    with open(\"log_reg_spacy_lf.pkl\", \"rb\") as file:\n",
    "        model = pickle.load(file)\n",
    "    os.chdir(\"..\")\n",
    "    os.chdir(\"..\")\n",
    "    os.chdir(\"..\")\n",
    "    os.chdir(\"Notebooks/Articles\")\n",
    "        \n",
    "    #Embed\n",
    "    X = get_spacy_vectors(string[\"clause_ABSA\"])\n",
    "    \n",
    "    #Prediction\n",
    "    score = model.predict(X)\n",
    "\n",
    "    return score[0]"
   ]
  },
  {
   "cell_type": "markdown",
   "metadata": {},
   "source": [
    "#### Logistic regression - CountVectorizer"
   ]
  },
  {
   "cell_type": "code",
   "execution_count": 77,
   "metadata": {},
   "outputs": [
    {
     "data": {
      "text/plain": [
       "{'penalty': 'l2'}"
      ]
     },
     "execution_count": 77,
     "metadata": {},
     "output_type": "execute_result"
    }
   ],
   "source": [
    "#Deriving best parameters for logistic regression\n",
    "log_reg_params = [{\"penalty\": [\"l1\", \"l2\", \"elasticnet\", \"none\"]}]\n",
    "gs = GridSearchCV(LogisticRegression(class_weight = {0: 1, 1: 8, 2: 5}, \n",
    "                                     solver = \"liblinear\"), \n",
    "                  param_grid = log_reg_params,\n",
    "                  cv = 5, \n",
    "                  scoring = \"f1_macro\")\n",
    "gs.fit(X_train_lf_vect, y_train_lf[\"sentiment\"])\n",
    "best_params_penalty = gs.best_params_\n",
    "best_params_penalty"
   ]
  },
  {
   "cell_type": "code",
   "execution_count": 78,
   "metadata": {},
   "outputs": [
    {
     "data": {
      "image/png": "[encoded data removed]",
      "text/plain": [
       "<Figure size 864x288 with 1 Axes>"
      ]
     },
     "metadata": {
      "needs_background": "light"
     },
     "output_type": "display_data"
    }
   ],
   "source": [
    "#Visualizing hyperparameter tuning\n",
    "#Preparing data\n",
    "y = gs.cv_results_[\"mean_test_score\"][gs.cv_results_[\"mean_test_score\"] > 0]\n",
    "\n",
    "#Creating plot architecture\n",
    "fig, ax = plt.subplots(figsize = (12, 4))\n",
    "sns.despine(top = True)\n",
    "fig.suptitle(\"Logistic regression: Tuning penalty\",\n",
    "             color = \"#696969\",\n",
    "             weight = \"bold\",\n",
    "             size = 12)\n",
    "\n",
    "#Plotting\n",
    "plt.bar([\"l1\", \"l2\"], y, color = \"#E8E8E8\")\n",
    "plt.ylabel(\"F1 macro\")\n",
    "plt.ylim(0, 1)\n",
    "plt.xlabel(\"Penalty\")\n",
    "\n",
    "#Setting parameters\n",
    "ax.patches[1].set_facecolor(\"#add1de\")\n",
    "\n",
    "plt.show()"
   ]
  },
  {
   "cell_type": "code",
   "execution_count": 79,
   "metadata": {},
   "outputs": [
    {
     "data": {
      "text/plain": [
       "{'C': 3.34}"
      ]
     },
     "execution_count": 79,
     "metadata": {},
     "output_type": "execute_result"
    }
   ],
   "source": [
    "#Deriving best parameters for logistic regression\n",
    "log_reg_params = [{\"C\": np.linspace(0.01, 10, 10)}]\n",
    "gs = GridSearchCV(LogisticRegression(class_weight = {0: 1, 1: 8, 2: 5}, \n",
    "                                     penalty = \"l2\"), \n",
    "                  param_grid = log_reg_params,\n",
    "                  cv = 5, \n",
    "                  scoring = \"f1_macro\")\n",
    "gs.fit(X_train_lf_vect, y_train_lf[\"sentiment\"])\n",
    "best_params_C = gs.best_params_\n",
    "best_params_C"
   ]
  },
  {
   "cell_type": "code",
   "execution_count": 80,
   "metadata": {},
   "outputs": [
    {
     "data": {
      "image/png": "[encoded data removed]",
      "text/plain": [
       "<Figure size 864x288 with 1 Axes>"
      ]
     },
     "metadata": {
      "needs_background": "light"
     },
     "output_type": "display_data"
    }
   ],
   "source": [
    "#Visualizing hyperparameter tuning\n",
    "#Creating plot architecture\n",
    "fig, ax = plt.subplots(figsize = (12, 4))\n",
    "sns.despine(top = True)\n",
    "fig.suptitle(\"Logistic regression: Tuning C\",\n",
    "             color = \"#696969\",\n",
    "             weight = \"bold\",\n",
    "             size = 12)\n",
    "\n",
    "#Plotting\n",
    "plt.plot(np.linspace(0.01, 10, 10), abs(gs.cv_results_[\"mean_test_score\"]), color = \"#7ec8d9\")\n",
    "plt.ylabel(\"F1 macro\")\n",
    "plt.ylim(0.5, 1)\n",
    "plt.xlabel(\"C\")\n",
    "plt.xlim(0.01, 10)\n",
    "\n",
    "plt.show()"
   ]
  },
  {
   "cell_type": "code",
   "execution_count": 81,
   "metadata": {},
   "outputs": [
    {
     "data": {
      "text/plain": [
       "{'solver': 'liblinear'}"
      ]
     },
     "execution_count": 81,
     "metadata": {},
     "output_type": "execute_result"
    }
   ],
   "source": [
    "#Deriving best parameters for logistic regression\n",
    "log_reg_params = [{\"solver\": [\"newton-cg\", \"lbfgs\", \"liblinear\", \"sag\", \"saga\"]}]\n",
    "gs = GridSearchCV(LogisticRegression(class_weight = {0: 1, 1: 8, 2: 5}, \n",
    "                                     penalty = \"l2\", \n",
    "                                     C = best_params_C[\"C\"]), \n",
    "                  param_grid = log_reg_params,\n",
    "                  cv = 5, \n",
    "                  scoring = \"f1_macro\")\n",
    "gs.fit(X_train_lf_vect, y_train_lf[\"sentiment\"])\n",
    "best_params_solver = gs.best_params_\n",
    "best_params_solver"
   ]
  },
  {
   "cell_type": "code",
   "execution_count": 82,
   "metadata": {},
   "outputs": [
    {
     "data": {
      "image/png": "[encoded data removed]",
      "text/plain": [
       "<Figure size 864x288 with 1 Axes>"
      ]
     },
     "metadata": {
      "needs_background": "light"
     },
     "output_type": "display_data"
    }
   ],
   "source": [
    "#Visualizing hyperparameter tuning\n",
    "#Preparing data\n",
    "gs_results = pd.DataFrame(data = {\"f1_macro\": abs(gs.cv_results_[\"mean_test_score\"]), \n",
    "                                  \"solver\": [\"newton-cg\", \"lbfgs\", \"liblinear\", \"sag\", \"saga\"]})\n",
    "gs_results.sort_values(\"f1_macro\", ascending = False, inplace = True)\n",
    "\n",
    "#Creating plot architecture\n",
    "fig, ax = plt.subplots(figsize = (12, 4))\n",
    "sns.despine(top = True)\n",
    "fig.suptitle(\"Logistic regression: Tuning solver\",\n",
    "             color = \"#696969\",\n",
    "             weight = \"bold\",\n",
    "             size = 12)\n",
    "\n",
    "#Plotting\n",
    "plt.bar(gs_results[\"solver\"], gs_results[\"f1_macro\"], color = \"#E8E8E8\")\n",
    "plt.ylabel(\"F1 macro\")\n",
    "plt.ylim(0, 1)\n",
    "plt.xlabel(\"Penalty\")\n",
    "\n",
    "#Setting parameters\n",
    "ax.patches[0].set_facecolor(\"#add1de\")\n",
    "\n",
    "plt.show()"
   ]
  },
  {
   "cell_type": "code",
   "execution_count": 83,
   "metadata": {},
   "outputs": [
    {
     "data": {
      "text/plain": [
       "LogisticRegression(C=3.34, class_weight={0: 1, 1: 8, 2: 5}, random_state=1,\n",
       "                   solver='liblinear')"
      ]
     },
     "execution_count": 83,
     "metadata": {},
     "output_type": "execute_result"
    }
   ],
   "source": [
    "#Fitting logistic regression\n",
    "log_reg = LogisticRegression(class_weight = {0: 1, 1: 8, 2: 5},\n",
    "                             penalty = \"l2\",\n",
    "                             C = best_params_C[\"C\"], \n",
    "                             solver = best_params_solver[\"solver\"], \n",
    "                             random_state = 1)\n",
    "log_reg.fit(X_train_lf_vect, y_train_lf[\"sentiment\"])"
   ]
  },
  {
   "cell_type": "code",
   "execution_count": 84,
   "metadata": {},
   "outputs": [
    {
     "name": "stdout",
     "output_type": "stream",
     "text": [
      "              precision    recall  f1-score   support\n",
      "\n",
      "         0.0       0.95      0.98      0.96      1976\n",
      "         1.0       0.88      0.70      0.78       124\n",
      "         2.0       0.91      0.77      0.83       340\n",
      "\n",
      "    accuracy                           0.94      2440\n",
      "   macro avg       0.91      0.82      0.86      2440\n",
      "weighted avg       0.94      0.94      0.94      2440\n",
      "\n"
     ]
    }
   ],
   "source": [
    "#Evaluating logistic regression\n",
    "y_test_lf_pred = log_reg.predict(X_test_lf_vect)\n",
    "print(classification_report(y_test_lf[\"sentiment\"], y_test_lf_pred))"
   ]
  },
  {
   "cell_type": "code",
   "execution_count": 85,
   "metadata": {},
   "outputs": [],
   "source": [
    "#Saving fitted model\n",
    "os.chdir(\"..\")\n",
    "os.chdir(\"..\")\n",
    "os.chdir(\"Models/Articles/Snorkel/\")\n",
    "model_name = \"log_reg_cv_lf.pkl\"\n",
    "with open(model_name, \"wb\") as file:\n",
    "    pickle.dump(log_reg, file)\n",
    "os.chdir(\"..\")\n",
    "os.chdir(\"..\")\n",
    "os.chdir(\"..\")\n",
    "os.chdir(\"Notebooks/Articles\")"
   ]
  },
  {
   "cell_type": "code",
   "execution_count": 86,
   "metadata": {},
   "outputs": [],
   "source": [
    "#Setting labelling function with logistic regression\n",
    "@labeling_function()\n",
    "def log_reg_cv_lf(string):\n",
    "    #Opening models\n",
    "    os.chdir(\"..\")\n",
    "    os.chdir(\"..\")\n",
    "    os.chdir(\"Models/Articles/Snorkel/\")\n",
    "    with open(\"cv_lf.pkl\", \"rb\") as file:\n",
    "        cv = pickle.load(file)\n",
    "    with open(\"log_reg_cv_lf.pkl\", \"rb\") as file:\n",
    "        model = pickle.load(file)\n",
    "    os.chdir(\"..\")\n",
    "    os.chdir(\"..\")\n",
    "    os.chdir(\"..\")\n",
    "    os.chdir(\"Notebooks/Articles\")\n",
    "        \n",
    "    #CountVectorizer transform\n",
    "    X = cv.transform(pd.Series(string[\"clause_ABSA\"]))\n",
    "    \n",
    "    #Prediction\n",
    "    score = model.predict(X)\n",
    "\n",
    "    return score[0]"
   ]
  },
  {
   "cell_type": "markdown",
   "metadata": {},
   "source": [
    "#### SVM - Spacy vectors"
   ]
  },
  {
   "cell_type": "code",
   "execution_count": 87,
   "metadata": {},
   "outputs": [
    {
     "data": {
      "text/plain": [
       "{'kernel': 'poly'}"
      ]
     },
     "execution_count": 87,
     "metadata": {},
     "output_type": "execute_result"
    }
   ],
   "source": [
    "#Deriving best parameters for SVM\n",
    "svm_params = [{\"kernel\": [\"linear\", \"poly\", \"rbf\", \"sigmoid\"]}] \n",
    "gs = GridSearchCV(SVC(class_weight = {0: 1, 1: 8, 2: 5}), \n",
    "                  param_grid = svm_params,\n",
    "                  cv = 2, \n",
    "                  scoring = \"f1_macro\")\n",
    "gs.fit(X_train_lf_embed[\"clause_ABSA_spacy_vectors\"].to_list(), y_train_lf[\"sentiment\"])\n",
    "best_params_kernel = gs.best_params_\n",
    "best_params_kernel"
   ]
  },
  {
   "cell_type": "code",
   "execution_count": 88,
   "metadata": {},
   "outputs": [
    {
     "data": {
      "image/png": "[encoded data removed]",
      "text/plain": [
       "<Figure size 864x288 with 1 Axes>"
      ]
     },
     "metadata": {
      "needs_background": "light"
     },
     "output_type": "display_data"
    }
   ],
   "source": [
    "#Visualizing hyperparameter tuning\n",
    "#Preparing data\n",
    "gs_results = pd.DataFrame(data = {\"f1_macro\": abs(gs.cv_results_[\"mean_test_score\"]), \n",
    "                                  \"kernel\": [\"linear\", \"poly\", \"rbf\", \"sigmoid\"]})\n",
    "gs_results.sort_values(\"f1_macro\", ascending = False, inplace = True)\n",
    "\n",
    "#Creating plot architecture\n",
    "fig, ax = plt.subplots(figsize = (12, 4))\n",
    "sns.despine(top = True)\n",
    "fig.suptitle(\"SVM: Tuning kernel\",\n",
    "             color = \"#696969\",\n",
    "             weight = \"bold\",\n",
    "             size = 12)\n",
    "\n",
    "#Plotting\n",
    "plt.bar(gs_results[\"kernel\"], gs_results[\"f1_macro\"], color = \"#E8E8E8\")\n",
    "plt.ylabel(\"F1 macro\")\n",
    "plt.ylim(0, 1)\n",
    "plt.xlabel(\"Kernel\")\n",
    "\n",
    "#Setting parameters\n",
    "ax.patches[0].set_facecolor(\"#add1de\")\n",
    "\n",
    "plt.show()"
   ]
  },
  {
   "cell_type": "code",
   "execution_count": 89,
   "metadata": {},
   "outputs": [
    {
     "data": {
      "text/plain": [
       "{'gamma': 0.112}"
      ]
     },
     "execution_count": 89,
     "metadata": {},
     "output_type": "execute_result"
    }
   ],
   "source": [
    "#Deriving best parameters for SVM\n",
    "svm_params = [{\"gamma\": np.linspace(0.001, 1, 10)}] \n",
    "gs = GridSearchCV(SVC(class_weight = {0: 1, 1: 8, 2: 5},\n",
    "                      kernel = best_params_kernel[\"kernel\"]), \n",
    "                  param_grid = svm_params,\n",
    "                  cv = 2, \n",
    "                  scoring = \"f1_macro\")\n",
    "gs.fit(X_train_lf_embed[\"clause_ABSA_spacy_vectors\"].to_list(), y_train_lf[\"sentiment\"])\n",
    "best_params_gamma = gs.best_params_\n",
    "best_params_gamma"
   ]
  },
  {
   "cell_type": "code",
   "execution_count": 90,
   "metadata": {},
   "outputs": [
    {
     "data": {
      "image/png": "[encoded data removed]",
      "text/plain": [
       "<Figure size 864x288 with 1 Axes>"
      ]
     },
     "metadata": {
      "needs_background": "light"
     },
     "output_type": "display_data"
    }
   ],
   "source": [
    "#Visualizing hyperparameter tuning\n",
    "#Creating plot architecture\n",
    "fig, ax = plt.subplots(figsize = (12, 4))\n",
    "sns.despine(top = True)\n",
    "fig.suptitle(\"SVM: Tuning gamma\",\n",
    "             color = \"#696969\",\n",
    "             weight = \"bold\",\n",
    "             size = 12)\n",
    "\n",
    "#Plotting\n",
    "plt.plot(np.linspace(0.001, 1, 10), abs(gs.cv_results_[\"mean_test_score\"]), color = \"#7ec8d9\")\n",
    "plt.ylabel(\"F1 macro\")\n",
    "plt.ylim(0, 1)\n",
    "plt.xlabel(\"Gamma\")\n",
    "plt.xlim(0.01, 1)\n",
    "\n",
    "plt.show()"
   ]
  },
  {
   "cell_type": "code",
   "execution_count": 91,
   "metadata": {},
   "outputs": [
    {
     "data": {
      "text/plain": [
       "{'C': 0.001}"
      ]
     },
     "execution_count": 91,
     "metadata": {},
     "output_type": "execute_result"
    }
   ],
   "source": [
    "#Deriving best parameters for SVM\n",
    "svm_params = [{\"C\": np.linspace(0.001, 1, 10)}] \n",
    "gs = GridSearchCV(SVC(class_weight = {0: 1, 1: 8, 2: 5},\n",
    "                      kernel = best_params_kernel[\"kernel\"], \n",
    "                      gamma = best_params_gamma[\"gamma\"]), \n",
    "                  param_grid = svm_params,\n",
    "                  cv = 2, \n",
    "                  scoring = \"f1_macro\")\n",
    "gs.fit(X_train_lf_embed[\"clause_ABSA_spacy_vectors\"].to_list(), y_train_lf[\"sentiment\"])\n",
    "best_params_C = gs.best_params_\n",
    "best_params_C"
   ]
  },
  {
   "cell_type": "code",
   "execution_count": 92,
   "metadata": {},
   "outputs": [
    {
     "data": {
      "image/png": "[encoded data removed]",
      "text/plain": [
       "<Figure size 864x288 with 1 Axes>"
      ]
     },
     "metadata": {
      "needs_background": "light"
     },
     "output_type": "display_data"
    }
   ],
   "source": [
    "#Visualizing hyperparameter tuning\n",
    "#Creating plot architecture\n",
    "fig, ax = plt.subplots(figsize = (12, 4))\n",
    "sns.despine(top = True)\n",
    "fig.suptitle(\"SVM: Tuning C\",\n",
    "             color = \"#696969\",\n",
    "             weight = \"bold\",\n",
    "             size = 12)\n",
    "\n",
    "#Plotting\n",
    "plt.plot(np.linspace(0.001, 1, 10), abs(gs.cv_results_[\"mean_test_score\"]), color = \"#7ec8d9\")\n",
    "plt.ylabel(\"F1 macro\")\n",
    "plt.ylim(0.5, 1)\n",
    "plt.xlabel(\"C\")\n",
    "plt.xlim(0.001, 1)\n",
    "\n",
    "plt.show()"
   ]
  },
  {
   "cell_type": "code",
   "execution_count": 93,
   "metadata": {},
   "outputs": [
    {
     "data": {
      "text/plain": [
       "SVC(C=0.001, class_weight={0: 1, 1: 8, 2: 5}, gamma=0.112, kernel='poly',\n",
       "    random_state=1)"
      ]
     },
     "execution_count": 93,
     "metadata": {},
     "output_type": "execute_result"
    }
   ],
   "source": [
    "#Fitting SVM\n",
    "svm = SVC(class_weight = {0: 1, 1: 8, 2: 5},\n",
    "          kernel = best_params_kernel[\"kernel\"], \n",
    "          gamma = best_params_gamma[\"gamma\"],\n",
    "          C = best_params_C[\"C\"],\n",
    "          random_state = 1)\n",
    "svm.fit(X_train_lf_embed[\"clause_ABSA_spacy_vectors\"].to_list(), y_train_lf[\"sentiment\"])"
   ]
  },
  {
   "cell_type": "code",
   "execution_count": 94,
   "metadata": {},
   "outputs": [
    {
     "name": "stdout",
     "output_type": "stream",
     "text": [
      "              precision    recall  f1-score   support\n",
      "\n",
      "         0.0       0.95      0.97      0.96      1976\n",
      "         1.0       0.73      0.70      0.72       124\n",
      "         2.0       0.87      0.79      0.83       340\n",
      "\n",
      "    accuracy                           0.93      2440\n",
      "   macro avg       0.85      0.82      0.83      2440\n",
      "weighted avg       0.93      0.93      0.93      2440\n",
      "\n"
     ]
    }
   ],
   "source": [
    "#Evaluating SVM\n",
    "y_test_lf_pred = svm.predict(X_test_lf_embed[\"clause_ABSA_spacy_vectors\"].to_list())\n",
    "print(classification_report(y_test_lf[\"sentiment\"], y_test_lf_pred))"
   ]
  },
  {
   "cell_type": "code",
   "execution_count": 95,
   "metadata": {},
   "outputs": [],
   "source": [
    "#Saving fitted model\n",
    "os.chdir(\"..\")\n",
    "os.chdir(\"..\")\n",
    "os.chdir(\"Models/Articles/Snorkel/\")\n",
    "model_name = \"svm_spacy_lf.pkl\"\n",
    "with open(model_name, \"wb\") as file:\n",
    "    pickle.dump(svm, file)\n",
    "os.chdir(\"..\")\n",
    "os.chdir(\"..\")\n",
    "os.chdir(\"..\")\n",
    "os.chdir(\"Notebooks/Articles\")"
   ]
  },
  {
   "cell_type": "code",
   "execution_count": 96,
   "metadata": {},
   "outputs": [],
   "source": [
    "#Setting labelling function with SVM\n",
    "@labeling_function()\n",
    "def svm_spacy_lf(string):\n",
    "    #Opening models\n",
    "    os.chdir(\"..\")\n",
    "    os.chdir(\"..\")\n",
    "    os.chdir(\"Models/Articles/Snorkel/\")\n",
    "    with open(\"svm_spacy_lf.pkl\", \"rb\") as file:\n",
    "        model = pickle.load(file)\n",
    "    os.chdir(\"..\")\n",
    "    os.chdir(\"..\")\n",
    "    os.chdir(\"..\")\n",
    "    os.chdir(\"Notebooks/Articles\")\n",
    "        \n",
    "    #Embed\n",
    "    X = get_spacy_vectors(string[\"clause_ABSA\"])\n",
    "    \n",
    "    #Prediction\n",
    "    score = model.predict(X)\n",
    "\n",
    "    return score[0]"
   ]
  },
  {
   "cell_type": "markdown",
   "metadata": {},
   "source": [
    "#### SVM - CountVectorizer"
   ]
  },
  {
   "cell_type": "code",
   "execution_count": 97,
   "metadata": {},
   "outputs": [
    {
     "data": {
      "text/plain": [
       "{'kernel': 'rbf'}"
      ]
     },
     "execution_count": 97,
     "metadata": {},
     "output_type": "execute_result"
    }
   ],
   "source": [
    "#Deriving best parameters for SVM\n",
    "svm_params = [{\"kernel\": [\"linear\", \"poly\", \"rbf\", \"sigmoid\"]}] \n",
    "gs = GridSearchCV(SVC(class_weight = {0: 1, 1: 8, 2: 5}), \n",
    "                  param_grid = svm_params,\n",
    "                  cv = 5, \n",
    "                  scoring = \"f1_macro\")\n",
    "gs.fit(X_train_lf_vect, y_train_lf[\"sentiment\"])\n",
    "best_params_kernel = gs.best_params_\n",
    "best_params_kernel"
   ]
  },
  {
   "cell_type": "code",
   "execution_count": 98,
   "metadata": {},
   "outputs": [
    {
     "data": {
      "image/png": "[encoded data removed]",
      "text/plain": [
       "<Figure size 864x288 with 1 Axes>"
      ]
     },
     "metadata": {
      "needs_background": "light"
     },
     "output_type": "display_data"
    }
   ],
   "source": [
    "#Visualizing hyperparameter tuning\n",
    "#Preparing data\n",
    "gs_results = pd.DataFrame(data = {\"f1_macro\": abs(gs.cv_results_[\"mean_test_score\"]), \n",
    "                                  \"kernel\": [\"linear\", \"poly\", \"rbf\", \"sigmoid\"]})\n",
    "gs_results.sort_values(\"f1_macro\", ascending = False, inplace = True)\n",
    "\n",
    "#Creating plot architecture\n",
    "fig, ax = plt.subplots(figsize = (12, 4))\n",
    "sns.despine(top = True)\n",
    "fig.suptitle(\"SVM: Tuning kernel\",\n",
    "             color = \"#696969\",\n",
    "             weight = \"bold\",\n",
    "             size = 12)\n",
    "\n",
    "#Plotting\n",
    "plt.bar(gs_results[\"kernel\"], gs_results[\"f1_macro\"], color = \"#E8E8E8\")\n",
    "plt.ylabel(\"F1 macro\")\n",
    "plt.ylim(0, 1)\n",
    "plt.xlabel(\"Kernel\")\n",
    "\n",
    "#Setting parameters\n",
    "ax.patches[0].set_facecolor(\"#add1de\")\n",
    "\n",
    "plt.show()"
   ]
  },
  {
   "cell_type": "code",
   "execution_count": 99,
   "metadata": {},
   "outputs": [
    {
     "data": {
      "text/plain": [
       "{'gamma': 0.112}"
      ]
     },
     "execution_count": 99,
     "metadata": {},
     "output_type": "execute_result"
    }
   ],
   "source": [
    "#Deriving best parameters for SVM\n",
    "svm_params = [{\"gamma\": np.linspace(0.001, 1, 10)}] \n",
    "gs = GridSearchCV(SVC(class_weight = {0: 1, 1: 8, 2: 5},\n",
    "                      kernel = best_params_kernel[\"kernel\"]), \n",
    "                  param_grid = svm_params,\n",
    "                  cv = 5, \n",
    "                  scoring = \"f1_macro\")\n",
    "gs.fit(X_train_lf_vect, y_train_lf[\"sentiment\"])\n",
    "best_params_gamma = gs.best_params_\n",
    "best_params_gamma"
   ]
  },
  {
   "cell_type": "code",
   "execution_count": 100,
   "metadata": {},
   "outputs": [
    {
     "data": {
      "image/png": "[encoded data removed]",
      "text/plain": [
       "<Figure size 864x288 with 1 Axes>"
      ]
     },
     "metadata": {
      "needs_background": "light"
     },
     "output_type": "display_data"
    }
   ],
   "source": [
    "#Visualizing hyperparameter tuning\n",
    "#Creating plot architecture\n",
    "fig, ax = plt.subplots(figsize = (12, 4))\n",
    "sns.despine(top = True)\n",
    "fig.suptitle(\"SVM: Tuning gamma\",\n",
    "             color = \"#696969\",\n",
    "             weight = \"bold\",\n",
    "             size = 12)\n",
    "\n",
    "#Plotting\n",
    "plt.plot(np.linspace(0.001, 1, 10), abs(gs.cv_results_[\"mean_test_score\"]), color = \"#7ec8d9\")\n",
    "plt.ylabel(\"F1 macro\")\n",
    "plt.ylim(0, 1)\n",
    "plt.xlabel(\"Gamma\")\n",
    "plt.xlim(0.01, 1)\n",
    "\n",
    "plt.show()"
   ]
  },
  {
   "cell_type": "code",
   "execution_count": 101,
   "metadata": {},
   "outputs": [
    {
     "data": {
      "text/plain": [
       "{'C': 0.8}"
      ]
     },
     "execution_count": 101,
     "metadata": {},
     "output_type": "execute_result"
    }
   ],
   "source": [
    "#Deriving best parameters for SVM\n",
    "svm_params = [{\"C\": np.linspace(0.1, 1, 10)}] \n",
    "gs = GridSearchCV(SVC(class_weight = {0: 1, 1: 8, 2: 5},\n",
    "                      kernel = best_params_kernel[\"kernel\"], \n",
    "                      gamma = best_params_gamma[\"gamma\"]), \n",
    "                  param_grid = svm_params,\n",
    "                  cv = 5, \n",
    "                  scoring = \"f1_macro\")\n",
    "gs.fit(X_train_lf_vect, y_train_lf[\"sentiment\"])\n",
    "best_params_C = gs.best_params_\n",
    "best_params_C"
   ]
  },
  {
   "cell_type": "code",
   "execution_count": 102,
   "metadata": {},
   "outputs": [
    {
     "data": {
      "image/png": "[encoded data removed]",
      "text/plain": [
       "<Figure size 864x288 with 1 Axes>"
      ]
     },
     "metadata": {
      "needs_background": "light"
     },
     "output_type": "display_data"
    }
   ],
   "source": [
    "#Visualizing hyperparameter tuning\n",
    "#Creating plot architecture\n",
    "fig, ax = plt.subplots(figsize = (12, 4))\n",
    "sns.despine(top = True)\n",
    "fig.suptitle(\"SVM: Tuning C\",\n",
    "             color = \"#696969\",\n",
    "             weight = \"bold\",\n",
    "             size = 12)\n",
    "\n",
    "#Plotting\n",
    "plt.plot(np.linspace(0.1, 1, 10), abs(gs.cv_results_[\"mean_test_score\"]), color = \"#7ec8d9\")\n",
    "plt.ylabel(\"F1 macro\")\n",
    "plt.ylim(0.5, 1)\n",
    "plt.xlabel(\"C\")\n",
    "plt.xlim(0.1, 1)\n",
    "\n",
    "plt.show()"
   ]
  },
  {
   "cell_type": "code",
   "execution_count": 103,
   "metadata": {},
   "outputs": [
    {
     "data": {
      "text/plain": [
       "SVC(C=0.8, class_weight={0: 1, 1: 8, 2: 5}, gamma=0.112, random_state=1)"
      ]
     },
     "execution_count": 103,
     "metadata": {},
     "output_type": "execute_result"
    }
   ],
   "source": [
    "#Fitting SVM\n",
    "svm = SVC(class_weight = {0: 1, 1: 8, 2: 5},\n",
    "          kernel = best_params_kernel[\"kernel\"], \n",
    "          gamma = best_params_gamma[\"gamma\"],\n",
    "          C = best_params_C[\"C\"],\n",
    "          random_state = 1)\n",
    "svm.fit(X_train_lf_vect, y_train_lf[\"sentiment\"])"
   ]
  },
  {
   "cell_type": "code",
   "execution_count": 104,
   "metadata": {},
   "outputs": [
    {
     "name": "stdout",
     "output_type": "stream",
     "text": [
      "              precision    recall  f1-score   support\n",
      "\n",
      "         0.0       0.94      1.00      0.97      1976\n",
      "         1.0       0.98      0.69      0.81       124\n",
      "         2.0       1.00      0.74      0.85       340\n",
      "\n",
      "    accuracy                           0.95      2440\n",
      "   macro avg       0.97      0.81      0.87      2440\n",
      "weighted avg       0.95      0.95      0.94      2440\n",
      "\n"
     ]
    }
   ],
   "source": [
    "#Evaluating SVM\n",
    "y_test_lf_pred = svm.predict(X_test_lf_vect)\n",
    "print(classification_report(y_test_lf[\"sentiment\"], y_test_lf_pred))"
   ]
  },
  {
   "cell_type": "code",
   "execution_count": 105,
   "metadata": {},
   "outputs": [],
   "source": [
    "#Saving fitted model\n",
    "os.chdir(\"..\")\n",
    "os.chdir(\"..\")\n",
    "os.chdir(\"Models/Articles/Snorkel/\")\n",
    "model_name = \"svm_cv_lf.pkl\"\n",
    "with open(model_name, \"wb\") as file:\n",
    "    pickle.dump(svm, file)\n",
    "os.chdir(\"..\")\n",
    "os.chdir(\"..\")\n",
    "os.chdir(\"..\")\n",
    "os.chdir(\"Notebooks/Articles\")"
   ]
  },
  {
   "cell_type": "code",
   "execution_count": 106,
   "metadata": {},
   "outputs": [],
   "source": [
    "#Setting labelling function with SVM\n",
    "@labeling_function()\n",
    "def svm_cv_lf(string):\n",
    "    #Opening models\n",
    "    os.chdir(\"..\")\n",
    "    os.chdir(\"..\")\n",
    "    os.chdir(\"Models/Articles/Snorkel/\")\n",
    "    with open(\"cv_lf.pkl\", \"rb\") as file:\n",
    "        cv = pickle.load(file)\n",
    "    with open(\"svm_cv_lf.pkl\", \"rb\") as file:\n",
    "        model = pickle.load(file)\n",
    "    os.chdir(\"..\")\n",
    "    os.chdir(\"..\")\n",
    "    os.chdir(\"..\")\n",
    "    os.chdir(\"Notebooks/Articles\")\n",
    "        \n",
    "    #CountVectorizer transform\n",
    "    X = cv.transform(pd.Series(string[\"clause_ABSA\"]))\n",
    "    \n",
    "    #Prediction\n",
    "    score = model.predict(X)\n",
    "\n",
    "    return score[0]"
   ]
  },
  {
   "cell_type": "markdown",
   "metadata": {},
   "source": [
    "#### XGBoost - Spacy vectors"
   ]
  },
  {
   "cell_type": "code",
   "execution_count": 107,
   "metadata": {},
   "outputs": [
    {
     "data": {
      "text/plain": [
       "{'booster': 'gbtree'}"
      ]
     },
     "execution_count": 107,
     "metadata": {},
     "output_type": "execute_result"
    }
   ],
   "source": [
    "#Deriving best parameters for XGBoost\n",
    "xgbr_params = [{\"booster\": [\"gbtree\", \"gblinear\", \"dart\"]}]\n",
    "gs = GridSearchCV(xg.XGBClassifier(), \n",
    "                  param_grid = xgbr_params,\n",
    "                  cv = 2, \n",
    "                  scoring = \"f1_macro\")\n",
    "gs.fit(X_train_lf_embed[\"clause_ABSA_spacy_vectors\"].to_list(), y_train_lf[\"sentiment\"])\n",
    "best_params_booster = gs.best_params_\n",
    "best_params_booster"
   ]
  },
  {
   "cell_type": "code",
   "execution_count": 108,
   "metadata": {},
   "outputs": [
    {
     "data": {
      "image/png": "[encoded data removed]",
      "text/plain": [
       "<Figure size 864x288 with 1 Axes>"
      ]
     },
     "metadata": {
      "needs_background": "light"
     },
     "output_type": "display_data"
    }
   ],
   "source": [
    "#Visualizing hyperparameter tuning\n",
    "#Preparing data\n",
    "gs_results = pd.DataFrame(data = {\"f1_macro\": abs(gs.cv_results_[\"mean_test_score\"]), \n",
    "                                  \"booster\": [\"gbtree\", \"gblinear\", \"dart\"]})\n",
    "gs_results.sort_values(\"f1_macro\", ascending = False, inplace = True)\n",
    "\n",
    "#Creating plot architecture\n",
    "fig, ax = plt.subplots(figsize = (12, 4))\n",
    "sns.despine(top = True)\n",
    "fig.suptitle(\"XGBoost: Tuning booster\",\n",
    "             color = \"#696969\",\n",
    "             weight = \"bold\",\n",
    "             size = 12)\n",
    "\n",
    "#Plotting\n",
    "plt.bar(gs_results[\"booster\"], gs_results[\"f1_macro\"], color = \"#E8E8E8\")\n",
    "plt.ylabel(\"F1 macro\")\n",
    "plt.ylim(0, 1)\n",
    "plt.xlabel(\"Booster\")\n",
    "\n",
    "#Setting parameters\n",
    "ax.patches[0].set_facecolor(\"#add1de\")\n",
    "\n",
    "plt.show()"
   ]
  },
  {
   "cell_type": "code",
   "execution_count": 109,
   "metadata": {},
   "outputs": [
    {
     "data": {
      "text/plain": [
       "{'learning_rate': 0.30000000000000004}"
      ]
     },
     "execution_count": 109,
     "metadata": {},
     "output_type": "execute_result"
    }
   ],
   "source": [
    "#Deriving best parameters for XGBoost\n",
    "xgbr_params = [{\"learning_rate\": np.linspace(0.1, 1, num = 10)}]\n",
    "gs = GridSearchCV(xg.XGBClassifier(booster = \"gbtree\"), \n",
    "                  param_grid = xgbr_params,\n",
    "                  cv = 2, \n",
    "                  scoring = \"f1_macro\")\n",
    "gs.fit(X_train_lf_embed[\"clause_ABSA_spacy_vectors\"].to_list(), y_train_lf[\"sentiment\"])\n",
    "best_params_learning_rate = gs.best_params_\n",
    "best_params_learning_rate"
   ]
  },
  {
   "cell_type": "code",
   "execution_count": 110,
   "metadata": {},
   "outputs": [
    {
     "data": {
      "image/png": "[encoded data removed]",
      "text/plain": [
       "<Figure size 864x288 with 1 Axes>"
      ]
     },
     "metadata": {
      "needs_background": "light"
     },
     "output_type": "display_data"
    }
   ],
   "source": [
    "#Visualizing hyperparameter tuning\n",
    "#Creating plot architecture\n",
    "fig, ax = plt.subplots(figsize = (12, 4))\n",
    "sns.despine(top = True)\n",
    "fig.suptitle(\"XGBoost: Tuning learning rate\",\n",
    "             color = \"#696969\",\n",
    "             weight = \"bold\",\n",
    "             size = 12)\n",
    "\n",
    "#Plotting\n",
    "plt.plot(np.linspace(0.1, 1, num = 10), abs(gs.cv_results_[\"mean_test_score\"]), color = \"#7ec8d9\")\n",
    "plt.ylabel(\"F1 macro\")\n",
    "plt.ylim(0.5, 1)\n",
    "plt.xlabel(\"Learning rate\")\n",
    "plt.xlim(0.1, 1)\n",
    "\n",
    "plt.show()"
   ]
  },
  {
   "cell_type": "code",
   "execution_count": 111,
   "metadata": {},
   "outputs": [
    {
     "data": {
      "text/plain": [
       "{'max_depth': 4}"
      ]
     },
     "execution_count": 111,
     "metadata": {},
     "output_type": "execute_result"
    }
   ],
   "source": [
    "#Deriving best parameters for XGBoost\n",
    "xgbr_params = [{\"max_depth\": [4,5,6,7,8,9,10]}]\n",
    "gs = GridSearchCV(xg.XGBClassifier(booster = \"gbtree\",\n",
    "                                   #best_params_booster[\"booster\"], \n",
    "                                   learning_rate = best_params_learning_rate[\"learning_rate\"]), \n",
    "                  param_grid = xgbr_params,\n",
    "                  cv = 2, \n",
    "                  scoring = \"f1_macro\")\n",
    "gs.fit(X_train_lf_embed[\"clause_ABSA_spacy_vectors\"].to_list(), y_train_lf[\"sentiment\"])\n",
    "best_params_max_depth = gs.best_params_\n",
    "best_params_max_depth"
   ]
  },
  {
   "cell_type": "code",
   "execution_count": 112,
   "metadata": {},
   "outputs": [
    {
     "data": {
      "image/png": "[encoded data removed]",
      "text/plain": [
       "<Figure size 864x288 with 1 Axes>"
      ]
     },
     "metadata": {
      "needs_background": "light"
     },
     "output_type": "display_data"
    }
   ],
   "source": [
    "#Visualizing hyperparameter tuning\n",
    "#Creating plot architecture\n",
    "fig, ax = plt.subplots(figsize = (12, 4))\n",
    "sns.despine(top = True)\n",
    "fig.suptitle(\"XGBoost: Tuning maximum depth\",\n",
    "             color = \"#696969\",\n",
    "             weight = \"bold\",\n",
    "             size = 12)\n",
    "\n",
    "#Plotting\n",
    "plt.plot([4,5,6,7,8,9,10], abs(gs.cv_results_[\"mean_test_score\"]), color = \"#7ec8d9\")\n",
    "plt.ylabel(\"F1 macro\")\n",
    "plt.ylim(0.5, 1)\n",
    "plt.xlabel(\"Maximum depth\")\n",
    "plt.xlim(4, 10)\n",
    "\n",
    "plt.show()"
   ]
  },
  {
   "cell_type": "code",
   "execution_count": 113,
   "metadata": {},
   "outputs": [
    {
     "data": {
      "text/plain": [
       "{'subsample': 0.75}"
      ]
     },
     "execution_count": 113,
     "metadata": {},
     "output_type": "execute_result"
    }
   ],
   "source": [
    "#Deriving best parameters for XGBoost\n",
    "xgbr_params = [{\"subsample\": np.linspace(0.5, 1, num = 5)}]\n",
    "gs = GridSearchCV(xg.XGBClassifier(booster = \"gbtree\",\n",
    "                                   #best_params_booster[\"booster\"],\n",
    "                                   learning_rate = best_params_learning_rate[\"learning_rate\"],\n",
    "                                   max_depth = best_params_max_depth[\"max_depth\"]), \n",
    "                  param_grid = xgbr_params,\n",
    "                  cv = 2, \n",
    "                  scoring = \"f1_macro\")\n",
    "gs.fit(X_train_lf_embed[\"clause_ABSA_spacy_vectors\"].to_list(), y_train_lf[\"sentiment\"])\n",
    "best_params_subsample = gs.best_params_\n",
    "best_params_subsample"
   ]
  },
  {
   "cell_type": "code",
   "execution_count": 114,
   "metadata": {},
   "outputs": [
    {
     "data": {
      "image/png": "[encoded data removed]",
      "text/plain": [
       "<Figure size 864x288 with 1 Axes>"
      ]
     },
     "metadata": {
      "needs_background": "light"
     },
     "output_type": "display_data"
    }
   ],
   "source": [
    "#Visualizing hyperparameter tuning\n",
    "#Creating plot architecture\n",
    "fig, ax = plt.subplots(figsize = (12, 4))\n",
    "sns.despine(top = True)\n",
    "fig.suptitle(\"XGBoost: Tuning subsample\",\n",
    "             color = \"#696969\",\n",
    "             weight = \"bold\",\n",
    "             size = 12)\n",
    "\n",
    "#Plotting\n",
    "plt.plot(np.linspace(0.5, 1, num = 5), abs(gs.cv_results_[\"mean_test_score\"]), color = \"#7ec8d9\")\n",
    "plt.ylabel(\"F1 macro\")\n",
    "plt.ylim(0.5, 1)\n",
    "plt.xlabel(\"Sample fraction considered at each split\")\n",
    "plt.xlim(0.5, 1.0)\n",
    "\n",
    "plt.show()"
   ]
  },
  {
   "cell_type": "code",
   "execution_count": 115,
   "metadata": {},
   "outputs": [
    {
     "data": {
      "text/plain": [
       "{'colsample_bytree': 1.0}"
      ]
     },
     "execution_count": 115,
     "metadata": {},
     "output_type": "execute_result"
    }
   ],
   "source": [
    "#Deriving best parameters for XGBoost\n",
    "xgbr_params = [{\"colsample_bytree\": np.linspace(0.5, 1, num = 5)}]\n",
    "gs = GridSearchCV(xg.XGBClassifier(booster = \"gbtree\",\n",
    "                                   #best_params_booster[\"booster\"],\n",
    "                                   learning_rate = best_params_learning_rate[\"learning_rate\"],\n",
    "                                   max_depth = best_params_max_depth[\"max_depth\"],\n",
    "                                   subsample = best_params_subsample[\"subsample\"]), \n",
    "                  param_grid = xgbr_params,\n",
    "                  cv = 2, \n",
    "                  scoring = \"f1_macro\")\n",
    "gs.fit(X_train_lf_embed[\"clause_ABSA_spacy_vectors\"].to_list(), y_train_lf[\"sentiment\"])\n",
    "best_params_colsample = gs.best_params_\n",
    "best_params_colsample"
   ]
  },
  {
   "cell_type": "code",
   "execution_count": 116,
   "metadata": {},
   "outputs": [
    {
     "data": {
      "image/png": "[encoded data removed]",
      "text/plain": [
       "<Figure size 864x288 with 1 Axes>"
      ]
     },
     "metadata": {
      "needs_background": "light"
     },
     "output_type": "display_data"
    }
   ],
   "source": [
    "#Visualizing hyperparameter tuning\n",
    "#Creating plot architecture\n",
    "fig, ax = plt.subplots(figsize = (12, 4))\n",
    "sns.despine(top = True)\n",
    "fig.suptitle(\"XGBoost: Tuning column sample\",\n",
    "             color = \"#696969\",\n",
    "             weight = \"bold\",\n",
    "             size = 12)\n",
    "\n",
    "#Plotting\n",
    "plt.plot(np.linspace(0.5, 1, num = 5), abs(gs.cv_results_[\"mean_test_score\"]), color = \"#7ec8d9\")\n",
    "plt.ylabel(\"F1 macro\")\n",
    "plt.ylim(0.5, 1)\n",
    "plt.xlabel(\"Column fraction considered at each split\")\n",
    "plt.xlim(0.5, 1)\n",
    "\n",
    "plt.show()"
   ]
  },
  {
   "cell_type": "code",
   "execution_count": 117,
   "metadata": {},
   "outputs": [
    {
     "data": {
      "text/plain": [
       "{'n_estimators': 107}"
      ]
     },
     "execution_count": 117,
     "metadata": {},
     "output_type": "execute_result"
    }
   ],
   "source": [
    "#Deriving hyperparameters for XGBoost\n",
    "rndf_params = [{\"n_estimators\": [x for x in range(50, 150, 3)]}]\n",
    "gs = GridSearchCV(xg.XGBClassifier(booster = \"gbtree\",\n",
    "                                   #best_params_booster[\"booster\"],\n",
    "                                   learning_rate = best_params_learning_rate[\"learning_rate\"],\n",
    "                                   max_depth = best_params_max_depth[\"max_depth\"],\n",
    "                                   subsample = best_params_subsample[\"subsample\"], \n",
    "                                   colsample_bytree = best_params_colsample[\"colsample_bytree\"]), \n",
    "                  param_grid = rndf_params,\n",
    "                  cv = 2, \n",
    "                  scoring = \"f1_macro\")\n",
    "gs.fit(X_train_lf_embed[\"clause_ABSA_spacy_vectors\"].to_list(), y_train_lf[\"sentiment\"])\n",
    "best_params_estimators = gs.best_params_\n",
    "best_params_estimators"
   ]
  },
  {
   "cell_type": "code",
   "execution_count": 118,
   "metadata": {},
   "outputs": [
    {
     "data": {
      "image/png": "[encoded data removed]",
      "text/plain": [
       "<Figure size 864x288 with 1 Axes>"
      ]
     },
     "metadata": {
      "needs_background": "light"
     },
     "output_type": "display_data"
    }
   ],
   "source": [
    "#Visualizing hyperparameter tuning\n",
    "#Creating plot architecture\n",
    "fig, ax = plt.subplots(figsize = (12, 4))\n",
    "sns.despine(top = True)\n",
    "fig.suptitle(\"XGBoost: Tuning number of estimators\",\n",
    "             color = \"#696969\",\n",
    "             weight = \"bold\",\n",
    "             size = 12)\n",
    "\n",
    "#Plotting\n",
    "plt.plot([x for x in range(50, 150, 3)], abs(gs.cv_results_[\"mean_test_score\"]), color = \"#7ec8d9\")\n",
    "plt.ylabel(\"F1 macro\")\n",
    "plt.ylim(0.5, 1)\n",
    "plt.xlabel(\"Number of estimators\")\n",
    "plt.xlim(50, 150)\n",
    "\n",
    "plt.show()"
   ]
  },
  {
   "cell_type": "code",
   "execution_count": 119,
   "metadata": {},
   "outputs": [
    {
     "data": {
      "text/plain": [
       "{'gamma': 0.030000000000000006}"
      ]
     },
     "execution_count": 119,
     "metadata": {},
     "output_type": "execute_result"
    }
   ],
   "source": [
    "#Deriving hyperparameters for XGBoost\n",
    "rndf_params = [{\"gamma\": np.linspace(0.005, 0.05, 10)}]\n",
    "gs = GridSearchCV(xg.XGBClassifier(booster = \"gbtree\",\n",
    "                                   #best_params_booster[\"booster\"],\n",
    "                                   learning_rate = best_params_learning_rate[\"learning_rate\"],\n",
    "                                   max_depth = best_params_max_depth[\"max_depth\"],\n",
    "                                   subsample = best_params_subsample[\"subsample\"], \n",
    "                                   colsample_bytree = best_params_colsample[\"colsample_bytree\"], \n",
    "                                   n_estimators = best_params_estimators[\"n_estimators\"]), \n",
    "                  param_grid = rndf_params,\n",
    "                  cv = 2, \n",
    "                  scoring = \"f1_macro\")\n",
    "gs.fit(X_train_lf_embed[\"clause_ABSA_spacy_vectors\"].to_list(), y_train_lf[\"sentiment\"])\n",
    "best_params_gamma = gs.best_params_\n",
    "best_params_gamma"
   ]
  },
  {
   "cell_type": "code",
   "execution_count": 120,
   "metadata": {},
   "outputs": [
    {
     "data": {
      "image/png": "[encoded data removed]",
      "text/plain": [
       "<Figure size 864x288 with 1 Axes>"
      ]
     },
     "metadata": {
      "needs_background": "light"
     },
     "output_type": "display_data"
    }
   ],
   "source": [
    "#Visualizing hyperparameter tuning\n",
    "#Creating plot architecture\n",
    "fig, ax = plt.subplots(figsize = (12, 4))\n",
    "sns.despine(top = True)\n",
    "fig.suptitle(\"XGBoost: Tuning gamma\",\n",
    "             color = \"#696969\",\n",
    "             weight = \"bold\",\n",
    "             size = 12)\n",
    "\n",
    "#Plotting\n",
    "plt.plot(np.linspace(0.005, 0.05, 10), abs(gs.cv_results_[\"mean_test_score\"]), color = \"#7ec8d9\")\n",
    "plt.ylabel(\"F1 macro\")\n",
    "plt.ylim(0.5, 1)\n",
    "plt.xlabel(\"Gamma\")\n",
    "plt.xlim(0.005, 0.05)\n",
    "\n",
    "plt.show()"
   ]
  },
  {
   "cell_type": "code",
   "execution_count": 121,
   "metadata": {},
   "outputs": [
    {
     "data": {
      "text/plain": [
       "XGBClassifier(base_score=0.5, booster='gbtree', callbacks=None,\n",
       "              colsample_bylevel=1, colsample_bynode=1, colsample_bytree=1.0,\n",
       "              early_stopping_rounds=None, enable_categorical=False,\n",
       "              eval_metric=None, gamma=0.030000000000000006, gpu_id=-1,\n",
       "              grow_policy='depthwise', importance_type=None,\n",
       "              interaction_constraints='', learning_rate=0.30000000000000004,\n",
       "              max_bin=256, max_cat_to_onehot=4, max_delta_step=0, max_depth=4,\n",
       "              max_leaves=0, min_child_weight=1, missing=nan,\n",
       "              monotone_constraints='()', n_estimators=107, n_jobs=0,\n",
       "              num_parallel_tree=1, objective='multi:softprob', predictor='auto',\n",
       "              random_state=1, reg_alpha=0, ...)"
      ]
     },
     "execution_count": 121,
     "metadata": {},
     "output_type": "execute_result"
    }
   ],
   "source": [
    "#Fitting XGBoost\n",
    "xgbr = xg.XGBClassifier(objective = \"binary:f1_macro\", \n",
    "                        booster = \"gbtree\",\n",
    "                        #best_params_booster[\"booster\"],\n",
    "                        learning_rate = best_params_learning_rate[\"learning_rate\"],\n",
    "                        max_depth = int(best_params_max_depth[\"max_depth\"]),\n",
    "                        subsample = best_params_subsample[\"subsample\"],\n",
    "                        colsample_bytree = best_params_colsample[\"colsample_bytree\"], \n",
    "                        n_estimators = best_params_estimators[\"n_estimators\"],\n",
    "                        gamma = best_params_gamma[\"gamma\"],\n",
    "                        random_state = 1)\n",
    "xgbr.fit(X_train_lf_embed[\"clause_ABSA_spacy_vectors\"].to_list(), y_train_lf[\"sentiment\"])"
   ]
  },
  {
   "cell_type": "code",
   "execution_count": 122,
   "metadata": {},
   "outputs": [
    {
     "name": "stdout",
     "output_type": "stream",
     "text": [
      "              precision    recall  f1-score   support\n",
      "\n",
      "         0.0       0.94      0.99      0.97      1976\n",
      "         1.0       0.94      0.67      0.78       124\n",
      "         2.0       0.97      0.75      0.85       340\n",
      "\n",
      "    accuracy                           0.94      2440\n",
      "   macro avg       0.95      0.80      0.86      2440\n",
      "weighted avg       0.94      0.94      0.94      2440\n",
      "\n"
     ]
    }
   ],
   "source": [
    "#Evaluating XGBoost\n",
    "y_test_lf_pred = xgbr.predict(X_test_lf_embed[\"clause_ABSA_spacy_vectors\"].to_list())\n",
    "print(classification_report(y_test_lf[\"sentiment\"], y_test_lf_pred))"
   ]
  },
  {
   "cell_type": "code",
   "execution_count": 123,
   "metadata": {},
   "outputs": [],
   "source": [
    "#Saving fitted model\n",
    "os.chdir(\"..\")\n",
    "os.chdir(\"..\")\n",
    "os.chdir(\"Models/Articles/Snorkel/\")\n",
    "model_name = \"xgbr_spacy_lf.pkl\"\n",
    "with open(model_name, \"wb\") as file:\n",
    "    pickle.dump(xgbr, file)\n",
    "os.chdir(\"..\")\n",
    "os.chdir(\"..\")\n",
    "os.chdir(\"..\")\n",
    "os.chdir(\"Notebooks/Articles\")"
   ]
  },
  {
   "cell_type": "code",
   "execution_count": 124,
   "metadata": {},
   "outputs": [],
   "source": [
    "#Setting labelling function with XGBR\n",
    "@labeling_function()\n",
    "def xgbr_spacy_lf(string):\n",
    "    #Opening models\n",
    "    os.chdir(\"..\")\n",
    "    os.chdir(\"..\")\n",
    "    os.chdir(\"Models/Articles/Snorkel/\")\n",
    "    with open(\"xgbr_spacy_lf.pkl\", \"rb\") as file:\n",
    "        model = pickle.load(file)\n",
    "    os.chdir(\"..\")\n",
    "    os.chdir(\"..\")\n",
    "    os.chdir(\"..\")\n",
    "    os.chdir(\"Notebooks/Articles\")\n",
    "        \n",
    "    #Embed\n",
    "    X = get_spacy_vectors(string[\"clause_ABSA\"])\n",
    "    \n",
    "    #Prediction\n",
    "    score = model.predict(X)\n",
    "\n",
    "    return score[0]"
   ]
  },
  {
   "cell_type": "markdown",
   "metadata": {},
   "source": [
    "#### XGBoost - CountVectorizer"
   ]
  },
  {
   "cell_type": "code",
   "execution_count": 125,
   "metadata": {},
   "outputs": [
    {
     "data": {
      "text/plain": [
       "{'booster': 'gblinear'}"
      ]
     },
     "execution_count": 125,
     "metadata": {},
     "output_type": "execute_result"
    }
   ],
   "source": [
    "#Deriving best parameters for XGBoost\n",
    "xgbr_params = [{\"booster\": [\"gbtree\", \"gblinear\", \"dart\"]}]\n",
    "gs = GridSearchCV(xg.XGBClassifier(), \n",
    "                  param_grid = xgbr_params,\n",
    "                  cv = 5, \n",
    "                  scoring = \"f1_macro\")\n",
    "gs.fit(X_train_lf_vect, y_train_lf[\"sentiment\"])\n",
    "best_params_booster = gs.best_params_\n",
    "best_params_booster"
   ]
  },
  {
   "cell_type": "code",
   "execution_count": 126,
   "metadata": {},
   "outputs": [
    {
     "data": {
      "image/png": "[encoded data removed]",
      "text/plain": [
       "<Figure size 864x288 with 1 Axes>"
      ]
     },
     "metadata": {
      "needs_background": "light"
     },
     "output_type": "display_data"
    }
   ],
   "source": [
    "#Visualizing hyperparameter tuning\n",
    "#Preparing data\n",
    "gs_results = pd.DataFrame(data = {\"f1_macro\": abs(gs.cv_results_[\"mean_test_score\"]), \n",
    "                                  \"booster\": [\"gbtree\", \"gblinear\", \"dart\"]})\n",
    "gs_results.sort_values(\"f1_macro\", ascending = False, inplace = True)\n",
    "\n",
    "#Creating plot architecture\n",
    "fig, ax = plt.subplots(figsize = (12, 4))\n",
    "sns.despine(top = True)\n",
    "fig.suptitle(\"XGBoost: Tuning booster\",\n",
    "             color = \"#696969\",\n",
    "             weight = \"bold\",\n",
    "             size = 12)\n",
    "\n",
    "#Plotting\n",
    "plt.bar(gs_results[\"booster\"], gs_results[\"f1_macro\"], color = \"#E8E8E8\")\n",
    "plt.ylabel(\"F1 macro\")\n",
    "plt.ylim(0, 1)\n",
    "plt.xlabel(\"Booster\")\n",
    "\n",
    "#Setting parameters\n",
    "ax.patches[0].set_facecolor(\"#add1de\")\n",
    "\n",
    "plt.show()"
   ]
  },
  {
   "cell_type": "code",
   "execution_count": 127,
   "metadata": {},
   "outputs": [
    {
     "data": {
      "text/plain": [
       "{'learning_rate': 1.2000000000000002}"
      ]
     },
     "execution_count": 127,
     "metadata": {},
     "output_type": "execute_result"
    }
   ],
   "source": [
    "#Deriving best parameters for XGBoost\n",
    "xgbr_params = [{\"learning_rate\": np.linspace(0.1, 10, 10)}]\n",
    "gs = GridSearchCV(xg.XGBClassifier(booster = \"gbtree\"), \n",
    "                  param_grid = xgbr_params,\n",
    "                  cv = 5, \n",
    "                  scoring = \"f1_macro\")\n",
    "gs.fit(X_train_lf_vect, y_train_lf[\"sentiment\"])\n",
    "best_params_learning_rate = gs.best_params_\n",
    "best_params_learning_rate"
   ]
  },
  {
   "cell_type": "code",
   "execution_count": 128,
   "metadata": {},
   "outputs": [
    {
     "data": {
      "image/png": "[encoded data removed]",
      "text/plain": [
       "<Figure size 864x288 with 1 Axes>"
      ]
     },
     "metadata": {
      "needs_background": "light"
     },
     "output_type": "display_data"
    }
   ],
   "source": [
    "# Visualizing hyperparameter tuning\n",
    "#Creating plot architecture\n",
    "fig, ax = plt.subplots(figsize = (12, 4))\n",
    "sns.despine(top = True)\n",
    "fig.suptitle(\"XGBoost: Tuning learning rate\",\n",
    "             color = \"#696969\",\n",
    "             weight = \"bold\",\n",
    "             size = 12)\n",
    "\n",
    "#Plotting\n",
    "plt.plot(np.linspace(0.1, 10, 10), abs(gs.cv_results_[\"mean_test_score\"]), color = \"#7ec8d9\")\n",
    "plt.ylabel(\"F1 macro\")\n",
    "plt.ylim(0, 1)\n",
    "plt.xlabel(\"Learning rate\")\n",
    "plt.xlim(0.1, 10)\n",
    "\n",
    "plt.show()"
   ]
  },
  {
   "cell_type": "code",
   "execution_count": 129,
   "metadata": {},
   "outputs": [
    {
     "data": {
      "text/plain": [
       "{'max_depth': 18}"
      ]
     },
     "execution_count": 129,
     "metadata": {},
     "output_type": "execute_result"
    }
   ],
   "source": [
    "#Deriving best parameters for XGBoost\n",
    "xgbr_params = [{\"max_depth\": [8,10,12,14,16,18]}]\n",
    "gs = GridSearchCV(xg.XGBClassifier(booster = \"gbtree\",\n",
    "                                   #best_params_booster[\"booster\"], \n",
    "                                   learning_rate = best_params_learning_rate[\"learning_rate\"]), \n",
    "                  param_grid = xgbr_params,\n",
    "                  cv = 5, \n",
    "                  scoring = \"f1_macro\")\n",
    "gs.fit(X_train_lf_vect, y_train_lf[\"sentiment\"])\n",
    "best_params_max_depth = gs.best_params_\n",
    "best_params_max_depth"
   ]
  },
  {
   "cell_type": "code",
   "execution_count": 130,
   "metadata": {},
   "outputs": [
    {
     "data": {
      "image/png": "[encoded data removed]",
      "text/plain": [
       "<Figure size 864x288 with 1 Axes>"
      ]
     },
     "metadata": {
      "needs_background": "light"
     },
     "output_type": "display_data"
    }
   ],
   "source": [
    "#Visualizing hyperparameter tuning\n",
    "#Creating plot architecture\n",
    "fig, ax = plt.subplots(figsize = (12, 4))\n",
    "sns.despine(top = True)\n",
    "fig.suptitle(\"XGBoost: Tuning maximum depth\",\n",
    "             color = \"#696969\",\n",
    "             weight = \"bold\",\n",
    "             size = 12)\n",
    "\n",
    "#Plotting\n",
    "plt.plot([8,10,12,14,16,18], abs(gs.cv_results_[\"mean_test_score\"]), color = \"#7ec8d9\")\n",
    "plt.ylabel(\"F1 macro\")\n",
    "plt.ylim(0.5, 1)\n",
    "plt.xlabel(\"Maximum depth\")\n",
    "plt.xlim(8,18)\n",
    "\n",
    "plt.show()"
   ]
  },
  {
   "cell_type": "code",
   "execution_count": 131,
   "metadata": {},
   "outputs": [
    {
     "data": {
      "text/plain": [
       "{'subsample': 1.0}"
      ]
     },
     "execution_count": 131,
     "metadata": {},
     "output_type": "execute_result"
    }
   ],
   "source": [
    "#Deriving best parameters for XGBoost\n",
    "xgbr_params = [{\"subsample\": np.linspace(0.5, 1, num = 5)}]\n",
    "gs = GridSearchCV(xg.XGBClassifier(booster = \"gbtree\",\n",
    "                                   #best_params_booster[\"booster\"],\n",
    "                                   learning_rate = best_params_learning_rate[\"learning_rate\"],\n",
    "                                   max_depth = best_params_max_depth[\"max_depth\"]), \n",
    "                  param_grid = xgbr_params,\n",
    "                  cv = 5, \n",
    "                  scoring = \"f1_macro\")\n",
    "gs.fit(X_train_lf_vect, y_train_lf[\"sentiment\"])\n",
    "best_params_subsample = gs.best_params_\n",
    "best_params_subsample"
   ]
  },
  {
   "cell_type": "code",
   "execution_count": 132,
   "metadata": {},
   "outputs": [
    {
     "data": {
      "image/png": "[encoded data removed]",
      "text/plain": [
       "<Figure size 864x288 with 1 Axes>"
      ]
     },
     "metadata": {
      "needs_background": "light"
     },
     "output_type": "display_data"
    }
   ],
   "source": [
    "#Visualizing hyperparameter tuning\n",
    "#Creating plot architecture\n",
    "fig, ax = plt.subplots(figsize = (12, 4))\n",
    "sns.despine(top = True)\n",
    "fig.suptitle(\"XGBoost: Tuning subsample\",\n",
    "             color = \"#696969\",\n",
    "             weight = \"bold\",\n",
    "             size = 12)\n",
    "\n",
    "#Plotting\n",
    "plt.plot(np.linspace(0.5, 1, num = 5), abs(gs.cv_results_[\"mean_test_score\"]), color = \"#7ec8d9\")\n",
    "plt.ylabel(\"F1 macro\")\n",
    "plt.ylim(0.5, 1)\n",
    "plt.xlabel(\"Sample fraction considered at each split\")\n",
    "plt.xlim(0.5, 1.0)\n",
    "\n",
    "plt.show()"
   ]
  },
  {
   "cell_type": "code",
   "execution_count": 133,
   "metadata": {},
   "outputs": [
    {
     "data": {
      "text/plain": [
       "{'colsample_bytree': 0.625}"
      ]
     },
     "execution_count": 133,
     "metadata": {},
     "output_type": "execute_result"
    }
   ],
   "source": [
    "#Deriving best parameters for XGBoost\n",
    "xgbr_params = [{\"colsample_bytree\": np.linspace(0.5, 1, num = 5)}]\n",
    "gs = GridSearchCV(xg.XGBClassifier(booster = \"gbtree\",\n",
    "                                   #best_params_booster[\"booster\"],\n",
    "                                   learning_rate = best_params_learning_rate[\"learning_rate\"],\n",
    "                                   max_depth = best_params_max_depth[\"max_depth\"],\n",
    "                                   subsample = best_params_subsample[\"subsample\"]), \n",
    "                  param_grid = xgbr_params,\n",
    "                  cv = 5, \n",
    "                  scoring = \"f1_macro\")\n",
    "gs.fit(X_train_lf_vect, y_train_lf[\"sentiment\"])\n",
    "best_params_colsample = gs.best_params_\n",
    "best_params_colsample"
   ]
  },
  {
   "cell_type": "code",
   "execution_count": 134,
   "metadata": {},
   "outputs": [
    {
     "data": {
      "image/png": "[encoded data removed]",
      "text/plain": [
       "<Figure size 864x288 with 1 Axes>"
      ]
     },
     "metadata": {
      "needs_background": "light"
     },
     "output_type": "display_data"
    }
   ],
   "source": [
    "#Visualizing hyperparameter tuning\n",
    "#Creating plot architecture\n",
    "fig, ax = plt.subplots(figsize = (12, 4))\n",
    "sns.despine(top = True)\n",
    "fig.suptitle(\"XGBoost: Tuning column sample\",\n",
    "             color = \"#696969\",\n",
    "             weight = \"bold\",\n",
    "             size = 12)\n",
    "\n",
    "#Plotting\n",
    "plt.plot(np.linspace(0.5, 1, num = 5), abs(gs.cv_results_[\"mean_test_score\"]), color = \"#7ec8d9\")\n",
    "plt.ylabel(\"F1 macro\")\n",
    "plt.ylim(0.5, 1)\n",
    "plt.xlabel(\"Column fraction considered at each split\")\n",
    "plt.xlim(0.5, 1)\n",
    "\n",
    "plt.show()"
   ]
  },
  {
   "cell_type": "code",
   "execution_count": 135,
   "metadata": {},
   "outputs": [
    {
     "data": {
      "text/plain": [
       "{'n_estimators': 135}"
      ]
     },
     "execution_count": 135,
     "metadata": {},
     "output_type": "execute_result"
    }
   ],
   "source": [
    "#Deriving hyperparameters for XGBoost\n",
    "rndf_params = [{\"n_estimators\": [x for x in range(50, 151, 5)]}]\n",
    "gs = GridSearchCV(xg.XGBClassifier(booster = \"gbtree\",\n",
    "                                   #best_params_booster[\"booster\"],\n",
    "                                   learning_rate = best_params_learning_rate[\"learning_rate\"],\n",
    "                                   max_depth = best_params_max_depth[\"max_depth\"],\n",
    "                                   subsample = best_params_subsample[\"subsample\"], \n",
    "                                   colsample_bytree = best_params_colsample[\"colsample_bytree\"]), \n",
    "                  param_grid = rndf_params,\n",
    "                  cv = 2, \n",
    "                  scoring = \"f1_macro\")\n",
    "gs.fit(X_train_lf_vect, y_train_lf[\"sentiment\"])\n",
    "best_params_estimators = gs.best_params_\n",
    "best_params_estimators"
   ]
  },
  {
   "cell_type": "code",
   "execution_count": 136,
   "metadata": {},
   "outputs": [
    {
     "data": {
      "image/png": "[encoded data removed]",
      "text/plain": [
       "<Figure size 864x288 with 1 Axes>"
      ]
     },
     "metadata": {
      "needs_background": "light"
     },
     "output_type": "display_data"
    }
   ],
   "source": [
    "#Visualizing hyperparameter tuning\n",
    "#Creating plot architecture\n",
    "fig, ax = plt.subplots(figsize = (12, 4))\n",
    "sns.despine(top = True)\n",
    "fig.suptitle(\"XGBoost: Tuning number of estimators\",\n",
    "             color = \"#696969\",\n",
    "             weight = \"bold\",\n",
    "             size = 12)\n",
    "\n",
    "#Plotting\n",
    "plt.plot([x for x in range(50, 151, 5)], abs(gs.cv_results_[\"mean_test_score\"]), color = \"#7ec8d9\")\n",
    "plt.ylabel(\"F1 macro\")\n",
    "plt.ylim(0.5, 1)\n",
    "plt.xlabel(\"Number of estimators\")\n",
    "plt.xlim(50, 150)\n",
    "\n",
    "plt.show()"
   ]
  },
  {
   "cell_type": "code",
   "execution_count": 137,
   "metadata": {},
   "outputs": [
    {
     "data": {
      "text/plain": [
       "{'gamma': 0.001}"
      ]
     },
     "execution_count": 137,
     "metadata": {},
     "output_type": "execute_result"
    }
   ],
   "source": [
    "#Deriving hyperparameters for XGBoost\n",
    "rndf_params = [{\"gamma\": np.linspace(0.0005, 0.005, 10)}]\n",
    "gs = GridSearchCV(xg.XGBClassifier(booster = \"gbtree\",\n",
    "                                   #best_params_booster[\"booster\"],\n",
    "                                   learning_rate = best_params_learning_rate[\"learning_rate\"],\n",
    "                                   max_depth = best_params_max_depth[\"max_depth\"],\n",
    "                                   subsample = best_params_subsample[\"subsample\"], \n",
    "                                   colsample_bytree = best_params_colsample[\"colsample_bytree\"], \n",
    "                                   n_estimators = best_params_estimators[\"n_estimators\"]), \n",
    "                  param_grid = rndf_params,\n",
    "                  cv = 5, \n",
    "                  scoring = \"f1_macro\")\n",
    "gs.fit(X_train_lf_vect, y_train_lf[\"sentiment\"])\n",
    "best_params_gamma = gs.best_params_\n",
    "best_params_gamma"
   ]
  },
  {
   "cell_type": "code",
   "execution_count": 138,
   "metadata": {},
   "outputs": [
    {
     "data": {
      "image/png": "[encoded data removed]",
      "text/plain": [
       "<Figure size 864x288 with 1 Axes>"
      ]
     },
     "metadata": {
      "needs_background": "light"
     },
     "output_type": "display_data"
    }
   ],
   "source": [
    "#Visualizing hyperparameter tuning\n",
    "#Creating plot architecture\n",
    "fig, ax = plt.subplots(figsize = (12, 4))\n",
    "sns.despine(top = True)\n",
    "fig.suptitle(\"XGBoost: Tuning gamma\",\n",
    "             color = \"#696969\",\n",
    "             weight = \"bold\",\n",
    "             size = 12)\n",
    "\n",
    "#Plotting\n",
    "plt.plot(np.linspace(0.0005, 0.005, 10), abs(gs.cv_results_[\"mean_test_score\"]), color = \"#7ec8d9\")\n",
    "plt.ylabel(\"F1 macro\")\n",
    "plt.ylim(0.5, 1)\n",
    "plt.xlabel(\"Gamma\")\n",
    "plt.xlim(0.0005, 0.005)\n",
    "\n",
    "plt.show()"
   ]
  },
  {
   "cell_type": "code",
   "execution_count": 139,
   "metadata": {},
   "outputs": [
    {
     "data": {
      "text/plain": [
       "XGBClassifier(base_score=0.5, booster='gbtree', callbacks=None,\n",
       "              colsample_bylevel=1, colsample_bynode=1, colsample_bytree=0.625,\n",
       "              early_stopping_rounds=None, enable_categorical=False,\n",
       "              eval_metric=None, gamma=0.001, gpu_id=-1, grow_policy='depthwise',\n",
       "              importance_type=None, interaction_constraints='',\n",
       "              learning_rate=1.2000000000000002, max_bin=256,\n",
       "              max_cat_to_onehot=4, max_delta_step=0, max_depth=18, max_leaves=0,\n",
       "              min_child_weight=1, missing=nan, monotone_constraints='()',\n",
       "              n_estimators=135, n_jobs=0, num_parallel_tree=1,\n",
       "              objective='multi:softprob', predictor='auto', random_state=1,\n",
       "              reg_alpha=0, ...)"
      ]
     },
     "execution_count": 139,
     "metadata": {},
     "output_type": "execute_result"
    }
   ],
   "source": [
    "#Fitting XGBoost\n",
    "xgbr = xg.XGBClassifier(objective = \"binary:f1_macro\", \n",
    "                        booster = \"gbtree\",\n",
    "                        #best_params_booster[\"booster\"],\n",
    "                        learning_rate = best_params_learning_rate[\"learning_rate\"],\n",
    "                        max_depth = int(best_params_max_depth[\"max_depth\"]),\n",
    "                        subsample = best_params_subsample[\"subsample\"],\n",
    "                        colsample_bytree = best_params_colsample[\"colsample_bytree\"], \n",
    "                        n_estimators = best_params_estimators[\"n_estimators\"],\n",
    "                        gamma = best_params_gamma[\"gamma\"],\n",
    "                        random_state = 1)\n",
    "xgbr.fit(X_train_lf_vect, y_train_lf[\"sentiment\"])"
   ]
  },
  {
   "cell_type": "code",
   "execution_count": 140,
   "metadata": {},
   "outputs": [
    {
     "name": "stdout",
     "output_type": "stream",
     "text": [
      "              precision    recall  f1-score   support\n",
      "\n",
      "         0.0       0.94      0.98      0.96      1976\n",
      "         1.0       0.92      0.67      0.78       124\n",
      "         2.0       0.89      0.77      0.82       340\n",
      "\n",
      "    accuracy                           0.94      2440\n",
      "   macro avg       0.92      0.81      0.85      2440\n",
      "weighted avg       0.94      0.94      0.93      2440\n",
      "\n"
     ]
    }
   ],
   "source": [
    "#Evaluating XGBoost\n",
    "y_test_lf_pred = xgbr.predict(X_test_lf_vect)\n",
    "print(classification_report(y_test_lf[\"sentiment\"], y_test_lf_pred))"
   ]
  },
  {
   "cell_type": "code",
   "execution_count": 141,
   "metadata": {},
   "outputs": [],
   "source": [
    "#Saving fitted model\n",
    "os.chdir(\"..\")\n",
    "os.chdir(\"..\")\n",
    "os.chdir(\"Models/Articles/Snorkel/\")\n",
    "model_name = \"xgbr_cv_lf.pkl\"\n",
    "with open(model_name, \"wb\") as file:\n",
    "    pickle.dump(xgbr, file)\n",
    "os.chdir(\"..\")\n",
    "os.chdir(\"..\")\n",
    "os.chdir(\"..\")\n",
    "os.chdir(\"Notebooks/Articles\")"
   ]
  },
  {
   "cell_type": "code",
   "execution_count": 142,
   "metadata": {},
   "outputs": [],
   "source": [
    "#Setting labelling function with XGBR\n",
    "@labeling_function()\n",
    "def xgbr_cv_lf(string):\n",
    "    #Opening models\n",
    "    os.chdir(\"..\")\n",
    "    os.chdir(\"..\")\n",
    "    os.chdir(\"Models/Articles/Snorkel/\")\n",
    "    with open(\"cv_lf.pkl\", \"rb\") as file:\n",
    "        cv = pickle.load(file)\n",
    "    with open(\"xgbr_cv_lf.pkl\", \"rb\") as file:\n",
    "        model = pickle.load(file)\n",
    "    os.chdir(\"..\")\n",
    "    os.chdir(\"..\")\n",
    "    os.chdir(\"..\")\n",
    "    os.chdir(\"Notebooks/Articles\")\n",
    "        \n",
    "    #CountVectorizer transform\n",
    "    X = cv.transform(pd.Series(string[\"clause_ABSA\"]))\n",
    "    \n",
    "    #Prediction\n",
    "    score = model.predict(X)\n",
    "\n",
    "    return score[0]"
   ]
  },
  {
   "cell_type": "markdown",
   "metadata": {},
   "source": [
    "#### Random forest - Spacy vectors"
   ]
  },
  {
   "cell_type": "code",
   "execution_count": 143,
   "metadata": {},
   "outputs": [
    {
     "data": {
      "text/plain": [
       "{'max_features': 1.0}"
      ]
     },
     "execution_count": 143,
     "metadata": {},
     "output_type": "execute_result"
    }
   ],
   "source": [
    "#Deriving hyperparameters for random forest\n",
    "rndf_params = [{\"max_features\": np.linspace(0.5, 1, num = 3)}]\n",
    "gs = GridSearchCV(RandomForestClassifier(class_weight = {0: 1, 1: 8, 2: 5}), \n",
    "                  param_grid = rndf_params,\n",
    "                  cv = 2, \n",
    "                  scoring = \"f1_macro\")\n",
    "gs.fit(X_train_lf_embed[\"clause_ABSA_spacy_vectors\"].to_list(), y_train_lf[\"sentiment\"])\n",
    "best_params_max_features = gs.best_params_\n",
    "best_params_max_features"
   ]
  },
  {
   "cell_type": "code",
   "execution_count": 144,
   "metadata": {},
   "outputs": [
    {
     "data": {
      "image/png": "[encoded data removed]",
      "text/plain": [
       "<Figure size 864x288 with 1 Axes>"
      ]
     },
     "metadata": {
      "needs_background": "light"
     },
     "output_type": "display_data"
    }
   ],
   "source": [
    "#Visualizing hyperparameter tuning\n",
    "#Creating plot architecture\n",
    "fig, ax = plt.subplots(figsize = (12, 4))\n",
    "sns.despine(top = True)\n",
    "fig.suptitle(\"Random forest: Tuning maximum features\",\n",
    "             color = \"#696969\",\n",
    "             weight = \"bold\",\n",
    "             size = 12)\n",
    "\n",
    "#Plotting\n",
    "plt.plot(np.linspace(0.5, 1, num = 3), abs(gs.cv_results_[\"mean_test_score\"]), color = \"#7ec8d9\")\n",
    "plt.ylabel(\"F1 macro\")\n",
    "plt.ylim(0.5, 1)\n",
    "plt.xlabel(\"Column fraction considered at each split\")\n",
    "plt.xlim(0.5, 1)\n",
    "\n",
    "plt.show()"
   ]
  },
  {
   "cell_type": "code",
   "execution_count": 145,
   "metadata": {},
   "outputs": [
    {
     "data": {
      "text/plain": [
       "{'n_estimators': 25}"
      ]
     },
     "execution_count": 145,
     "metadata": {},
     "output_type": "execute_result"
    }
   ],
   "source": [
    "#Deriving hyperparameters for random forest\n",
    "rndf_params = [{\"n_estimators\": [x for x in range(25, 51, 5)]}]\n",
    "gs = GridSearchCV(RandomForestClassifier(class_weight = {0: 1, 1: 8, 2: 5},\n",
    "                                         max_features = best_params_max_features[\"max_features\"]), \n",
    "                  param_grid = rndf_params,\n",
    "                  cv = 2, \n",
    "                  scoring = \"f1_macro\")\n",
    "gs.fit(X_train_lf_embed[\"clause_ABSA_spacy_vectors\"].to_list(), y_train_lf[\"sentiment\"])\n",
    "best_params_estimators = gs.best_params_\n",
    "best_params_estimators"
   ]
  },
  {
   "cell_type": "code",
   "execution_count": 146,
   "metadata": {},
   "outputs": [
    {
     "data": {
      "image/png": "[encoded data removed]",
      "text/plain": [
       "<Figure size 864x288 with 1 Axes>"
      ]
     },
     "metadata": {
      "needs_background": "light"
     },
     "output_type": "display_data"
    }
   ],
   "source": [
    "#Visualizing hyperparameter tuning\n",
    "#Creating plot architecture\n",
    "fig, ax = plt.subplots(figsize = (12, 4))\n",
    "sns.despine(top = True)\n",
    "fig.suptitle(\"Random forest: Tuning number of estimators\",\n",
    "             color = \"#696969\",\n",
    "             weight = \"bold\",\n",
    "             size = 12)\n",
    "\n",
    "#Plotting\n",
    "plt.plot([x for x in range(25, 51, 5)], abs(gs.cv_results_[\"mean_test_score\"]), color = \"#7ec8d9\")\n",
    "plt.ylabel(\"F1 macro\")\n",
    "plt.ylim(0.5, 1)\n",
    "plt.xlabel(\"Number of estimators\")\n",
    "plt.xlim(25, 50)\n",
    "\n",
    "plt.show()"
   ]
  },
  {
   "cell_type": "code",
   "execution_count": 147,
   "metadata": {},
   "outputs": [
    {
     "data": {
      "text/plain": [
       "{'max_depth': 28}"
      ]
     },
     "execution_count": 147,
     "metadata": {},
     "output_type": "execute_result"
    }
   ],
   "source": [
    "#Deriving hyperparameters for random forest\n",
    "rndf_params = [{\"max_depth\": [26,28,30,32]}]\n",
    "gs = GridSearchCV(RandomForestClassifier(class_weight = {0: 1, 1: 8, 2: 5},\n",
    "                                         max_features = best_params_max_features[\"max_features\"], \n",
    "                                         n_estimators = best_params_estimators[\"n_estimators\"]), \n",
    "                  param_grid = rndf_params,\n",
    "                  cv = 2, \n",
    "                  scoring = \"f1_macro\")\n",
    "gs.fit(X_train_lf_embed[\"clause_ABSA_spacy_vectors\"].to_list(), y_train_lf[\"sentiment\"])\n",
    "best_params_max_depth = gs.best_params_\n",
    "best_params_max_depth"
   ]
  },
  {
   "cell_type": "code",
   "execution_count": 148,
   "metadata": {},
   "outputs": [
    {
     "data": {
      "image/png": "[encoded data removed]",
      "text/plain": [
       "<Figure size 864x288 with 1 Axes>"
      ]
     },
     "metadata": {
      "needs_background": "light"
     },
     "output_type": "display_data"
    }
   ],
   "source": [
    "#Visualizing hyperparameter tuning\n",
    "#Creating plot architecture\n",
    "fig, ax = plt.subplots(figsize = (12, 4))\n",
    "sns.despine(top = True)\n",
    "fig.suptitle(\"Random forest: Tuning maximum tree depth\",\n",
    "             color = \"#696969\",\n",
    "             weight = \"bold\",\n",
    "             size = 12)\n",
    "\n",
    "#Plotting\n",
    "plt.plot([26,28,30,32], abs(gs.cv_results_[\"mean_test_score\"]), color = \"#7ec8d9\")\n",
    "plt.ylabel(\"F1 macro\")\n",
    "plt.ylim(0.5, 1)\n",
    "plt.xlabel(\"Maximum tree depth\")\n",
    "plt.xlim(26, 32)\n",
    "\n",
    "plt.show()"
   ]
  },
  {
   "cell_type": "code",
   "execution_count": 149,
   "metadata": {},
   "outputs": [
    {
     "data": {
      "text/plain": [
       "RandomForestClassifier(class_weight={0: 1, 1: 8, 2: 5}, max_depth=28,\n",
       "                       max_features=1.0, n_estimators=25, random_state=1)"
      ]
     },
     "execution_count": 149,
     "metadata": {},
     "output_type": "execute_result"
    }
   ],
   "source": [
    "#Fitting random forest\n",
    "rf = RandomForestClassifier(class_weight = {0: 1, 1: 8, 2: 5},\n",
    "                            max_features = best_params_max_features[\"max_features\"], \n",
    "                            n_estimators = best_params_estimators[\"n_estimators\"],\n",
    "                            max_depth = best_params_max_depth[\"max_depth\"],\n",
    "                            random_state = 1)\n",
    "rf.fit(X_train_lf_embed[\"clause_ABSA_spacy_vectors\"].to_list(), y_train_lf[\"sentiment\"])"
   ]
  },
  {
   "cell_type": "code",
   "execution_count": 150,
   "metadata": {},
   "outputs": [
    {
     "name": "stdout",
     "output_type": "stream",
     "text": [
      "              precision    recall  f1-score   support\n",
      "\n",
      "         0.0       0.94      1.00      0.97      1976\n",
      "         1.0       0.96      0.69      0.80       124\n",
      "         2.0       0.99      0.73      0.84       340\n",
      "\n",
      "    accuracy                           0.94      2440\n",
      "   macro avg       0.96      0.80      0.87      2440\n",
      "weighted avg       0.95      0.94      0.94      2440\n",
      "\n"
     ]
    }
   ],
   "source": [
    "#Evaluating random forest\n",
    "y_test_lf_pred = rf.predict(X_test_lf_embed[\"clause_ABSA_spacy_vectors\"].to_list())\n",
    "print(classification_report(y_test_lf[\"sentiment\"], y_test_lf_pred))"
   ]
  },
  {
   "cell_type": "code",
   "execution_count": 151,
   "metadata": {},
   "outputs": [],
   "source": [
    "#Saving fitted model\n",
    "os.chdir(\"..\")\n",
    "os.chdir(\"..\")\n",
    "os.chdir(\"Models/Articles/Snorkel/\")\n",
    "model_name = \"rf_spacy_lf.pkl\"\n",
    "with open(model_name, \"wb\") as file:\n",
    "    pickle.dump(rf, file)\n",
    "os.chdir(\"..\")\n",
    "os.chdir(\"..\")\n",
    "os.chdir(\"..\")\n",
    "os.chdir(\"Notebooks/Articles\")"
   ]
  },
  {
   "cell_type": "code",
   "execution_count": 152,
   "metadata": {},
   "outputs": [],
   "source": [
    "#Setting labelling function with random forest\n",
    "@labeling_function()\n",
    "def rf_spacy_lf(string):\n",
    "    #Opening models\n",
    "    os.chdir(\"..\")\n",
    "    os.chdir(\"..\")\n",
    "    os.chdir(\"Models/Articles/Snorkel/\")\n",
    "    with open(\"rf_spacy_lf.pkl\", \"rb\") as file:\n",
    "        model = pickle.load(file)\n",
    "    os.chdir(\"..\")\n",
    "    os.chdir(\"..\")\n",
    "    os.chdir(\"..\")\n",
    "    os.chdir(\"Notebooks/Articles\")\n",
    "        \n",
    "    #Embed\n",
    "    X = get_spacy_vectors(string[\"clause_ABSA\"])\n",
    "    \n",
    "    #Prediction\n",
    "    score = model.predict(X)\n",
    "\n",
    "    return score[0]"
   ]
  },
  {
   "cell_type": "markdown",
   "metadata": {},
   "source": [
    "#### Random forest - CountVectorizer"
   ]
  },
  {
   "cell_type": "code",
   "execution_count": 153,
   "metadata": {},
   "outputs": [
    {
     "data": {
      "text/plain": [
       "{'max_features': 0.625}"
      ]
     },
     "execution_count": 153,
     "metadata": {},
     "output_type": "execute_result"
    }
   ],
   "source": [
    "#Deriving hyperparameters for random forest\n",
    "rndf_params = [{\"max_features\": np.linspace(0.5, 1, num = 5)}]\n",
    "gs = GridSearchCV(RandomForestClassifier(class_weight = {0: 1, 1: 8, 2: 5}), \n",
    "                  param_grid = rndf_params,\n",
    "                  cv = 2, \n",
    "                  scoring = \"f1_macro\")\n",
    "gs.fit(X_train_lf_vect, y_train_lf[\"sentiment\"])\n",
    "best_params_max_features = gs.best_params_\n",
    "best_params_max_features"
   ]
  },
  {
   "cell_type": "code",
   "execution_count": 154,
   "metadata": {},
   "outputs": [
    {
     "data": {
      "image/png": "[encoded data removed]",
      "text/plain": [
       "<Figure size 864x288 with 1 Axes>"
      ]
     },
     "metadata": {
      "needs_background": "light"
     },
     "output_type": "display_data"
    }
   ],
   "source": [
    "#Visualizing hyperparameter tuning\n",
    "#Creating plot architecture\n",
    "fig, ax = plt.subplots(figsize = (12, 4))\n",
    "sns.despine(top = True)\n",
    "fig.suptitle(\"Random forest: Tuning maximum features\",\n",
    "             color = \"#696969\",\n",
    "             weight = \"bold\",\n",
    "             size = 12)\n",
    "\n",
    "#Plotting\n",
    "plt.plot(np.linspace(0.5, 1, num = 5), abs(gs.cv_results_[\"mean_test_score\"]), color = \"#7ec8d9\")\n",
    "plt.ylabel(\"F1 macro\")\n",
    "plt.ylim(0.5, 1)\n",
    "plt.xlabel(\"Column fraction considered at each split\")\n",
    "plt.xlim(0.5, 1)\n",
    "\n",
    "plt.show()"
   ]
  },
  {
   "cell_type": "code",
   "execution_count": 155,
   "metadata": {},
   "outputs": [
    {
     "data": {
      "text/plain": [
       "{'n_estimators': 50}"
      ]
     },
     "execution_count": 155,
     "metadata": {},
     "output_type": "execute_result"
    }
   ],
   "source": [
    "#Deriving hyperparameters for random forest\n",
    "rndf_params = [{\"n_estimators\": [x for x in range(25, 51, 5)]}]\n",
    "gs = GridSearchCV(RandomForestClassifier(class_weight = {0: 1, 1: 8, 2: 5},\n",
    "                                         max_features = best_params_max_features[\"max_features\"]), \n",
    "                  param_grid = rndf_params,\n",
    "                  cv = 2, \n",
    "                  scoring = \"f1_macro\")\n",
    "gs.fit(X_train_lf_vect, y_train_lf[\"sentiment\"])\n",
    "best_params_estimators = gs.best_params_\n",
    "best_params_estimators"
   ]
  },
  {
   "cell_type": "code",
   "execution_count": 156,
   "metadata": {},
   "outputs": [
    {
     "data": {
      "image/png": "[encoded data removed]",
      "text/plain": [
       "<Figure size 864x288 with 1 Axes>"
      ]
     },
     "metadata": {
      "needs_background": "light"
     },
     "output_type": "display_data"
    }
   ],
   "source": [
    "#Visualizing hyperparameter tuning\n",
    "#Creating plot architecture\n",
    "fig, ax = plt.subplots(figsize = (12, 4))\n",
    "sns.despine(top = True)\n",
    "fig.suptitle(\"Random forest: Tuning number of estimators\",\n",
    "             color = \"#696969\",\n",
    "             weight = \"bold\",\n",
    "             size = 12)\n",
    "\n",
    "#Plotting\n",
    "plt.plot([x for x in range(25, 51, 5)], abs(gs.cv_results_[\"mean_test_score\"]), color = \"#7ec8d9\")\n",
    "plt.ylabel(\"F1 macro\")\n",
    "plt.ylim(0.5, 1)\n",
    "plt.xlabel(\"Number of estimators\")\n",
    "plt.xlim(25, 50)\n",
    "\n",
    "plt.show()"
   ]
  },
  {
   "cell_type": "code",
   "execution_count": 157,
   "metadata": {},
   "outputs": [
    {
     "data": {
      "text/plain": [
       "{'max_depth': 34}"
      ]
     },
     "execution_count": 157,
     "metadata": {},
     "output_type": "execute_result"
    }
   ],
   "source": [
    "#Deriving hyperparameters for random forest\n",
    "rndf_params = [{\"max_depth\": [26,28,30,32,34,36]}]\n",
    "gs = GridSearchCV(RandomForestClassifier(class_weight = {0: 1, 1: 8, 2: 5},\n",
    "                                         max_features = best_params_max_features[\"max_features\"], \n",
    "                                         n_estimators = best_params_estimators[\"n_estimators\"]), \n",
    "                  param_grid = rndf_params,\n",
    "                  cv = 2, \n",
    "                  scoring = \"f1_macro\")\n",
    "gs.fit(X_train_lf_vect, y_train_lf[\"sentiment\"])\n",
    "best_params_max_depth = gs.best_params_\n",
    "best_params_max_depth"
   ]
  },
  {
   "cell_type": "code",
   "execution_count": 158,
   "metadata": {},
   "outputs": [
    {
     "data": {
      "image/png": "[encoded data removed]",
      "text/plain": [
       "<Figure size 864x288 with 1 Axes>"
      ]
     },
     "metadata": {
      "needs_background": "light"
     },
     "output_type": "display_data"
    }
   ],
   "source": [
    "#Visualizing hyperparameter tuning\n",
    "#Creating plot architecture\n",
    "fig, ax = plt.subplots(figsize = (12, 4))\n",
    "sns.despine(top = True)\n",
    "fig.suptitle(\"Random forest: Tuning maximum tree depth\",\n",
    "             color = \"#696969\",\n",
    "             weight = \"bold\",\n",
    "             size = 12)\n",
    "\n",
    "#Plotting\n",
    "plt.plot([26,28,30,32,34,36], abs(gs.cv_results_[\"mean_test_score\"]), color = \"#7ec8d9\")\n",
    "plt.ylabel(\"F1 macro\")\n",
    "plt.ylim(0.5, 1)\n",
    "plt.xlabel(\"Maximum tree depth\")\n",
    "plt.xlim(26, 36)\n",
    "\n",
    "plt.show()"
   ]
  },
  {
   "cell_type": "code",
   "execution_count": 159,
   "metadata": {},
   "outputs": [
    {
     "data": {
      "text/plain": [
       "RandomForestClassifier(class_weight={0: 1, 1: 8, 2: 5}, max_depth=34,\n",
       "                       max_features=0.625, n_estimators=50, random_state=1)"
      ]
     },
     "execution_count": 159,
     "metadata": {},
     "output_type": "execute_result"
    }
   ],
   "source": [
    "#Fitting random forest\n",
    "rf = RandomForestClassifier(class_weight = {0: 1, 1: 8, 2: 5},\n",
    "                            max_features = best_params_max_features[\"max_features\"], \n",
    "                            n_estimators = best_params_estimators[\"n_estimators\"],\n",
    "                            max_depth = best_params_max_depth[\"max_depth\"],\n",
    "                            random_state = 1)\n",
    "rf.fit(X_train_lf_vect, y_train_lf[\"sentiment\"])"
   ]
  },
  {
   "cell_type": "code",
   "execution_count": 160,
   "metadata": {},
   "outputs": [
    {
     "name": "stdout",
     "output_type": "stream",
     "text": [
      "              precision    recall  f1-score   support\n",
      "\n",
      "         0.0       0.92      0.99      0.95      1976\n",
      "         1.0       0.96      0.63      0.76       124\n",
      "         2.0       0.88      0.64      0.74       340\n",
      "\n",
      "    accuracy                           0.92      2440\n",
      "   macro avg       0.92      0.75      0.82      2440\n",
      "weighted avg       0.92      0.92      0.91      2440\n",
      "\n"
     ]
    }
   ],
   "source": [
    "#Evaluating random forest\n",
    "y_test_lf_pred = rf.predict(X_test_lf_vect)\n",
    "print(classification_report(y_test_lf[\"sentiment\"], y_test_lf_pred))"
   ]
  },
  {
   "cell_type": "code",
   "execution_count": 161,
   "metadata": {},
   "outputs": [],
   "source": [
    "#Saving fitted model\n",
    "os.chdir(\"..\")\n",
    "os.chdir(\"..\")\n",
    "os.chdir(\"Models/Articles/Snorkel/\")\n",
    "model_name = \"rf_cv_lf.pkl\"\n",
    "with open(model_name, \"wb\") as file:\n",
    "    pickle.dump(rf, file)\n",
    "os.chdir(\"..\")\n",
    "os.chdir(\"..\")\n",
    "os.chdir(\"..\")\n",
    "os.chdir(\"Notebooks/Articles\")"
   ]
  },
  {
   "cell_type": "code",
   "execution_count": 162,
   "metadata": {},
   "outputs": [],
   "source": [
    "#Setting labelling function with random forest\n",
    "@labeling_function()\n",
    "def rf_cv_lf(string):\n",
    "    #Opening models\n",
    "    os.chdir(\"..\")\n",
    "    os.chdir(\"..\")\n",
    "    os.chdir(\"Models/Articles/Snorkel/\")\n",
    "    with open(\"cv_lf.pkl\", \"rb\") as file:\n",
    "        cv = pickle.load(file)\n",
    "    with open(\"rf_cv_lf.pkl\", \"rb\") as file:\n",
    "        model = pickle.load(file)\n",
    "    os.chdir(\"..\")\n",
    "    os.chdir(\"..\")\n",
    "    os.chdir(\"..\")\n",
    "    os.chdir(\"Notebooks/Articles\")\n",
    "        \n",
    "    #CountVectorizer transform\n",
    "    X = cv.transform(pd.Series(string[\"clause_ABSA\"]))\n",
    "    \n",
    "    #Prediction\n",
    "    score = model.predict(X)\n",
    "\n",
    "    return score[0]"
   ]
  },
  {
   "cell_type": "markdown",
   "metadata": {},
   "source": [
    "### Section 2.4: <a class=\"anchor\" id=\"section_2_4\"></a> Deep-learning-based LFs"
   ]
  },
  {
   "cell_type": "code",
   "execution_count": 163,
   "metadata": {},
   "outputs": [],
   "source": [
    "#Setting sentiment map\n",
    "sentiment_map_guhr = {\"positive\": 1, \"negative\": 2, \"neutral\": 0}"
   ]
  },
  {
   "cell_type": "code",
   "execution_count": 164,
   "metadata": {},
   "outputs": [],
   "source": [
    "#Defining class for Guhr model\n",
    "#huggingface.co/oliverguhr/german-sentiment-bert\n",
    "class SentimentModel_guhr():\n",
    "    def __init__(self, model_name: str = \"oliverguhr/german-sentiment-bert\"):\n",
    "        self.model = AutoModelForSequenceClassification.from_pretrained(model_name)\n",
    "        self.tokenizer = AutoTokenizer.from_pretrained(model_name)\n",
    "        self.clean_chars = re.compile(r'[^A-Za-züöäÖÜÄß ]', re.MULTILINE)\n",
    "\n",
    "    def predict_sentiment(self, texts: List[str])-> List[str]:\n",
    "        texts = [self.clean_text(text) for text in texts]\n",
    "        encoded = self.tokenizer.batch_encode_plus(texts,\n",
    "                                                   padding = True, \n",
    "                                                   add_special_tokens = True,\n",
    "                                                   truncation = True, \n",
    "                                                   return_tensors = \"pt\")\n",
    "        #encoded = encoded.to(self.device)\n",
    "        with torch.no_grad():\n",
    "                logits = self.model(**encoded)\n",
    "        label_ids = torch.argmax(logits[0], axis = 1)\n",
    "        sentiment_list = [self.model.config.id2label[label_id.item()] for label_id in label_ids]\n",
    "        sentiment_mapped_list = [sentiment_map_guhr[sentiment] for sentiment in sentiment_list]\n",
    "        return sentiment_mapped_list\n",
    "\n",
    "    def clean_text(self, text: str)-> str:    \n",
    "            text = self.clean_chars.sub(\"\", text)                          \n",
    "            text = \" \".join(text.split())\n",
    "            text = text.strip().lower()\n",
    "            return text\n",
    "\n",
    "model_guhr = SentimentModel_guhr(model_name = \"oliverguhr/german-sentiment-bert\")"
   ]
  },
  {
   "cell_type": "code",
   "execution_count": 165,
   "metadata": {},
   "outputs": [],
   "source": [
    "#Setting labelling function with Oliver Guhr model\n",
    "@labeling_function()\n",
    "def bert_guhr_lf(string):\n",
    "    #Selecting column\n",
    "    string = string[\"clause_ABSA\"]\n",
    "    \n",
    "    #Transforming string to list format\n",
    "    string_list = list(string)\n",
    "    \n",
    "    #Prediction\n",
    "    score = model_guhr.predict_sentiment(string_list)\n",
    "\n",
    "    return score[0]"
   ]
  },
  {
   "cell_type": "code",
   "execution_count": 166,
   "metadata": {},
   "outputs": [],
   "source": [
    "#Defining class for mdraw model\n",
    "#https://huggingface.co/mdraw/german-news-sentiment-bert\n",
    "class SentimentModel_mdraw:\n",
    "    def __init__(self, model_name: str = \"oliverguhr/german-sentiment-bert\"):\n",
    "        self.model = AutoModelForSequenceClassification.from_pretrained(model_name)\n",
    "        self.tokenizer = AutoTokenizer.from_pretrained(\"oliverguhr/german-sentiment-bert\")\n",
    "        self.clean_chars = re.compile(r'[^A-Za-züöäÖÜÄß ]', re.MULTILINE)\n",
    "\n",
    "    def clean_text(self, text: str) -> str:\n",
    "        text = self.clean_chars.sub(\"\", text)\n",
    "        text = \" \".join(text.split())\n",
    "        text = text.strip().lower()\n",
    "        return text\n",
    "\n",
    "    @staticmethod\n",
    "    def probs2polarities(pnn: torch.Tensor) -> torch.Tensor:\n",
    "        \"\"\"Transform softmax probs of a [positive, negative, neutral] classifier\n",
    "        into scalar polarity scores of range [-1, 1].\"\"\"\n",
    "        pos = pnn[:, 0]\n",
    "        neg = pnn[:, 1]\n",
    "        polarities = pos - neg\n",
    "        return polarities\n",
    "\n",
    "    def predict_sentiment_batch(self, texts: List[str]) -> torch.Tensor:\n",
    "        texts = [self.clean_text(text) for text in texts]\n",
    "        input_ids = self.tokenizer.batch_encode_plus(texts,\n",
    "                                                     padding = True,\n",
    "                                                     add_special_tokens = True,\n",
    "                                                     truncation = True)\n",
    "        input_ids = torch.tensor(input_ids[\"input_ids\"])\n",
    "\n",
    "        with torch.no_grad():\n",
    "            logits = self.model(input_ids)\n",
    "            probs = F.softmax(logits[0], dim = 1)\n",
    "\n",
    "        polarity_scores = self.probs2polarities(probs)\n",
    "        \n",
    "        return polarity_scores\n",
    "\n",
    "    def analyse_sentiment(self, text: str) -> float:\n",
    "        polarity_score = self.predict_sentiment_batch([text]).item()\n",
    "        if polarity_score > 0.5:\n",
    "            polarity = 1\n",
    "        elif polarity_score < -0.5:\n",
    "            polarity = 2\n",
    "        else:\n",
    "            polarity = 0\n",
    "        return polarity\n",
    "\n",
    "model_mdraw = SentimentModel_mdraw(\"mdraw/german-news-sentiment-bert\")    "
   ]
  },
  {
   "cell_type": "code",
   "execution_count": 167,
   "metadata": {},
   "outputs": [],
   "source": [
    "#Setting labelling function with mdraw model\n",
    "@labeling_function()\n",
    "def bert_mdraw_lf(string):\n",
    "    #Selecting column\n",
    "    string = string[\"clause_ABSA\"]\n",
    "    \n",
    "    #Prediction\n",
    "    score = model_mdraw.analyse_sentiment(string)\n",
    "\n",
    "    return score"
   ]
  },
  {
   "cell_type": "markdown",
   "metadata": {},
   "source": [
    "### Section 2.5: <a class=\"anchor\" id=\"section_2_5\"></a> Evaluating LFs"
   ]
  },
  {
   "cell_type": "code",
   "execution_count": 168,
   "metadata": {},
   "outputs": [],
   "source": [
    "#Defining function to generate prediction with care around positive statements\n",
    "def make_custom_prediction(y_pred):\n",
    "    df_pred = pd.DataFrame(data = y_pred, \n",
    "                           columns = [\"textblob\", \n",
    "                                      \"sentiws\", \n",
    "                                      \"polart\", \n",
    "                                      \"gervader\", \n",
    "                                      \"claim\",\n",
    "                                      \"log_reg_cv_lf\", \n",
    "                                      \"svm_cv_lf\", \n",
    "                                      \"xgbr_cv_lf\", \n",
    "                                      \"rf_cv_lf\",\n",
    "                                      \"xgbr_spacy_lf\", \n",
    "                                      \"rf_spacy_lf\",\n",
    "                                      \"bert_mdraw_lf\"])\n",
    "    \n",
    "    label_model.fit(L_train = y_pred)\n",
    "    y_est = label_model.predict(L = y_pred, return_probs = True)\n",
    "    df_pred[\"final_pred\"] = pd.Series(y_est[0])\n",
    "    \n",
    "    def neutralize_pos(value_list, original_prediction):\n",
    "        if original_prediction == 1.0:\n",
    "            if value_list.count(1.0) < 3:\n",
    "                return 0.0\n",
    "            else:\n",
    "                return 1.0\n",
    "        else:\n",
    "            return float(original_prediction)\n",
    "    \n",
    "    df_pred[\"final_pred\"] = df_pred.apply(lambda x: neutralize_pos(list(x[\"textblob\":\"bert_mdraw_lf\"]), x[\"final_pred\"]), \n",
    "                                          axis = 1)\n",
    "    \n",
    "    return df_pred[\"final_pred\"]"
   ]
  },
  {
   "cell_type": "code",
   "execution_count": 169,
   "metadata": {},
   "outputs": [
    {
     "name": "stderr",
     "output_type": "stream",
     "text": [
      "100%|███████████████████████████████████████| 2440/2440 [13:42<00:00,  2.97it/s]\n"
     ]
    }
   ],
   "source": [
    "#Applying labelling functions with empirical accuracy > 0.5\n",
    "lfs = [textblob, \n",
    "       sentiws, \n",
    "       polart, \n",
    "       gervader, \n",
    "       #emotion, \n",
    "       #modal, \n",
    "       #conjunctive, \n",
    "       #reproach, \n",
    "       claim,\n",
    "       #positive,\n",
    "       log_reg_cv_lf, \n",
    "       svm_cv_lf, \n",
    "       xgbr_cv_lf, \n",
    "       rf_cv_lf,\n",
    "       #log_reg_spacy_lf, \n",
    "       #svm_spacy_lf, \n",
    "       xgbr_spacy_lf, \n",
    "       rf_spacy_lf, \n",
    "       #bert_guhr_lf,\n",
    "       bert_mdraw_lf]\n",
    "applier = PandasLFApplier(lfs = lfs)\n",
    "y_test_lf_pred = applier.apply(df = X_test_lf)"
   ]
  },
  {
   "cell_type": "code",
   "execution_count": 170,
   "metadata": {},
   "outputs": [
    {
     "data": {
      "text/html": [
       "<div>\n",
       "<style scoped>\n",
       "    .dataframe tbody tr th:only-of-type {\n",
       "        vertical-align: middle;\n",
       "    }\n",
       "\n",
       "    .dataframe tbody tr th {\n",
       "        vertical-align: top;\n",
       "    }\n",
       "\n",
       "    .dataframe thead th {\n",
       "        text-align: right;\n",
       "    }\n",
       "</style>\n",
       "<table border=\"1\" class=\"dataframe\">\n",
       "  <thead>\n",
       "    <tr style=\"text-align: right;\">\n",
       "      <th></th>\n",
       "      <th>j</th>\n",
       "      <th>Polarity</th>\n",
       "      <th>Coverage</th>\n",
       "      <th>Overlaps</th>\n",
       "      <th>Conflicts</th>\n",
       "      <th>Correct</th>\n",
       "      <th>Incorrect</th>\n",
       "      <th>Emp. Acc.</th>\n",
       "    </tr>\n",
       "  </thead>\n",
       "  <tbody>\n",
       "    <tr>\n",
       "      <th>textblob</th>\n",
       "      <td>0</td>\n",
       "      <td>[0, 1, 2]</td>\n",
       "      <td>1.000000</td>\n",
       "      <td>1.000000</td>\n",
       "      <td>0.729918</td>\n",
       "      <td>1605</td>\n",
       "      <td>835</td>\n",
       "      <td>0.657787</td>\n",
       "    </tr>\n",
       "    <tr>\n",
       "      <th>sentiws</th>\n",
       "      <td>1</td>\n",
       "      <td>[0, 1, 2]</td>\n",
       "      <td>1.000000</td>\n",
       "      <td>1.000000</td>\n",
       "      <td>0.729918</td>\n",
       "      <td>1703</td>\n",
       "      <td>737</td>\n",
       "      <td>0.697951</td>\n",
       "    </tr>\n",
       "    <tr>\n",
       "      <th>polart</th>\n",
       "      <td>2</td>\n",
       "      <td>[0, 1, 2]</td>\n",
       "      <td>1.000000</td>\n",
       "      <td>1.000000</td>\n",
       "      <td>0.729918</td>\n",
       "      <td>1450</td>\n",
       "      <td>990</td>\n",
       "      <td>0.594262</td>\n",
       "    </tr>\n",
       "    <tr>\n",
       "      <th>gervader</th>\n",
       "      <td>3</td>\n",
       "      <td>[0, 1, 2]</td>\n",
       "      <td>1.000000</td>\n",
       "      <td>1.000000</td>\n",
       "      <td>0.729918</td>\n",
       "      <td>1531</td>\n",
       "      <td>909</td>\n",
       "      <td>0.627459</td>\n",
       "    </tr>\n",
       "    <tr>\n",
       "      <th>claim</th>\n",
       "      <td>4</td>\n",
       "      <td>[0]</td>\n",
       "      <td>0.121311</td>\n",
       "      <td>0.121311</td>\n",
       "      <td>0.086066</td>\n",
       "      <td>262</td>\n",
       "      <td>34</td>\n",
       "      <td>0.885135</td>\n",
       "    </tr>\n",
       "    <tr>\n",
       "      <th>log_reg_cv_lf</th>\n",
       "      <td>5</td>\n",
       "      <td>[0, 1, 2]</td>\n",
       "      <td>1.000000</td>\n",
       "      <td>1.000000</td>\n",
       "      <td>0.729918</td>\n",
       "      <td>2289</td>\n",
       "      <td>151</td>\n",
       "      <td>0.938115</td>\n",
       "    </tr>\n",
       "    <tr>\n",
       "      <th>svm_cv_lf</th>\n",
       "      <td>6</td>\n",
       "      <td>[0, 1, 2]</td>\n",
       "      <td>1.000000</td>\n",
       "      <td>1.000000</td>\n",
       "      <td>0.729918</td>\n",
       "      <td>2309</td>\n",
       "      <td>131</td>\n",
       "      <td>0.946311</td>\n",
       "    </tr>\n",
       "    <tr>\n",
       "      <th>xgbr_cv_lf</th>\n",
       "      <td>7</td>\n",
       "      <td>[0, 1, 2]</td>\n",
       "      <td>1.000000</td>\n",
       "      <td>1.000000</td>\n",
       "      <td>0.729918</td>\n",
       "      <td>2285</td>\n",
       "      <td>155</td>\n",
       "      <td>0.936475</td>\n",
       "    </tr>\n",
       "    <tr>\n",
       "      <th>rf_cv_lf</th>\n",
       "      <td>8</td>\n",
       "      <td>[0, 1, 2]</td>\n",
       "      <td>1.000000</td>\n",
       "      <td>1.000000</td>\n",
       "      <td>0.729918</td>\n",
       "      <td>2244</td>\n",
       "      <td>196</td>\n",
       "      <td>0.919672</td>\n",
       "    </tr>\n",
       "    <tr>\n",
       "      <th>xgbr_spacy_lf</th>\n",
       "      <td>9</td>\n",
       "      <td>[0, 1, 2]</td>\n",
       "      <td>1.000000</td>\n",
       "      <td>1.000000</td>\n",
       "      <td>0.729918</td>\n",
       "      <td>1680</td>\n",
       "      <td>760</td>\n",
       "      <td>0.688525</td>\n",
       "    </tr>\n",
       "    <tr>\n",
       "      <th>rf_spacy_lf</th>\n",
       "      <td>10</td>\n",
       "      <td>[0, 2]</td>\n",
       "      <td>1.000000</td>\n",
       "      <td>1.000000</td>\n",
       "      <td>0.729918</td>\n",
       "      <td>1971</td>\n",
       "      <td>469</td>\n",
       "      <td>0.807787</td>\n",
       "    </tr>\n",
       "    <tr>\n",
       "      <th>bert_mdraw_lf</th>\n",
       "      <td>11</td>\n",
       "      <td>[0, 1, 2]</td>\n",
       "      <td>1.000000</td>\n",
       "      <td>1.000000</td>\n",
       "      <td>0.729918</td>\n",
       "      <td>1801</td>\n",
       "      <td>639</td>\n",
       "      <td>0.738115</td>\n",
       "    </tr>\n",
       "  </tbody>\n",
       "</table>\n",
       "</div>"
      ],
      "text/plain": [
       "                j   Polarity  Coverage  Overlaps  Conflicts  Correct  \\\n",
       "textblob        0  [0, 1, 2]  1.000000  1.000000   0.729918     1605   \n",
       "sentiws         1  [0, 1, 2]  1.000000  1.000000   0.729918     1703   \n",
       "polart          2  [0, 1, 2]  1.000000  1.000000   0.729918     1450   \n",
       "gervader        3  [0, 1, 2]  1.000000  1.000000   0.729918     1531   \n",
       "claim           4        [0]  0.121311  0.121311   0.086066      262   \n",
       "log_reg_cv_lf   5  [0, 1, 2]  1.000000  1.000000   0.729918     2289   \n",
       "svm_cv_lf       6  [0, 1, 2]  1.000000  1.000000   0.729918     2309   \n",
       "xgbr_cv_lf      7  [0, 1, 2]  1.000000  1.000000   0.729918     2285   \n",
       "rf_cv_lf        8  [0, 1, 2]  1.000000  1.000000   0.729918     2244   \n",
       "xgbr_spacy_lf   9  [0, 1, 2]  1.000000  1.000000   0.729918     1680   \n",
       "rf_spacy_lf    10     [0, 2]  1.000000  1.000000   0.729918     1971   \n",
       "bert_mdraw_lf  11  [0, 1, 2]  1.000000  1.000000   0.729918     1801   \n",
       "\n",
       "               Incorrect  Emp. Acc.  \n",
       "textblob             835   0.657787  \n",
       "sentiws              737   0.697951  \n",
       "polart               990   0.594262  \n",
       "gervader             909   0.627459  \n",
       "claim                 34   0.885135  \n",
       "log_reg_cv_lf        151   0.938115  \n",
       "svm_cv_lf            131   0.946311  \n",
       "xgbr_cv_lf           155   0.936475  \n",
       "rf_cv_lf             196   0.919672  \n",
       "xgbr_spacy_lf        760   0.688525  \n",
       "rf_spacy_lf          469   0.807787  \n",
       "bert_mdraw_lf        639   0.738115  "
      ]
     },
     "execution_count": 170,
     "metadata": {},
     "output_type": "execute_result"
    }
   ],
   "source": [
    "#Getting overview of labelling functions\n",
    "LFAnalysis(y_test_lf_pred, lfs).lf_summary(np.array(y_test_lf[\"sentiment\"]))"
   ]
  },
  {
   "cell_type": "code",
   "execution_count": 171,
   "metadata": {},
   "outputs": [
    {
     "name": "stderr",
     "output_type": "stream",
     "text": [
      "INFO:root:Computing O...\n",
      "INFO:root:Estimating \\mu...\n",
      "  0%|                                                | 0/100 [00:00<?, ?epoch/s]INFO:root:[0 epochs]: TRAIN:[loss=37.532]\n",
      "INFO:root:[10 epochs]: TRAIN:[loss=5.544]\n",
      "INFO:root:[20 epochs]: TRAIN:[loss=1.452]\n",
      "INFO:root:[30 epochs]: TRAIN:[loss=1.883]\n",
      "INFO:root:[40 epochs]: TRAIN:[loss=0.336]\n",
      "INFO:root:[50 epochs]: TRAIN:[loss=0.421]\n",
      "INFO:root:[60 epochs]: TRAIN:[loss=0.178]\n",
      "INFO:root:[70 epochs]: TRAIN:[loss=0.178]\n",
      "INFO:root:[80 epochs]: TRAIN:[loss=0.140]\n",
      "INFO:root:[90 epochs]: TRAIN:[loss=0.133]\n",
      "100%|████████████████████████████████████| 100/100 [00:00<00:00, 1906.07epoch/s]\n",
      "INFO:root:Finished Training\n"
     ]
    }
   ],
   "source": [
    "#Generating predictions via LabelModel\n",
    "label_model = LabelModel(cardinality = 3, verbose = True)\n",
    "label_model.fit(L_train = y_test_lf_pred)\n",
    "y_test_lf_est = label_model.predict(L = y_test_lf_pred, return_probs = True)\n",
    "y_test_lf_est = pd.Series(y_test_lf_est)"
   ]
  },
  {
   "cell_type": "code",
   "execution_count": 172,
   "metadata": {},
   "outputs": [
    {
     "name": "stdout",
     "output_type": "stream",
     "text": [
      "              precision    recall  f1-score   support\n",
      "\n",
      "         0.0       0.95      0.95      0.95      1976\n",
      "         1.0       0.46      0.32      0.38       124\n",
      "         2.0       0.70      0.81      0.75       340\n",
      "\n",
      "    accuracy                           0.90      2440\n",
      "   macro avg       0.71      0.69      0.69      2440\n",
      "weighted avg       0.89      0.90      0.89      2440\n",
      "\n"
     ]
    }
   ],
   "source": [
    "#Evaluating labelling functions\n",
    "print(classification_report(y_test_lf[\"sentiment\"], y_test_lf_est[0]))"
   ]
  },
  {
   "cell_type": "code",
   "execution_count": 173,
   "metadata": {},
   "outputs": [
    {
     "name": "stderr",
     "output_type": "stream",
     "text": [
      "INFO:root:Computing O...\n",
      "INFO:root:Estimating \\mu...\n",
      "  0%|                                                | 0/100 [00:00<?, ?epoch/s]INFO:root:[0 epochs]: TRAIN:[loss=37.532]\n",
      "INFO:root:[10 epochs]: TRAIN:[loss=5.544]\n",
      "INFO:root:[20 epochs]: TRAIN:[loss=1.452]\n",
      "INFO:root:[30 epochs]: TRAIN:[loss=1.883]\n",
      "INFO:root:[40 epochs]: TRAIN:[loss=0.336]\n",
      "INFO:root:[50 epochs]: TRAIN:[loss=0.421]\n",
      "INFO:root:[60 epochs]: TRAIN:[loss=0.178]\n",
      "INFO:root:[70 epochs]: TRAIN:[loss=0.178]\n",
      "INFO:root:[80 epochs]: TRAIN:[loss=0.140]\n",
      "INFO:root:[90 epochs]: TRAIN:[loss=0.133]\n",
      "100%|████████████████████████████████████| 100/100 [00:00<00:00, 1334.31epoch/s]\n",
      "INFO:root:Finished Training\n"
     ]
    }
   ],
   "source": [
    "#Generating predictions via custom prediction\n",
    "label_model = LabelModel(cardinality = 3, verbose = True)\n",
    "y_test_lf_est = make_custom_prediction(y_test_lf_pred)"
   ]
  },
  {
   "cell_type": "code",
   "execution_count": 174,
   "metadata": {},
   "outputs": [
    {
     "name": "stdout",
     "output_type": "stream",
     "text": [
      "              precision    recall  f1-score   support\n",
      "\n",
      "         0.0       0.95      0.95      0.95      1976\n",
      "         1.0       0.49      0.31      0.38       124\n",
      "         2.0       0.70      0.81      0.75       340\n",
      "\n",
      "    accuracy                           0.90      2440\n",
      "   macro avg       0.71      0.69      0.70      2440\n",
      "weighted avg       0.89      0.90      0.89      2440\n",
      "\n"
     ]
    }
   ],
   "source": [
    "#Evaluating labelling functions\n",
    "print(classification_report(y_test_lf[\"sentiment\"], y_test_lf_est))"
   ]
  },
  {
   "cell_type": "markdown",
   "metadata": {},
   "source": [
    "## Chapter 3: <a class=\"anchor\" id=\"chapter3\"></a> Propagation"
   ]
  },
  {
   "cell_type": "code",
   "execution_count": 175,
   "metadata": {},
   "outputs": [],
   "source": [
    "#Defining function to propagate labels\n",
    "def propagate_label_model(X):\n",
    "    y_non_lf_pred = applier.apply(df = X)\n",
    "    label_model.fit(L_train = y_non_lf_pred)\n",
    "    y_non_lf_est = label_model.predict(L = y_non_lf_pred)\n",
    "    y_non_lf_est = pd.Series(y_non_lf_est)\n",
    "    return y_non_lf_est"
   ]
  },
  {
   "cell_type": "code",
   "execution_count": 176,
   "metadata": {},
   "outputs": [],
   "source": [
    "#Defining function to propagate labels\n",
    "def propagate_custom_prediction(X):\n",
    "    y_non_lf_pred = applier.apply(df = X)\n",
    "    y_non_lf_est = make_custom_prediction(y_non_lf_pred)\n",
    "    return y_non_lf_est"
   ]
  },
  {
   "cell_type": "code",
   "execution_count": 177,
   "metadata": {},
   "outputs": [],
   "source": [
    "#Defining function to integrate estimated labels into existing dataframes\n",
    "def integrate_est_labels(y_est, y):\n",
    "    y[\"sentiment\"] = y_est.values\n",
    "    y[\"manual_annotation\"] = 0\n",
    "    return y"
   ]
  },
  {
   "cell_type": "code",
   "execution_count": 178,
   "metadata": {},
   "outputs": [],
   "source": [
    "#Instantiating LabelModel\n",
    "label_model = LabelModel(cardinality = 3, verbose = True)"
   ]
  },
  {
   "cell_type": "code",
   "execution_count": 179,
   "metadata": {
    "scrolled": false
   },
   "outputs": [
    {
     "name": "stderr",
     "output_type": "stream",
     "text": [
      "100%|███████████████████████████████████| 40996/40996 [3:27:43<00:00,  3.29it/s]\n",
      "INFO:root:Computing O...\n",
      "INFO:root:Estimating \\mu...\n",
      "  0%|                                                | 0/100 [00:00<?, ?epoch/s]INFO:root:[0 epochs]: TRAIN:[loss=43.214]\n",
      "INFO:root:[10 epochs]: TRAIN:[loss=4.451]\n",
      "INFO:root:[20 epochs]: TRAIN:[loss=2.624]\n",
      "INFO:root:[30 epochs]: TRAIN:[loss=1.458]\n",
      "INFO:root:[40 epochs]: TRAIN:[loss=0.519]\n",
      "INFO:root:[50 epochs]: TRAIN:[loss=0.276]\n",
      "INFO:root:[60 epochs]: TRAIN:[loss=0.143]\n",
      "INFO:root:[70 epochs]: TRAIN:[loss=0.105]\n",
      "INFO:root:[80 epochs]: TRAIN:[loss=0.076]\n",
      "INFO:root:[90 epochs]: TRAIN:[loss=0.063]\n",
      "100%|████████████████████████████████████| 100/100 [00:00<00:00, 1909.26epoch/s]\n",
      "INFO:root:Finished Training\n"
     ]
    },
    {
     "data": {
      "text/plain": [
       "0.0    0.863816\n",
       "2.0    0.101229\n",
       "1.0    0.034955\n",
       "Name: final_pred, dtype: float64"
      ]
     },
     "execution_count": 179,
     "metadata": {},
     "output_type": "execute_result"
    }
   ],
   "source": [
    "#Propagating labels\n",
    "y_test_non_lf_est = propagate_custom_prediction(X_test_non_lf)\n",
    "y_test_non_lf_est.value_counts(normalize = True)"
   ]
  },
  {
   "cell_type": "code",
   "execution_count": 180,
   "metadata": {},
   "outputs": [
    {
     "name": "stderr",
     "output_type": "stream",
     "text": [
      "100%|███████████████████████████████████| 32797/32797 [2:47:25<00:00,  3.27it/s]\n",
      "INFO:root:Computing O...\n",
      "INFO:root:Estimating \\mu...\n",
      "  0%|                                                | 0/100 [00:00<?, ?epoch/s]INFO:root:[0 epochs]: TRAIN:[loss=43.134]\n",
      "INFO:root:[10 epochs]: TRAIN:[loss=4.475]\n",
      "INFO:root:[20 epochs]: TRAIN:[loss=2.593]\n",
      "INFO:root:[30 epochs]: TRAIN:[loss=1.466]\n",
      "INFO:root:[40 epochs]: TRAIN:[loss=0.512]\n",
      "INFO:root:[50 epochs]: TRAIN:[loss=0.277]\n",
      "INFO:root:[60 epochs]: TRAIN:[loss=0.141]\n",
      "INFO:root:[70 epochs]: TRAIN:[loss=0.104]\n",
      "INFO:root:[80 epochs]: TRAIN:[loss=0.075]\n",
      "INFO:root:[90 epochs]: TRAIN:[loss=0.062]\n",
      "100%|████████████████████████████████████| 100/100 [00:00<00:00, 1839.95epoch/s]\n",
      "INFO:root:Finished Training\n"
     ]
    },
    {
     "data": {
      "text/plain": [
       "0.0    0.861634\n",
       "2.0    0.104217\n",
       "1.0    0.034149\n",
       "Name: final_pred, dtype: float64"
      ]
     },
     "execution_count": 180,
     "metadata": {},
     "output_type": "execute_result"
    }
   ],
   "source": [
    "#Propagating labels\n",
    "y_vali_non_lf_est = propagate_custom_prediction(X_vali_non_lf)\n",
    "y_vali_non_lf_est.value_counts(normalize = True)"
   ]
  },
  {
   "cell_type": "code",
   "execution_count": 181,
   "metadata": {},
   "outputs": [
    {
     "name": "stderr",
     "output_type": "stream",
     "text": [
      "100%|████████████████████████████████| 131186/131186 [11:04:08<00:00,  3.29it/s]\n",
      "INFO:root:Computing O...\n",
      "INFO:root:Estimating \\mu...\n",
      "  0%|                                                | 0/100 [00:00<?, ?epoch/s]INFO:root:[0 epochs]: TRAIN:[loss=43.225]\n",
      "INFO:root:[10 epochs]: TRAIN:[loss=4.458]\n",
      "INFO:root:[20 epochs]: TRAIN:[loss=2.622]\n",
      "INFO:root:[30 epochs]: TRAIN:[loss=1.459]\n",
      "INFO:root:[40 epochs]: TRAIN:[loss=0.519]\n",
      "INFO:root:[50 epochs]: TRAIN:[loss=0.276]\n",
      "INFO:root:[60 epochs]: TRAIN:[loss=0.143]\n",
      "INFO:root:[70 epochs]: TRAIN:[loss=0.105]\n",
      "INFO:root:[80 epochs]: TRAIN:[loss=0.076]\n",
      "INFO:root:[90 epochs]: TRAIN:[loss=0.062]\n",
      "100%|████████████████████████████████████| 100/100 [00:00<00:00, 1426.05epoch/s]\n",
      "INFO:root:Finished Training\n"
     ]
    },
    {
     "data": {
      "text/plain": [
       "0.0    0.863088\n",
       "2.0    0.102419\n",
       "1.0    0.034493\n",
       "Name: final_pred, dtype: float64"
      ]
     },
     "execution_count": 181,
     "metadata": {},
     "output_type": "execute_result"
    }
   ],
   "source": [
    "#Propagating labels\n",
    "y_train_non_lf_est = propagate_custom_prediction(X_train_non_lf)\n",
    "y_train_non_lf_est.value_counts(normalize = True)"
   ]
  },
  {
   "cell_type": "code",
   "execution_count": 182,
   "metadata": {},
   "outputs": [],
   "source": [
    "#Integrating labels\n",
    "y_test_non_lf = integrate_est_labels(y_test_non_lf_est, y_test_non_lf)"
   ]
  },
  {
   "cell_type": "code",
   "execution_count": 183,
   "metadata": {},
   "outputs": [],
   "source": [
    "#Integrating labels\n",
    "y_vali_non_lf = integrate_est_labels(y_vali_non_lf_est, y_vali_non_lf)"
   ]
  },
  {
   "cell_type": "code",
   "execution_count": 184,
   "metadata": {},
   "outputs": [],
   "source": [
    "#Integrating labels\n",
    "y_train_non_lf = integrate_est_labels(y_train_non_lf_est, y_train_non_lf)"
   ]
  },
  {
   "cell_type": "code",
   "execution_count": 185,
   "metadata": {},
   "outputs": [],
   "source": [
    "#Saving to CSV\n",
    "os.chdir(\"..\")\n",
    "os.chdir(\"..\")\n",
    "dfs = [X_train_lf, y_train_lf, X_vali_lf, y_vali_lf, X_test_lf, y_test_lf, X_train_non_lf, y_train_non_lf, X_vali_non_lf, y_vali_non_lf, X_test_non_lf, y_test_non_lf]\n",
    "for subdf in dfs:\n",
    "    subdf.to_csv(f\"Outputs/Articles/Snorkel/{retrieve_name(subdf)}.csv\")\n",
    "    time.sleep(5)\n",
    "os.chdir(\"Notebooks/Articles\")"
   ]
  },
  {
   "cell_type": "code",
   "execution_count": 187,
   "metadata": {},
   "outputs": [],
   "source": [
    "#Merging data\n",
    "X = pd.concat([X_train_lf, X_vali_lf, X_test_lf, X_train_non_lf, X_vali_non_lf, X_test_non_lf])\n",
    "y = pd.concat([y_train_lf, y_vali_lf, y_test_lf, y_train_non_lf, y_vali_non_lf, y_test_non_lf])\n",
    "y[\"sentiment\"] = y[\"sentiment\"].astype(\"float\")\n",
    "y[\"manual_annotation\"] = y[\"manual_annotation\"].astype(\"float\")\n",
    "df_snorkel = X.join(y)"
   ]
  },
  {
   "cell_type": "code",
   "execution_count": 188,
   "metadata": {},
   "outputs": [],
   "source": [
    "#Resetting index\n",
    "df_snorkel = df_snorkel.reset_index()"
   ]
  },
  {
   "cell_type": "code",
   "execution_count": 189,
   "metadata": {},
   "outputs": [],
   "source": [
    "#Sorting values\n",
    "df_snorkel = df_snorkel.sort_values(by = \"pubtime\").reset_index(drop = True)"
   ]
  },
  {
   "cell_type": "code",
   "execution_count": 190,
   "metadata": {},
   "outputs": [],
   "source": [
    "#Re-mapping sentiment to [-1,1] spectrum\n",
    "sentiment_map = {\"0.0\": 0, \"1.0\": 1, \"2.0\": -1}\n",
    "df_snorkel[\"sentiment\"] = df_snorkel[\"sentiment\"].apply(lambda x: sentiment_map[str(x)])"
   ]
  },
  {
   "cell_type": "code",
   "execution_count": 192,
   "metadata": {},
   "outputs": [],
   "source": [
    "#Saving to CSV\n",
    "os.chdir(\"..\")\n",
    "os.chdir(\"..\")\n",
    "df_snorkel.to_csv(\"Outputs/Articles/Snorkel/snorkel.csv\")\n",
    "os.chdir(\"Notebooks/Articles\")"
   ]
  }
 ],
 "metadata": {
  "kernelspec": {
   "display_name": "Python 3 (ipykernel)",
   "language": "python",
   "name": "python3"
  },
  "language_info": {
   "codemirror_mode": {
    "name": "ipython",
    "version": 3
   },
   "file_extension": ".py",
   "mimetype": "text/x-python",
   "name": "python",
   "nbconvert_exporter": "python",
   "pygments_lexer": "ipython3",
   "version": "3.9.7"
  }
 },
 "nbformat": 4,
 "nbformat_minor": 2
}

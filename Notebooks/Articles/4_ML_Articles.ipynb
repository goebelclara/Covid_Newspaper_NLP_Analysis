{
 "cells": [
  {
   "cell_type": "markdown",
   "metadata": {},
   "source": [
    "## Table of Contents\n",
    "\n",
    "* [Chapter 1](#chapter1): Data Preparation\n",
    "* [Chapter 2](#chapter2): ML Algorithms with Count / TF-IDF Vectorized Statements\n",
    "    * [Section 2.1](#section_2_1): Vectorizing\n",
    "    * [Section 2.2](#section_2_2): Logistic Regression\n",
    "    * [Section 2.3](#section_2_3): XGBoost\n",
    "    * [Section 2.4](#section_2_4): Random Forest\n",
    "* [Chapter 3](#chapter3): ML Algorithms with Embedded Statements\n",
    "    * [Section 3.1](#section_3_1): Embeddings\n",
    "    * [Section 3.2](#section_3_2): Logistic Regression\n",
    "    * [Section 3.3](#section_3_3): XGBoost\n",
    "    * [Section 3.4](#section_3_4): Random Forest\n",
    "* [Chapter 4](#chapter4): Ensemble Method\n",
    "* [Chapter 5](#chapter5): Propagation"
   ]
  },
  {
   "cell_type": "markdown",
   "metadata": {},
   "source": [
    "## Chapter 1: <a class=\"anchor\" id=\"chapter1\"></a> Data Preparation"
   ]
  },
  {
   "cell_type": "code",
   "execution_count": 1,
   "metadata": {},
   "outputs": [],
   "source": [
    "#Performing required installations\n",
    "#pip install xgboost\n",
    "#pip install spacy\n",
    "#pip install fasttext\n",
    "\n",
    "#fasttext.util.download_model(\"de\", if_exists = \"ignore\") "
   ]
  },
  {
   "cell_type": "code",
   "execution_count": 2,
   "metadata": {},
   "outputs": [],
   "source": [
    "#Importing libraries\n",
    "#Data processing\n",
    "import pandas as pd\n",
    "import numpy as np\n",
    "\n",
    "#Vectorizing and embedding\n",
    "import fasttext\n",
    "import fasttext.util\n",
    "import spacy\n",
    "\n",
    "#Machine learning\n",
    "from sklearn.model_selection import train_test_split, GridSearchCV\n",
    "from sklearn.feature_extraction.text import TfidfVectorizer, CountVectorizer\n",
    "from sklearn.linear_model import LogisticRegression\n",
    "from sklearn.ensemble import RandomForestClassifier\n",
    "from sklearn.metrics import accuracy_score, classification_report\n",
    "import xgboost as xg\n",
    "from sklearn.svm import SVC\n",
    "from sklearn.ensemble import VotingClassifier\n",
    "\n",
    "#Visualization\n",
    "import matplotlib.pyplot as plt\n",
    "import seaborn as sns\n",
    "import matplotlib.ticker as mtick\n",
    "import matplotlib.patches as mpatches\n",
    "\n",
    "#Other\n",
    "import warnings\n",
    "import os\n",
    "import pickle\n",
    "from tqdm import tqdm\n",
    "tqdm.pandas()"
   ]
  },
  {
   "cell_type": "code",
   "execution_count": 3,
   "metadata": {},
   "outputs": [],
   "source": [
    "#Suppressing warnings\n",
    "warnings.simplefilter(action = \"ignore\")"
   ]
  },
  {
   "cell_type": "code",
   "execution_count": 4,
   "metadata": {},
   "outputs": [],
   "source": [
    "#Reading in CSVs\n",
    "os.chdir(\"..\")\n",
    "os.chdir(\"..\")\n",
    "df = pd.read_csv(\"Outputs/Articles/Snorkel/snorkel.csv\", index_col = 0, parse_dates = [\"pubtime\", \"pubday\", \"pubmonth\"])\n",
    "os.chdir(\"Notebooks/Articles\")"
   ]
  },
  {
   "cell_type": "code",
   "execution_count": 5,
   "metadata": {},
   "outputs": [],
   "source": [
    "#Dropping duplicates\n",
    "df_unique = df.drop_duplicates(subset = [\"sentence_ABSA\", \"entity_name\"])"
   ]
  },
  {
   "cell_type": "code",
   "execution_count": 6,
   "metadata": {},
   "outputs": [],
   "source": [
    "#Setting X and y\n",
    "X = df_unique[[\"clause_ABSA\", \"entity_name\"]]\n",
    "y = df_unique[[\"sentiment\", \"manual_annotation\"]]"
   ]
  },
  {
   "cell_type": "code",
   "execution_count": 7,
   "metadata": {},
   "outputs": [],
   "source": [
    "#Setting problem to negative sentiment classification only\n",
    "y[\"sentiment\"] = y[\"sentiment\"].apply(lambda x: 0 if x == 1 else x)"
   ]
  },
  {
   "cell_type": "code",
   "execution_count": 8,
   "metadata": {},
   "outputs": [],
   "source": [
    "#Mapping negative sentiment to 1 instead of -1\n",
    "y[\"sentiment\"] = y[\"sentiment\"].apply(lambda x: 1 if x == -1 else x)"
   ]
  },
  {
   "cell_type": "code",
   "execution_count": 9,
   "metadata": {},
   "outputs": [],
   "source": [
    "#Splitting manual annotations between training and testing set\n",
    "X_train_total_manual, X_test_manual, y_train_total_manual, y_test_manual = train_test_split(X[y[\"manual_annotation\"] == 1], \n",
    "                                                                                            y[y[\"manual_annotation\"] == 1], \n",
    "                                                                                            test_size = 0.5, \n",
    "                                                                                            random_state = 1)"
   ]
  },
  {
   "cell_type": "code",
   "execution_count": 10,
   "metadata": {},
   "outputs": [],
   "source": [
    "#Splitting Snorkel annotations between training and testing set\n",
    "X_train_total, X_test, y_train_total, y_test = train_test_split(X[y[\"manual_annotation\"] != 1], \n",
    "                                                                y[y[\"manual_annotation\"] != 1], \n",
    "                                                                test_size = 0.2, \n",
    "                                                                random_state = 1)"
   ]
  },
  {
   "cell_type": "code",
   "execution_count": 11,
   "metadata": {},
   "outputs": [],
   "source": [
    "#Merging datasets\n",
    "X_train_total = pd.concat([X_train_total, X_train_total_manual])\n",
    "X_test = pd.concat([X_test, X_test_manual])\n",
    "y_train_total = pd.concat([y_train_total, y_train_total_manual])\n",
    "y_test = pd.concat([y_test, y_test_manual])"
   ]
  },
  {
   "cell_type": "code",
   "execution_count": 12,
   "metadata": {},
   "outputs": [],
   "source": [
    "#Splitting merged datasets between training and validation set\n",
    "X_train, X_vali, y_train, y_vali = train_test_split(X_train_total, \n",
    "                                                    y_train_total, \n",
    "                                                    test_size = 0.2, \n",
    "                                                    random_state = 1)"
   ]
  },
  {
   "cell_type": "code",
   "execution_count": 13,
   "metadata": {},
   "outputs": [],
   "source": [
    "#Extracting gold label test set\n",
    "X_test_gold = X_test[y_test[\"manual_annotation\"] == 1]\n",
    "y_test_gold = y_test[y_test[\"manual_annotation\"] == 1]"
   ]
  },
  {
   "cell_type": "markdown",
   "metadata": {},
   "source": [
    "## Chapter 2: <a class=\"anchor\" id=\"chapter2\"></a> ML Algorithms with Count / TF-IDF Vectorized Statements"
   ]
  },
  {
   "cell_type": "markdown",
   "metadata": {},
   "source": [
    "### Section 2.1: <a class=\"anchor\" id=\"section_2_1\"></a> Vectorizing"
   ]
  },
  {
   "cell_type": "code",
   "execution_count": 14,
   "metadata": {},
   "outputs": [],
   "source": [
    "#Instantiating and fitting CountVectorizer\n",
    "cv = CountVectorizer()\n",
    "cv.fit(X_train[\"clause_ABSA\"])\n",
    "X_train_total_cv = cv.transform(X_train_total[\"clause_ABSA\"])\n",
    "X_train_cv = cv.transform(X_train[\"clause_ABSA\"])\n",
    "X_vali_cv = cv.transform(X_vali[\"clause_ABSA\"])\n",
    "X_test_cv = cv.transform(X_test[\"clause_ABSA\"])\n",
    "X_test_gold_cv = cv.transform(X_test_gold[\"clause_ABSA\"])\n",
    "    \n",
    "#Saving fitted CountVectorizer\n",
    "os.chdir(\"..\")\n",
    "os.chdir(\"..\")\n",
    "os.chdir(\"Models/Articles/ML_DL\")\n",
    "model_name = \"cv.pkl\"\n",
    "with open(model_name, \"wb\") as file:\n",
    "    pickle.dump(cv, file)\n",
    "os.chdir(\"..\")\n",
    "os.chdir(\"..\")\n",
    "os.chdir(\"Notebooks/Articles\")"
   ]
  },
  {
   "cell_type": "code",
   "execution_count": 15,
   "metadata": {},
   "outputs": [],
   "source": [
    "#Instantiating and fitting TF-IDF\n",
    "tf = TfidfVectorizer()\n",
    "tf.fit(X_train[\"clause_ABSA\"])\n",
    "X_train_total_tf = tf.transform(X_train_total[\"clause_ABSA\"])\n",
    "X_train_tf = tf.transform(X_train[\"clause_ABSA\"])\n",
    "X_vali_tf = tf.transform(X_vali[\"clause_ABSA\"])\n",
    "X_test_tf = tf.transform(X_test[\"clause_ABSA\"])\n",
    "X_test_gold_tf = tf.transform(X_test_gold[\"clause_ABSA\"])\n",
    "    \n",
    "#Saving fitted TF-IDF\n",
    "os.chdir(\"..\")\n",
    "os.chdir(\"..\")\n",
    "os.chdir(\"Models/Articles/ML_DL\")\n",
    "model_name = \"tfidf.pkl\"\n",
    "with open(model_name, \"wb\") as file:\n",
    "    pickle.dump(cv, file)\n",
    "os.chdir(\"..\")\n",
    "os.chdir(\"..\")\n",
    "os.chdir(\"Notebooks/Articles\")"
   ]
  },
  {
   "cell_type": "markdown",
   "metadata": {},
   "source": [
    "### Section 2.2: <a class=\"anchor\" id=\"section_2_2\"></a> Logistic Regression"
   ]
  },
  {
   "cell_type": "code",
   "execution_count": 16,
   "metadata": {},
   "outputs": [
    {
     "data": {
      "text/plain": [
       "LogisticRegression(random_state=1)"
      ]
     },
     "execution_count": 16,
     "metadata": {},
     "output_type": "execute_result"
    }
   ],
   "source": [
    "#Fitting logistic regression with count vectorized X\n",
    "log_reg = LogisticRegression(random_state = 1)\n",
    "log_reg.fit(X_train_total_cv, y_train_total[\"sentiment\"])"
   ]
  },
  {
   "cell_type": "code",
   "execution_count": 17,
   "metadata": {},
   "outputs": [
    {
     "name": "stdout",
     "output_type": "stream",
     "text": [
      "              precision    recall  f1-score   support\n",
      "\n",
      "           0       0.95      0.98      0.97     30212\n",
      "           1       0.78      0.55      0.65      3310\n",
      "\n",
      "    accuracy                           0.94     33522\n",
      "   macro avg       0.87      0.77      0.81     33522\n",
      "weighted avg       0.94      0.94      0.94     33522\n",
      "\n"
     ]
    }
   ],
   "source": [
    "#Evaluating logistic regression with count vectorized X\n",
    "y_test_cv_pred = log_reg.predict(X_test_cv)\n",
    "print(classification_report(y_test[\"sentiment\"], y_test_cv_pred))"
   ]
  },
  {
   "cell_type": "code",
   "execution_count": 18,
   "metadata": {},
   "outputs": [
    {
     "data": {
      "text/plain": [
       "LogisticRegression(random_state=1)"
      ]
     },
     "execution_count": 18,
     "metadata": {},
     "output_type": "execute_result"
    }
   ],
   "source": [
    "#Fitting logistic regression with TF-IDF vectorized X\n",
    "log_reg = LogisticRegression(random_state = 1)\n",
    "log_reg.fit(X_train_total_tf, y_train_total[\"sentiment\"])"
   ]
  },
  {
   "cell_type": "code",
   "execution_count": 19,
   "metadata": {},
   "outputs": [
    {
     "name": "stdout",
     "output_type": "stream",
     "text": [
      "              precision    recall  f1-score   support\n",
      "\n",
      "           0       0.94      0.99      0.96     30212\n",
      "           1       0.79      0.37      0.51      3310\n",
      "\n",
      "    accuracy                           0.93     33522\n",
      "   macro avg       0.86      0.68      0.73     33522\n",
      "weighted avg       0.92      0.93      0.92     33522\n",
      "\n"
     ]
    }
   ],
   "source": [
    "#Evaluating logistic regression with TF-IDF vectorized X\n",
    "y_test_tf_pred = log_reg.predict(X_test_tf)\n",
    "print(classification_report(y_test[\"sentiment\"], y_test_tf_pred))"
   ]
  },
  {
   "cell_type": "code",
   "execution_count": 20,
   "metadata": {},
   "outputs": [
    {
     "data": {
      "text/plain": [
       "{'penalty': 'l1'}"
      ]
     },
     "execution_count": 20,
     "metadata": {},
     "output_type": "execute_result"
    }
   ],
   "source": [
    "#Deriving best parameters for logistic regression\n",
    "log_reg_params = [{\"penalty\": [\"l1\", \"l2\", \"elasticnet\", \"none\"]}]\n",
    "gs = GridSearchCV(LogisticRegression(solver = \"liblinear\"), \n",
    "                  param_grid = log_reg_params,\n",
    "                  cv = 5, \n",
    "                  scoring = \"f1_macro\")\n",
    "gs.fit(X_train_total_cv, y_train_total[\"sentiment\"])\n",
    "best_params_penalty = gs.best_params_\n",
    "best_params_penalty"
   ]
  },
  {
   "cell_type": "code",
   "execution_count": 21,
   "metadata": {},
   "outputs": [
    {
     "data": {
      "image/png": "[encoded data removed]",
      "text/plain": [
       "<Figure size 864x288 with 1 Axes>"
      ]
     },
     "metadata": {
      "needs_background": "light"
     },
     "output_type": "display_data"
    }
   ],
   "source": [
    "#Visualizing hyperparameter tuning\n",
    "#Preparing data\n",
    "y = gs.cv_results_[\"mean_test_score\"][gs.cv_results_[\"mean_test_score\"] > 0]\n",
    "\n",
    "#Creating plot architecture\n",
    "fig, ax = plt.subplots(figsize = (12, 4))\n",
    "sns.despine(top = True)\n",
    "fig.suptitle(\"Logistic regression: Tuning penalty\",\n",
    "             color = \"#696969\",\n",
    "             weight = \"bold\",\n",
    "             size = 12)\n",
    "\n",
    "#Plotting\n",
    "plt.bar([\"l1\", \"l2\"], y, color = \"#E8E8E8\")\n",
    "plt.ylabel(\"F1 macro\")\n",
    "plt.ylim(0, 1)\n",
    "plt.xlabel(\"Penalty\")\n",
    "\n",
    "#Setting parameters\n",
    "ax.patches[0].set_facecolor(\"#add1de\")\n",
    "\n",
    "plt.show()"
   ]
  },
  {
   "cell_type": "code",
   "execution_count": 22,
   "metadata": {},
   "outputs": [
    {
     "data": {
      "text/plain": [
       "{'C': 12.0}"
      ]
     },
     "execution_count": 22,
     "metadata": {},
     "output_type": "execute_result"
    }
   ],
   "source": [
    "#Deriving best parameters for logistic regression\n",
    "log_reg_params = [{\"C\": np.linspace(1, 100, 10)}]\n",
    "gs = GridSearchCV(LogisticRegression(solver = \"liblinear\",\n",
    "                                     penalty = best_params_penalty[\"penalty\"]), \n",
    "                  param_grid = log_reg_params,\n",
    "                  cv = 5, \n",
    "                  scoring = \"f1_macro\")\n",
    "gs.fit(X_train_total_cv, y_train_total[\"sentiment\"])\n",
    "best_params_C = gs.best_params_\n",
    "best_params_C"
   ]
  },
  {
   "cell_type": "code",
   "execution_count": 23,
   "metadata": {},
   "outputs": [
    {
     "data": {
      "image/png": "[encoded data removed]",
      "text/plain": [
       "<Figure size 864x288 with 1 Axes>"
      ]
     },
     "metadata": {
      "needs_background": "light"
     },
     "output_type": "display_data"
    }
   ],
   "source": [
    "#Visualizing hyperparameter tuning\n",
    "#Creating plot architecture\n",
    "fig, ax = plt.subplots(figsize = (12, 4))\n",
    "sns.despine(top = True)\n",
    "fig.suptitle(\"Logistic regression: Tuning C\",\n",
    "             color = \"#696969\",\n",
    "             weight = \"bold\",\n",
    "             size = 12)\n",
    "\n",
    "#Plotting\n",
    "plt.plot(np.linspace(1, 100, 10), abs(gs.cv_results_[\"mean_test_score\"]), color = \"#7ec8d9\")\n",
    "plt.ylabel(\"F1 macro\")\n",
    "plt.ylim(0.5, 1)\n",
    "plt.xlabel(\"C\")\n",
    "plt.xlim(1, 100)\n",
    "\n",
    "plt.show()"
   ]
  },
  {
   "cell_type": "code",
   "execution_count": 24,
   "metadata": {},
   "outputs": [
    {
     "data": {
      "text/plain": [
       "LogisticRegression(C=12.0, penalty='l1', random_state=1, solver='liblinear')"
      ]
     },
     "execution_count": 24,
     "metadata": {},
     "output_type": "execute_result"
    }
   ],
   "source": [
    "#Fitting logistic regression\n",
    "log_reg_cv = LogisticRegression(solver = \"liblinear\",\n",
    "                                penalty = best_params_penalty[\"penalty\"],\n",
    "                                C = best_params_C[\"C\"], \n",
    "                                random_state = 1)\n",
    "log_reg_cv.fit(X_train_total_cv, y_train_total[\"sentiment\"])"
   ]
  },
  {
   "cell_type": "code",
   "execution_count": 25,
   "metadata": {},
   "outputs": [
    {
     "name": "stdout",
     "output_type": "stream",
     "text": [
      "              precision    recall  f1-score   support\n",
      "\n",
      "           0       0.96      0.97      0.97     30212\n",
      "           1       0.72      0.67      0.69      3310\n",
      "\n",
      "    accuracy                           0.94     33522\n",
      "   macro avg       0.84      0.82      0.83     33522\n",
      "weighted avg       0.94      0.94      0.94     33522\n",
      "\n"
     ]
    }
   ],
   "source": [
    "#Evaluating logistic regression on total test set\n",
    "y_test_cv_pred = log_reg_cv.predict(X_test_cv)\n",
    "print(classification_report(y_test[\"sentiment\"], y_test_cv_pred))"
   ]
  },
  {
   "cell_type": "code",
   "execution_count": 26,
   "metadata": {},
   "outputs": [
    {
     "name": "stdout",
     "output_type": "stream",
     "text": [
      "              precision    recall  f1-score   support\n",
      "\n",
      "           0       0.91      0.94      0.92      2123\n",
      "           1       0.40      0.31      0.35       282\n",
      "\n",
      "    accuracy                           0.87      2405\n",
      "   macro avg       0.66      0.62      0.64      2405\n",
      "weighted avg       0.85      0.87      0.86      2405\n",
      "\n"
     ]
    }
   ],
   "source": [
    "#Evaluating logistic regression on gold test set\n",
    "y_test_gold_cv_pred = log_reg_cv.predict(X_test_gold_cv)\n",
    "print(classification_report(y_test_gold[\"sentiment\"], y_test_gold_cv_pred))"
   ]
  },
  {
   "cell_type": "code",
   "execution_count": 27,
   "metadata": {},
   "outputs": [],
   "source": [
    "#Saving fitted model\n",
    "os.chdir(\"..\")\n",
    "os.chdir(\"..\")\n",
    "os.chdir(\"Models/Articles/ML_DL\")\n",
    "model_name = \"log_reg_cv.pkl\"\n",
    "with open(model_name, \"wb\") as file:\n",
    "    pickle.dump(log_reg_cv, file)\n",
    "os.chdir(\"..\")\n",
    "os.chdir(\"..\")\n",
    "os.chdir(\"Notebooks/Articles\")"
   ]
  },
  {
   "cell_type": "markdown",
   "metadata": {},
   "source": [
    "### Section 2.3: <a class=\"anchor\" id=\"section_2_3\"></a> XGBoost"
   ]
  },
  {
   "cell_type": "code",
   "execution_count": 28,
   "metadata": {},
   "outputs": [
    {
     "data": {
      "text/plain": [
       "XGBClassifier(base_score=0.5, booster='gbtree', callbacks=None,\n",
       "              colsample_bylevel=1, colsample_bynode=1, colsample_bytree=1,\n",
       "              early_stopping_rounds=None, enable_categorical=False,\n",
       "              eval_metric=None, gamma=0, gpu_id=-1, grow_policy='depthwise',\n",
       "              importance_type=None, interaction_constraints='',\n",
       "              learning_rate=0.300000012, max_bin=256, max_cat_to_onehot=4,\n",
       "              max_delta_step=0, max_depth=6, max_leaves=0, min_child_weight=1,\n",
       "              missing=nan, monotone_constraints='()', n_estimators=100,\n",
       "              n_jobs=0, num_parallel_tree=1, predictor='auto', random_state=1,\n",
       "              reg_alpha=0, reg_lambda=1, ...)"
      ]
     },
     "execution_count": 28,
     "metadata": {},
     "output_type": "execute_result"
    }
   ],
   "source": [
    "#Fitting XGBoost with count vectorized X\n",
    "xgbr = xg.XGBClassifier(random_state = 1)\n",
    "xgbr.fit(X_train_total_cv, y_train_total[\"sentiment\"])"
   ]
  },
  {
   "cell_type": "code",
   "execution_count": 29,
   "metadata": {},
   "outputs": [
    {
     "name": "stdout",
     "output_type": "stream",
     "text": [
      "              precision    recall  f1-score   support\n",
      "\n",
      "           0       0.93      0.98      0.96     30212\n",
      "           1       0.71      0.37      0.48      3310\n",
      "\n",
      "    accuracy                           0.92     33522\n",
      "   macro avg       0.82      0.67      0.72     33522\n",
      "weighted avg       0.91      0.92      0.91     33522\n",
      "\n"
     ]
    }
   ],
   "source": [
    "#Evaluating XGBoost with count vectorized X\n",
    "y_test_cv_pred = xgbr.predict(X_test_cv)\n",
    "print(classification_report(y_test[\"sentiment\"], y_test_cv_pred))"
   ]
  },
  {
   "cell_type": "code",
   "execution_count": 30,
   "metadata": {},
   "outputs": [
    {
     "data": {
      "text/plain": [
       "XGBClassifier(base_score=0.5, booster='gbtree', callbacks=None,\n",
       "              colsample_bylevel=1, colsample_bynode=1, colsample_bytree=1,\n",
       "              early_stopping_rounds=None, enable_categorical=False,\n",
       "              eval_metric=None, gamma=0, gpu_id=-1, grow_policy='depthwise',\n",
       "              importance_type=None, interaction_constraints='',\n",
       "              learning_rate=0.300000012, max_bin=256, max_cat_to_onehot=4,\n",
       "              max_delta_step=0, max_depth=6, max_leaves=0, min_child_weight=1,\n",
       "              missing=nan, monotone_constraints='()', n_estimators=100,\n",
       "              n_jobs=0, num_parallel_tree=1, predictor='auto', random_state=1,\n",
       "              reg_alpha=0, reg_lambda=1, ...)"
      ]
     },
     "execution_count": 30,
     "metadata": {},
     "output_type": "execute_result"
    }
   ],
   "source": [
    "#Fitting XGBoost with TF-IDF vectorized X\n",
    "xgbr = xg.XGBClassifier(random_state = 1)\n",
    "xgbr.fit(X_train_total_tf, y_train_total[\"sentiment\"])"
   ]
  },
  {
   "cell_type": "code",
   "execution_count": 31,
   "metadata": {},
   "outputs": [
    {
     "name": "stdout",
     "output_type": "stream",
     "text": [
      "              precision    recall  f1-score   support\n",
      "\n",
      "           0       0.93      0.98      0.96     30212\n",
      "           1       0.72      0.37      0.49      3310\n",
      "\n",
      "    accuracy                           0.92     33522\n",
      "   macro avg       0.83      0.68      0.72     33522\n",
      "weighted avg       0.91      0.92      0.91     33522\n",
      "\n"
     ]
    }
   ],
   "source": [
    "#Evaluating XGBoost with TF-IDF vectorized X\n",
    "y_test_tf_pred = xgbr.predict(X_test_tf)\n",
    "print(classification_report(y_test[\"sentiment\"], y_test_tf_pred))"
   ]
  },
  {
   "cell_type": "code",
   "execution_count": 32,
   "metadata": {},
   "outputs": [
    {
     "data": {
      "text/plain": [
       "{'booster': 'gblinear'}"
      ]
     },
     "execution_count": 32,
     "metadata": {},
     "output_type": "execute_result"
    }
   ],
   "source": [
    "#Deriving best parameters for XGBoost\n",
    "xgbr_params = [{\"booster\": [\"gbtree\", \"gblinear\", \"dart\"]}]\n",
    "gs = GridSearchCV(xg.XGBClassifier(), \n",
    "                  param_grid = xgbr_params,\n",
    "                  cv = 5, \n",
    "                  scoring = \"f1_macro\")\n",
    "gs.fit(X_train_total_cv, y_train_total[\"sentiment\"])\n",
    "best_params_booster = gs.best_params_\n",
    "best_params_booster"
   ]
  },
  {
   "cell_type": "code",
   "execution_count": 33,
   "metadata": {},
   "outputs": [
    {
     "data": {
      "image/png": "[encoded data removed]",
      "text/plain": [
       "<Figure size 864x288 with 1 Axes>"
      ]
     },
     "metadata": {
      "needs_background": "light"
     },
     "output_type": "display_data"
    }
   ],
   "source": [
    "#Visualizing hyperparameter tuning\n",
    "#Preparing data\n",
    "gs_results = pd.DataFrame(data = {\"f1_macro\": abs(gs.cv_results_[\"mean_test_score\"]), \n",
    "                                  \"booster\": [\"gbtree\", \"gblinear\", \"dart\"]})\n",
    "gs_results.sort_values(\"f1_macro\", ascending = False, inplace = True)\n",
    "\n",
    "#Creating plot architecture\n",
    "fig, ax = plt.subplots(figsize = (12, 4))\n",
    "sns.despine(top = True)\n",
    "fig.suptitle(\"XGBoost: Tuning booster\",\n",
    "             color = \"#696969\",\n",
    "             weight = \"bold\",\n",
    "             size = 12)\n",
    "\n",
    "#Plotting\n",
    "plt.bar(gs_results[\"booster\"], gs_results[\"f1_macro\"], color = \"#E8E8E8\")\n",
    "plt.ylabel(\"F1 macro\")\n",
    "plt.ylim(0, 1)\n",
    "plt.xlabel(\"Booster\")\n",
    "\n",
    "#Setting parameters\n",
    "ax.patches[0].set_facecolor(\"#add1de\")\n",
    "\n",
    "plt.show()"
   ]
  },
  {
   "cell_type": "code",
   "execution_count": 34,
   "metadata": {},
   "outputs": [
    {
     "data": {
      "text/plain": [
       "{'learning_rate': 1.125}"
      ]
     },
     "execution_count": 34,
     "metadata": {},
     "output_type": "execute_result"
    }
   ],
   "source": [
    "#Deriving best parameters for XGBoost\n",
    "xgbr_params = [{\"learning_rate\": np.linspace(0.5, 3, num = 5)}]\n",
    "gs = GridSearchCV(xg.XGBClassifier(booster = \"gbtree\"), \n",
    "                  param_grid = xgbr_params,\n",
    "                  cv = 2, \n",
    "                  scoring = \"f1_macro\")\n",
    "gs.fit(X_train_total_cv, y_train_total[\"sentiment\"])\n",
    "best_params_learning_rate = gs.best_params_\n",
    "best_params_learning_rate"
   ]
  },
  {
   "cell_type": "code",
   "execution_count": 35,
   "metadata": {},
   "outputs": [
    {
     "data": {
      "image/png": "[encoded data removed]",
      "text/plain": [
       "<Figure size 864x288 with 1 Axes>"
      ]
     },
     "metadata": {
      "needs_background": "light"
     },
     "output_type": "display_data"
    }
   ],
   "source": [
    "#Visualizing hyperparameter tuning\n",
    "#Creating plot architecture\n",
    "fig, ax = plt.subplots(figsize = (12, 4))\n",
    "sns.despine(top = True)\n",
    "fig.suptitle(\"XGBoost: Tuning learning rate\",\n",
    "             color = \"#696969\",\n",
    "             weight = \"bold\",\n",
    "             size = 12)\n",
    "\n",
    "#Plotting\n",
    "plt.plot(np.linspace(0.5, 3, num = 5), abs(gs.cv_results_[\"mean_test_score\"]), color = \"#7ec8d9\")\n",
    "plt.ylabel(\"F1 macro\")\n",
    "plt.ylim(0.5, 1)\n",
    "plt.xlabel(\"Learning rate\")\n",
    "plt.xlim(0.5, 3)\n",
    "\n",
    "plt.show()"
   ]
  },
  {
   "cell_type": "code",
   "execution_count": 36,
   "metadata": {},
   "outputs": [
    {
     "data": {
      "text/plain": [
       "{'max_depth': 12}"
      ]
     },
     "execution_count": 36,
     "metadata": {},
     "output_type": "execute_result"
    }
   ],
   "source": [
    "#Deriving best parameters for XGBoost\n",
    "xgbr_params = [{\"max_depth\": [8,9,10,11,12]}]\n",
    "gs = GridSearchCV(xg.XGBClassifier(booster = \"gbtree\",\n",
    "                                   #best_params_booster[\"booster\"], \n",
    "                                   learning_rate = best_params_learning_rate[\"learning_rate\"]), \n",
    "                  param_grid = xgbr_params,\n",
    "                  cv = 2, \n",
    "                  scoring = \"f1_macro\")\n",
    "gs.fit(X_train_total_cv, y_train_total[\"sentiment\"])\n",
    "best_params_max_depth = gs.best_params_\n",
    "best_params_max_depth"
   ]
  },
  {
   "cell_type": "code",
   "execution_count": 37,
   "metadata": {},
   "outputs": [
    {
     "data": {
      "image/png": "[encoded data removed]",
      "text/plain": [
       "<Figure size 864x288 with 1 Axes>"
      ]
     },
     "metadata": {
      "needs_background": "light"
     },
     "output_type": "display_data"
    }
   ],
   "source": [
    "#Visualizing hyperparameter tuning\n",
    "#Creating plot architecture\n",
    "fig, ax = plt.subplots(figsize = (12, 4))\n",
    "sns.despine(top = True)\n",
    "fig.suptitle(\"XGBoost: Tuning maximum depth\",\n",
    "             color = \"#696969\",\n",
    "             weight = \"bold\",\n",
    "             size = 12)\n",
    "\n",
    "#Plotting\n",
    "plt.plot([8,9,10,11,12], abs(gs.cv_results_[\"mean_test_score\"]), color = \"#7ec8d9\")\n",
    "plt.ylabel(\"F1 macro\")\n",
    "plt.ylim(0.5, 1)\n",
    "plt.xlabel(\"Maximum depth\")\n",
    "plt.xlim(8, 12)\n",
    "\n",
    "plt.show()"
   ]
  },
  {
   "cell_type": "code",
   "execution_count": 38,
   "metadata": {},
   "outputs": [
    {
     "data": {
      "text/plain": [
       "{'subsample': 1.0}"
      ]
     },
     "execution_count": 38,
     "metadata": {},
     "output_type": "execute_result"
    }
   ],
   "source": [
    "#Deriving best parameters for XGBoost\n",
    "xgbr_params = [{\"subsample\": np.linspace(0.5, 1, num = 5)}]\n",
    "gs = GridSearchCV(xg.XGBClassifier(booster = \"gbtree\",\n",
    "                                   #best_params_booster[\"booster\"],\n",
    "                                   learning_rate = best_params_learning_rate[\"learning_rate\"],\n",
    "                                   max_depth = best_params_max_depth[\"max_depth\"]), \n",
    "                  param_grid = xgbr_params,\n",
    "                  cv = 2, \n",
    "                  scoring = \"f1_macro\")\n",
    "gs.fit(X_train_total_cv, y_train_total[\"sentiment\"])\n",
    "best_params_subsample = gs.best_params_\n",
    "best_params_subsample"
   ]
  },
  {
   "cell_type": "code",
   "execution_count": 39,
   "metadata": {},
   "outputs": [
    {
     "data": {
      "image/png": "[encoded data removed]",
      "text/plain": [
       "<Figure size 864x288 with 1 Axes>"
      ]
     },
     "metadata": {
      "needs_background": "light"
     },
     "output_type": "display_data"
    }
   ],
   "source": [
    "#Visualizing hyperparameter tuning\n",
    "#Creating plot architecture\n",
    "fig, ax = plt.subplots(figsize = (12, 4))\n",
    "sns.despine(top = True)\n",
    "fig.suptitle(\"XGBoost: Tuning subsample\",\n",
    "             color = \"#696969\",\n",
    "             weight = \"bold\",\n",
    "             size = 12)\n",
    "\n",
    "#Plotting\n",
    "plt.plot(np.linspace(0.5, 1, num = 5), abs(gs.cv_results_[\"mean_test_score\"]), color = \"#7ec8d9\")\n",
    "plt.ylabel(\"F1 macro\")\n",
    "plt.ylim(0.5, 1)\n",
    "plt.xlabel(\"Sample fraction considered at each split\")\n",
    "plt.xlim(0.5, 1.0)\n",
    "\n",
    "plt.show()"
   ]
  },
  {
   "cell_type": "code",
   "execution_count": 40,
   "metadata": {},
   "outputs": [
    {
     "data": {
      "text/plain": [
       "{'colsample_bytree': 1.0}"
      ]
     },
     "execution_count": 40,
     "metadata": {},
     "output_type": "execute_result"
    }
   ],
   "source": [
    "#Deriving best parameters for XGBoost\n",
    "xgbr_params = [{\"colsample_bytree\": np.linspace(0.5, 1, num = 5)}]\n",
    "gs = GridSearchCV(xg.XGBClassifier(booster = \"gbtree\",\n",
    "                                   #best_params_booster[\"booster\"],\n",
    "                                   learning_rate = best_params_learning_rate[\"learning_rate\"],\n",
    "                                   max_depth = best_params_max_depth[\"max_depth\"],\n",
    "                                   subsample = best_params_subsample[\"subsample\"]), \n",
    "                  param_grid = xgbr_params,\n",
    "                  cv = 2, \n",
    "                  scoring = \"f1_macro\")\n",
    "gs.fit(X_train_total_cv, y_train_total[\"sentiment\"])\n",
    "best_params_colsample = gs.best_params_\n",
    "best_params_colsample"
   ]
  },
  {
   "cell_type": "code",
   "execution_count": 41,
   "metadata": {},
   "outputs": [
    {
     "data": {
      "image/png": "[encoded data removed]",
      "text/plain": [
       "<Figure size 864x288 with 1 Axes>"
      ]
     },
     "metadata": {
      "needs_background": "light"
     },
     "output_type": "display_data"
    }
   ],
   "source": [
    "#Visualizing hyperparameter tuning\n",
    "#Creating plot architecture\n",
    "fig, ax = plt.subplots(figsize = (12, 4))\n",
    "sns.despine(top = True)\n",
    "fig.suptitle(\"XGBoost: Tuning column sample\",\n",
    "             color = \"#696969\",\n",
    "             weight = \"bold\",\n",
    "             size = 12)\n",
    "\n",
    "#Plotting\n",
    "plt.plot(np.linspace(0.5, 1, num = 5), abs(gs.cv_results_[\"mean_test_score\"]), color = \"#7ec8d9\")\n",
    "plt.ylabel(\"F1 macro\")\n",
    "plt.ylim(0.5, 1)\n",
    "plt.xlabel(\"Column fraction considered at each split\")\n",
    "plt.xlim(0.5, 1)\n",
    "\n",
    "plt.show()"
   ]
  },
  {
   "cell_type": "code",
   "execution_count": 42,
   "metadata": {},
   "outputs": [
    {
     "data": {
      "text/plain": [
       "{'n_estimators': 190}"
      ]
     },
     "execution_count": 42,
     "metadata": {},
     "output_type": "execute_result"
    }
   ],
   "source": [
    "#Deriving hyperparameters for XGBoost\n",
    "rndf_params = [{\"n_estimators\": [x for x in range(100, 200, 10)]}]\n",
    "gs = GridSearchCV(xg.XGBClassifier(booster = \"gbtree\",\n",
    "                                   #best_params_booster[\"booster\"],\n",
    "                                   learning_rate = best_params_learning_rate[\"learning_rate\"],\n",
    "                                   max_depth = best_params_max_depth[\"max_depth\"],\n",
    "                                   subsample = best_params_subsample[\"subsample\"], \n",
    "                                   colsample_bytree = best_params_colsample[\"colsample_bytree\"]), \n",
    "                  param_grid = rndf_params,\n",
    "                  cv = 2, \n",
    "                  scoring = \"f1_macro\")\n",
    "gs.fit(X_train_total_cv, y_train_total[\"sentiment\"])\n",
    "best_params_estimators = gs.best_params_\n",
    "best_params_estimators"
   ]
  },
  {
   "cell_type": "code",
   "execution_count": 43,
   "metadata": {},
   "outputs": [
    {
     "data": {
      "image/png": "[encoded data removed]",
      "text/plain": [
       "<Figure size 864x288 with 1 Axes>"
      ]
     },
     "metadata": {
      "needs_background": "light"
     },
     "output_type": "display_data"
    }
   ],
   "source": [
    "#Visualizing hyperparameter tuning\n",
    "#Creating plot architecture\n",
    "fig, ax = plt.subplots(figsize = (12, 4))\n",
    "sns.despine(top = True)\n",
    "fig.suptitle(\"XGBoost: Tuning number of estimators\",\n",
    "             color = \"#696969\",\n",
    "             weight = \"bold\",\n",
    "             size = 12)\n",
    "\n",
    "#Plotting\n",
    "plt.plot([x for x in range(100, 200, 10)], abs(gs.cv_results_[\"mean_test_score\"]), color = \"#7ec8d9\")\n",
    "plt.ylabel(\"F1 macro\")\n",
    "plt.ylim(0.5, 1)\n",
    "plt.xlabel(\"Number of estimators\")\n",
    "plt.xlim(100, 190)\n",
    "\n",
    "plt.show()"
   ]
  },
  {
   "cell_type": "code",
   "execution_count": 44,
   "metadata": {},
   "outputs": [
    {
     "data": {
      "text/plain": [
       "{'gamma': 0.06000000000000001}"
      ]
     },
     "execution_count": 44,
     "metadata": {},
     "output_type": "execute_result"
    }
   ],
   "source": [
    "#Deriving hyperparameters for XGBoost\n",
    "rndf_params = [{\"gamma\": np.linspace(0.01, 0.1, 10)}]\n",
    "gs = GridSearchCV(xg.XGBClassifier(booster = \"gbtree\",\n",
    "                                   #best_params_booster[\"booster\"],\n",
    "                                   learning_rate = best_params_learning_rate[\"learning_rate\"],\n",
    "                                   max_depth = best_params_max_depth[\"max_depth\"],\n",
    "                                   subsample = best_params_subsample[\"subsample\"], \n",
    "                                   colsample_bytree = best_params_colsample[\"colsample_bytree\"], \n",
    "                                   n_estimators = best_params_estimators[\"n_estimators\"]), \n",
    "                  param_grid = rndf_params,\n",
    "                  cv = 2, \n",
    "                  scoring = \"f1_macro\")\n",
    "gs.fit(X_train_total_cv, y_train_total[\"sentiment\"])\n",
    "best_params_gamma = gs.best_params_\n",
    "best_params_gamma"
   ]
  },
  {
   "cell_type": "code",
   "execution_count": 45,
   "metadata": {},
   "outputs": [
    {
     "data": {
      "image/png": "[encoded data removed]",
      "text/plain": [
       "<Figure size 864x288 with 1 Axes>"
      ]
     },
     "metadata": {
      "needs_background": "light"
     },
     "output_type": "display_data"
    }
   ],
   "source": [
    "#Visualizing hyperparameter tuning\n",
    "#Creating plot architecture\n",
    "fig, ax = plt.subplots(figsize = (12, 4))\n",
    "sns.despine(top = True)\n",
    "fig.suptitle(\"XGBoost: Tuning gamma\",\n",
    "             color = \"#696969\",\n",
    "             weight = \"bold\",\n",
    "             size = 12)\n",
    "\n",
    "#Plotting\n",
    "plt.plot(np.linspace(0.01, 0.1, 10), abs(gs.cv_results_[\"mean_test_score\"]), color = \"#7ec8d9\")\n",
    "plt.ylabel(\"F1 macro\")\n",
    "plt.ylim(0.5, 1)\n",
    "plt.xlabel(\"Gamma\")\n",
    "plt.xlim(0.01, 0.1)\n",
    "\n",
    "plt.show()"
   ]
  },
  {
   "cell_type": "code",
   "execution_count": 46,
   "metadata": {},
   "outputs": [
    {
     "data": {
      "text/plain": [
       "XGBClassifier(base_score=0.5, booster='gbtree', callbacks=None,\n",
       "              colsample_bylevel=1, colsample_bynode=1, colsample_bytree=1.0,\n",
       "              early_stopping_rounds=None, enable_categorical=False,\n",
       "              eval_metric=None, gamma=0.06000000000000001, gpu_id=-1,\n",
       "              grow_policy='depthwise', importance_type=None,\n",
       "              interaction_constraints='', learning_rate=1.125, max_bin=256,\n",
       "              max_cat_to_onehot=4, max_delta_step=0, max_depth=12, max_leaves=0,\n",
       "              min_child_weight=1, missing=nan, monotone_constraints='()',\n",
       "              n_estimators=190, n_jobs=0, num_parallel_tree=1, predictor='auto',\n",
       "              random_state=1, reg_alpha=0, reg_lambda=1, ...)"
      ]
     },
     "execution_count": 46,
     "metadata": {},
     "output_type": "execute_result"
    }
   ],
   "source": [
    "#Fitting XGBoost\n",
    "xgb_cv = xg.XGBClassifier(objective = \"binary:logistic\", \n",
    "                          booster = \"gbtree\",\n",
    "                          #best_params_booster[\"booster\"],\n",
    "                          learning_rate = best_params_learning_rate[\"learning_rate\"],\n",
    "                          max_depth = int(best_params_max_depth[\"max_depth\"]),\n",
    "                          subsample = best_params_subsample[\"subsample\"],\n",
    "                          colsample_bytree = best_params_colsample[\"colsample_bytree\"], \n",
    "                          n_estimators = best_params_estimators[\"n_estimators\"],\n",
    "                          gamma = best_params_gamma[\"gamma\"],\n",
    "                          random_state = 1)\n",
    "xgb_cv.fit(X_train_total_cv, y_train_total[\"sentiment\"])"
   ]
  },
  {
   "cell_type": "code",
   "execution_count": 47,
   "metadata": {},
   "outputs": [
    {
     "name": "stdout",
     "output_type": "stream",
     "text": [
      "              precision    recall  f1-score   support\n",
      "\n",
      "           0       0.95      0.97      0.96     30212\n",
      "           1       0.69      0.57      0.62      3310\n",
      "\n",
      "    accuracy                           0.93     33522\n",
      "   macro avg       0.82      0.77      0.79     33522\n",
      "weighted avg       0.93      0.93      0.93     33522\n",
      "\n"
     ]
    }
   ],
   "source": [
    "#Evaluating XGBoost on total test set\n",
    "y_test_cv_pred = xgb_cv.predict(X_test_cv)\n",
    "print(classification_report(y_test[\"sentiment\"], y_test_cv_pred))"
   ]
  },
  {
   "cell_type": "code",
   "execution_count": 48,
   "metadata": {},
   "outputs": [
    {
     "name": "stdout",
     "output_type": "stream",
     "text": [
      "              precision    recall  f1-score   support\n",
      "\n",
      "           0       0.91      0.94      0.92      2123\n",
      "           1       0.38      0.26      0.31       282\n",
      "\n",
      "    accuracy                           0.86      2405\n",
      "   macro avg       0.64      0.60      0.62      2405\n",
      "weighted avg       0.84      0.86      0.85      2405\n",
      "\n"
     ]
    }
   ],
   "source": [
    "#Evaluating XGBoost on gold test set\n",
    "y_test_gold_cv_pred = xgb_cv.predict(X_test_gold_cv)\n",
    "print(classification_report(y_test_gold[\"sentiment\"], y_test_gold_cv_pred))"
   ]
  },
  {
   "cell_type": "code",
   "execution_count": 49,
   "metadata": {},
   "outputs": [],
   "source": [
    "#Saving fitted model\n",
    "os.chdir(\"..\")\n",
    "os.chdir(\"..\")\n",
    "os.chdir(\"Models/Articles/ML_DL\")\n",
    "model_name = \"xgb_cv.pkl\"\n",
    "with open(model_name, \"wb\") as file:\n",
    "    pickle.dump(xgb_cv, file)\n",
    "os.chdir(\"..\")\n",
    "os.chdir(\"..\")\n",
    "os.chdir(\"Notebooks/Articles\")"
   ]
  },
  {
   "cell_type": "markdown",
   "metadata": {},
   "source": [
    "### Section 2.4: <a class=\"anchor\" id=\"section_2_4\"></a> Random Forest"
   ]
  },
  {
   "cell_type": "code",
   "execution_count": 50,
   "metadata": {},
   "outputs": [
    {
     "data": {
      "text/plain": [
       "RandomForestClassifier(random_state=1)"
      ]
     },
     "execution_count": 50,
     "metadata": {},
     "output_type": "execute_result"
    }
   ],
   "source": [
    "#Fitting random forest with count vectorized X\n",
    "rf = RandomForestClassifier(random_state = 1)\n",
    "rf.fit(X_train_total_cv, y_train_total[\"sentiment\"])"
   ]
  },
  {
   "cell_type": "code",
   "execution_count": 51,
   "metadata": {},
   "outputs": [
    {
     "name": "stdout",
     "output_type": "stream",
     "text": [
      "              precision    recall  f1-score   support\n",
      "\n",
      "           0       0.94      0.98      0.96     30212\n",
      "           1       0.76      0.47      0.58      3310\n",
      "\n",
      "    accuracy                           0.93     33522\n",
      "   macro avg       0.85      0.73      0.77     33522\n",
      "weighted avg       0.93      0.93      0.93     33522\n",
      "\n"
     ]
    }
   ],
   "source": [
    "#Evaluating random forest with count vectorized X\n",
    "y_test_cv_pred = rf.predict(X_test_cv)\n",
    "print(classification_report(y_test[\"sentiment\"], y_test_cv_pred))"
   ]
  },
  {
   "cell_type": "code",
   "execution_count": 52,
   "metadata": {},
   "outputs": [
    {
     "data": {
      "text/plain": [
       "RandomForestClassifier(random_state=1)"
      ]
     },
     "execution_count": 52,
     "metadata": {},
     "output_type": "execute_result"
    }
   ],
   "source": [
    "#Fitting random forest with TF-IDF vectorized X\n",
    "rf = RandomForestClassifier(random_state = 1)\n",
    "rf.fit(X_train_total_tf, y_train_total[\"sentiment\"])"
   ]
  },
  {
   "cell_type": "code",
   "execution_count": 53,
   "metadata": {},
   "outputs": [
    {
     "name": "stdout",
     "output_type": "stream",
     "text": [
      "              precision    recall  f1-score   support\n",
      "\n",
      "           0       0.94      0.99      0.96     30212\n",
      "           1       0.77      0.43      0.56      3310\n",
      "\n",
      "    accuracy                           0.93     33522\n",
      "   macro avg       0.86      0.71      0.76     33522\n",
      "weighted avg       0.92      0.93      0.92     33522\n",
      "\n"
     ]
    }
   ],
   "source": [
    "#Evaluating random forest with TF-IDF vectorized X\n",
    "y_test_tf_pred = rf.predict(X_test_tf)\n",
    "print(classification_report(y_test[\"sentiment\"], y_test_tf_pred))"
   ]
  },
  {
   "cell_type": "code",
   "execution_count": 54,
   "metadata": {},
   "outputs": [
    {
     "data": {
      "text/plain": [
       "RandomForestClassifier(max_depth=2500, max_features=3000, random_state=1)"
      ]
     },
     "execution_count": 54,
     "metadata": {},
     "output_type": "execute_result"
    }
   ],
   "source": [
    "#Fitting random forest\n",
    "#No GridSearch given long training time\n",
    "rf_cv = RandomForestClassifier(max_features = 3000, \n",
    "                               max_depth = 2500,\n",
    "                               random_state = 1)\n",
    "rf_cv.fit(X_train_total_cv, y_train_total[\"sentiment\"])"
   ]
  },
  {
   "cell_type": "code",
   "execution_count": 55,
   "metadata": {},
   "outputs": [
    {
     "name": "stdout",
     "output_type": "stream",
     "text": [
      "              precision    recall  f1-score   support\n",
      "\n",
      "           0       0.95      0.97      0.96     30212\n",
      "           1       0.70      0.57      0.63      3310\n",
      "\n",
      "    accuracy                           0.93     33522\n",
      "   macro avg       0.83      0.77      0.80     33522\n",
      "weighted avg       0.93      0.93      0.93     33522\n",
      "\n"
     ]
    }
   ],
   "source": [
    "#Evaluating random forest on total test set\n",
    "y_test_cv_pred = rf_cv.predict(X_test_cv)\n",
    "print(classification_report(y_test[\"sentiment\"], y_test_cv_pred))"
   ]
  },
  {
   "cell_type": "code",
   "execution_count": 56,
   "metadata": {},
   "outputs": [
    {
     "name": "stdout",
     "output_type": "stream",
     "text": [
      "              precision    recall  f1-score   support\n",
      "\n",
      "           0       0.91      0.95      0.93      2123\n",
      "           1       0.46      0.31      0.37       282\n",
      "\n",
      "    accuracy                           0.88      2405\n",
      "   macro avg       0.69      0.63      0.65      2405\n",
      "weighted avg       0.86      0.88      0.87      2405\n",
      "\n"
     ]
    }
   ],
   "source": [
    "#Evaluating random forest on gold test set\n",
    "y_test_gold_cv_pred = rf_cv.predict(X_test_gold_cv)\n",
    "print(classification_report(y_test_gold[\"sentiment\"], y_test_gold_cv_pred))"
   ]
  },
  {
   "cell_type": "code",
   "execution_count": 57,
   "metadata": {},
   "outputs": [],
   "source": [
    "#Saving fitted model\n",
    "os.chdir(\"..\")\n",
    "os.chdir(\"..\")\n",
    "os.chdir(\"Models/Articles/ML_DL\")\n",
    "model_name = \"rf_cv.pkl\"\n",
    "with open(model_name, \"wb\") as file:\n",
    "    pickle.dump(rf_cv, file)\n",
    "os.chdir(\"..\")\n",
    "os.chdir(\"..\")\n",
    "os.chdir(\"Notebooks/Articles\")"
   ]
  },
  {
   "cell_type": "markdown",
   "metadata": {},
   "source": [
    "## Chapter 3: <a class=\"anchor\" id=\"chapter3\"></a> ML Algorithms with Embedded Statements"
   ]
  },
  {
   "cell_type": "markdown",
   "metadata": {},
   "source": [
    "### Section 3.1: <a class=\"anchor\" id=\"section_3_1\"></a> Embeddings"
   ]
  },
  {
   "cell_type": "code",
   "execution_count": 58,
   "metadata": {},
   "outputs": [
    {
     "name": "stderr",
     "output_type": "stream",
     "text": [
      "Warning : `load_model` does not return WordVectorModel or SupervisedModel any more, but a `FastText` object which is very similar.\n"
     ]
    }
   ],
   "source": [
    "#Loading fastText embeddings\n",
    "ft = fasttext.load_model(\"Resources/fastText/cc.de.300.bin\")"
   ]
  },
  {
   "cell_type": "code",
   "execution_count": 59,
   "metadata": {
    "scrolled": true
   },
   "outputs": [],
   "source": [
    "#Defining function to return fastText vectors\n",
    "def get_ft_vectors(tokens, dimension):\n",
    "    tokens = [token_split for token in tokens for token_split in token.split(\"_\")]\n",
    "    dim_y = len(tokens)\n",
    "    dim_x = dimension\n",
    "    vectors = np.empty((dim_y, dim_x))\n",
    "    for index, token in enumerate(tokens):\n",
    "        try:\n",
    "            vectors[index] = ft.get_word_vector(token)\n",
    "        except:\n",
    "            vectors[index] = 0 \n",
    "    return vectors"
   ]
  },
  {
   "cell_type": "code",
   "execution_count": 60,
   "metadata": {},
   "outputs": [],
   "source": [
    "#Loading GloVe embeddings\n",
    "os.chdir(\"..\")\n",
    "os.chdir(\"..\")\n",
    "df_glove = pd.read_csv(\"Resources/GloVe/Vectors.txt\", sep = \" \", header = None)\n",
    "os.chdir(\"Notebooks/Articles\")"
   ]
  },
  {
   "cell_type": "code",
   "execution_count": 61,
   "metadata": {},
   "outputs": [],
   "source": [
    "#Defining function to return GloVe vectors\n",
    "def get_glove_vectors(tokens, dimension):\n",
    "    tokens = [token_split for token in tokens for token_split in token.split(\"_\")]\n",
    "    dim_y = len(tokens)\n",
    "    dim_x = dimension\n",
    "    vectors = np.empty((dim_y, dim_x))\n",
    "    for index, token in enumerate(tokens):\n",
    "        try:\n",
    "            df_filtered = df_glove[df_glove[0] == token]\n",
    "            vector = np.array(df_filtered.iloc[0,1:dimension+1])\n",
    "            vectors[index] = vector\n",
    "        except:\n",
    "            vectors[index] = 0\n",
    "    return vectors"
   ]
  },
  {
   "cell_type": "code",
   "execution_count": 62,
   "metadata": {},
   "outputs": [],
   "source": [
    "#Loading Word2Vec embeddings\n",
    "os.chdir(\"..\")\n",
    "os.chdir(\"..\")\n",
    "df_word2vec = pd.read_csv(\"Resources/Word2Vec/Vectors.txt\", sep = \" \", header = None)\n",
    "os.chdir(\"Notebooks/Articles\")"
   ]
  },
  {
   "cell_type": "code",
   "execution_count": 63,
   "metadata": {},
   "outputs": [],
   "source": [
    "#Cleaning text\n",
    "df_word2vec[0] = df_word2vec[0].apply(lambda x: x.replace(\"b'\", \"\").replace(\"'\", \"\"))"
   ]
  },
  {
   "cell_type": "code",
   "execution_count": 64,
   "metadata": {},
   "outputs": [],
   "source": [
    "#Defining function to return Word2Vec vectors\n",
    "def get_word2vec_vectors(tokens, dimension):\n",
    "    tokens = [token_split for token in tokens for token_split in token.split(\"_\")]\n",
    "    dim_y = len(tokens)\n",
    "    dim_x = dimension\n",
    "    vectors = np.empty((dim_y, dim_x))\n",
    "    for index, token in enumerate(tokens):\n",
    "        try:\n",
    "            df_filtered = df_word2vec[df_word2vec[0] == token]\n",
    "            vector = np.array(df_filtered.iloc[0,1:dimension+1])\n",
    "            vectors[index] = vector\n",
    "        except:\n",
    "            vectors[index] = 0\n",
    "    return vectors"
   ]
  },
  {
   "cell_type": "code",
   "execution_count": 65,
   "metadata": {},
   "outputs": [],
   "source": [
    "#Instantiating nlp\n",
    "nlp = spacy.load(\"de_core_news_md\", disable = [\"tagger\", \"parser\", \"ner\"])"
   ]
  },
  {
   "cell_type": "code",
   "execution_count": 66,
   "metadata": {},
   "outputs": [],
   "source": [
    "#Defining function to return Spacy vectors\n",
    "def get_spacy_vectors(tokens):\n",
    "    tokens = [token_split for token in tokens for token_split in token.split(\"_\")]\n",
    "    tokens_string = \" \".join(tokens)\n",
    "    doc = nlp(tokens_string)\n",
    "    dim_y = len(doc)\n",
    "    dim_x = 300\n",
    "    vectors = np.empty((dim_y, dim_x))\n",
    "    for index, token in enumerate(doc):\n",
    "        try:\n",
    "            vector = token.vector\n",
    "            vectors[index] = vector\n",
    "        except:\n",
    "            vectors[index] = 0\n",
    "    return vectors"
   ]
  },
  {
   "cell_type": "code",
   "execution_count": 67,
   "metadata": {},
   "outputs": [],
   "source": [
    "#Creating embedding dataframes\n",
    "X_train_total_embed = X_train_total.copy()\n",
    "X_train_embed = X_train.copy()\n",
    "X_vali_embed = X_vali.copy()\n",
    "X_test_embed = X_test.copy()\n",
    "X_test_gold_embed = X_test_gold.copy()"
   ]
  },
  {
   "cell_type": "code",
   "execution_count": 68,
   "metadata": {},
   "outputs": [],
   "source": [
    "#Generating tokens\n",
    "X_train_total_embed[\"clause_ABSA_tokens\"] = X_train_total_embed[\"clause_ABSA\"].apply(lambda x: x.split(\" \"))\n",
    "X_train_embed[\"clause_ABSA_tokens\"] = X_train_embed[\"clause_ABSA\"].apply(lambda x: x.split(\" \"))\n",
    "X_vali_embed[\"clause_ABSA_tokens\"] = X_vali_embed[\"clause_ABSA\"].apply(lambda x: x.split(\" \"))\n",
    "X_test_embed[\"clause_ABSA_tokens\"] = X_test_embed[\"clause_ABSA\"].apply(lambda x: x.split(\" \"))\n",
    "X_test_gold_embed[\"clause_ABSA_tokens\"] = X_test_gold_embed[\"clause_ABSA\"].apply(lambda x: x.split(\" \"))"
   ]
  },
  {
   "cell_type": "code",
   "execution_count": 69,
   "metadata": {},
   "outputs": [
    {
     "name": "stderr",
     "output_type": "stream",
     "text": [
      "100%|█████████████████████████████████| 126871/126871 [00:31<00:00, 4051.78it/s]\n",
      "100%|█████████████████████████████████| 101496/101496 [00:11<00:00, 8548.75it/s]\n",
      "100%|███████████████████████████████████| 25375/25375 [00:02<00:00, 8612.90it/s]\n",
      "100%|███████████████████████████████████| 33522/33522 [00:06<00:00, 5506.79it/s]\n",
      "100%|█████████████████████████████████████| 2405/2405 [00:00<00:00, 8302.73it/s]\n"
     ]
    }
   ],
   "source": [
    "#Getting fastText vectors\n",
    "X_train_total_embed[\"clause_ABSA_ft_vectors\"] = X_train_total_embed[\"clause_ABSA_tokens\"].progress_apply(lambda x: get_ft_vectors(x, 300).mean(axis = 0))\n",
    "X_train_embed[\"clause_ABSA_ft_vectors\"] = X_train_embed[\"clause_ABSA_tokens\"].progress_apply(lambda x: get_ft_vectors(x, 300).mean(axis = 0))\n",
    "X_vali_embed[\"clause_ABSA_ft_vectors\"] = X_vali_embed[\"clause_ABSA_tokens\"].progress_apply(lambda x: get_ft_vectors(x, 300).mean(axis = 0))\n",
    "X_test_embed[\"clause_ABSA_ft_vectors\"] = X_test_embed[\"clause_ABSA_tokens\"].progress_apply(lambda x: get_ft_vectors(x, 300).mean(axis = 0))\n",
    "X_test_gold_embed[\"clause_ABSA_ft_vectors\"] = X_test_gold_embed[\"clause_ABSA_tokens\"].progress_apply(lambda x: get_ft_vectors(x, 300).mean(axis = 0))"
   ]
  },
  {
   "cell_type": "code",
   "execution_count": 70,
   "metadata": {},
   "outputs": [],
   "source": [
    "#Getting GloVe vectors - takes too long\n",
    "#X_train_total_embed[\"clause_ABSA_glove_vectors\"] = X_train_total_embed[\"clause_ABSA_tokens\"].progress_apply(lambda x: get_glove_vectors(x, 300).mean(axis = 0))\n",
    "#X_train_embed[\"clause_ABSA_glove_vectors\"] = X_train_embed[\"clause_ABSA_tokens\"].progress_apply(lambda x: get_glove_vectors(x, 300).mean(axis = 0))\n",
    "#X_vali_embed[\"clause_ABSA_glove_vectors\"] = X_vali_embed[\"clause_ABSA_tokens\"].progress_apply(lambda x: get_glove_vectors(x, 300).mean(axis = 0))\n",
    "#X_test_embed[\"clause_ABSA_glove_vectors\"] = X_test_embed[\"clause_ABSA_tokens\"].progress_apply(lambda x: get_glove_vectors(x, 300).mean(axis = 0))\n",
    "#X_test_gold_embed[\"clause_ABSA_glove_vectors\"] = X_test_gold_embed[\"clause_ABSA_tokens\"].progress_apply(lambda x: get_glove_vectors(x, 300).mean(axis = 0))"
   ]
  },
  {
   "cell_type": "code",
   "execution_count": 71,
   "metadata": {},
   "outputs": [],
   "source": [
    "#Getting Word2Vec vectors - takes too long\n",
    "#X_train_total_embed[\"clause_ABSA_word2vec_vectors\"] = X_train_total_embed[\"clause_ABSA_tokens\"].progress_apply(lambda x: get_word2vec_vectors(x, 300).mean(axis = 0))\n",
    "#X_train_embed[\"clause_ABSA_word2vec_vectors\"] = X_train_embed[\"clause_ABSA_tokens\"].progress_apply(lambda x: get_word2vec_vectors(x, 300).mean(axis = 0))\n",
    "#X_vali_embed[\"clause_ABSA_word2vec_vectors\"] = X_vali_embed[\"clause_ABSA_tokens\"].progress_apply(lambda x: get_word2vec_vectors(x, 300).mean(axis = 0))\n",
    "#X_test_embed[\"clause_ABSA_word2vec_vectors\"] = X_test_embed[\"clause_ABSA_tokens\"].progress_apply(lambda x: get_word2vec_vectors(x, 300).mean(axis = 0))\n",
    "#X_test_gold_embed[\"clause_ABSA_word2vec_vectors\"] = X_test_gold_embed[\"clause_ABSA_tokens\"].progress_apply(lambda x: get_word2vec_vectors(x, 300).mean(axis = 0))"
   ]
  },
  {
   "cell_type": "code",
   "execution_count": 72,
   "metadata": {},
   "outputs": [
    {
     "name": "stderr",
     "output_type": "stream",
     "text": [
      "100%|██████████████████████████████████| 126871/126871 [04:35<00:00, 461.22it/s]\n",
      "100%|██████████████████████████████████| 101496/101496 [03:36<00:00, 469.76it/s]\n",
      "100%|████████████████████████████████████| 25375/25375 [00:54<00:00, 468.91it/s]\n",
      "100%|████████████████████████████████████| 33522/33522 [01:12<00:00, 465.27it/s]\n",
      "100%|██████████████████████████████████████| 2405/2405 [00:05<00:00, 464.56it/s]\n"
     ]
    }
   ],
   "source": [
    "#Getting Spacy vectors\n",
    "X_train_total_embed[\"clause_ABSA_spacy_vectors\"] = X_train_total_embed[\"clause_ABSA_tokens\"].progress_apply(lambda x: get_spacy_vectors(x).mean(axis = 0))\n",
    "X_train_embed[\"clause_ABSA_spacy_vectors\"] = X_train_embed[\"clause_ABSA_tokens\"].progress_apply(lambda x: get_spacy_vectors(x).mean(axis = 0))\n",
    "X_vali_embed[\"clause_ABSA_spacy_vectors\"] = X_vali_embed[\"clause_ABSA_tokens\"].progress_apply(lambda x: get_spacy_vectors(x).mean(axis = 0))\n",
    "X_test_embed[\"clause_ABSA_spacy_vectors\"] = X_test_embed[\"clause_ABSA_tokens\"].progress_apply(lambda x: get_spacy_vectors(x).mean(axis = 0))\n",
    "X_test_gold_embed[\"clause_ABSA_spacy_vectors\"] = X_test_gold_embed[\"clause_ABSA_tokens\"].progress_apply(lambda x: get_spacy_vectors(x).mean(axis = 0))"
   ]
  },
  {
   "cell_type": "markdown",
   "metadata": {},
   "source": [
    "### Section 3.2: <a class=\"anchor\" id=\"section_3_2\"></a> Logistic Regression"
   ]
  },
  {
   "cell_type": "code",
   "execution_count": 73,
   "metadata": {},
   "outputs": [
    {
     "data": {
      "text/plain": [
       "LogisticRegression(random_state=1)"
      ]
     },
     "execution_count": 73,
     "metadata": {},
     "output_type": "execute_result"
    }
   ],
   "source": [
    "#Fitting logistic regression with fastText embeddings\n",
    "log_reg = LogisticRegression(random_state = 1)\n",
    "log_reg.fit(X_train_total_embed[\"clause_ABSA_ft_vectors\"].to_list(), y_train_total[\"sentiment\"])"
   ]
  },
  {
   "cell_type": "code",
   "execution_count": 74,
   "metadata": {},
   "outputs": [
    {
     "name": "stdout",
     "output_type": "stream",
     "text": [
      "              precision    recall  f1-score   support\n",
      "\n",
      "           0       0.91      0.99      0.95     30212\n",
      "           1       0.67      0.13      0.22      3310\n",
      "\n",
      "    accuracy                           0.91     33522\n",
      "   macro avg       0.79      0.56      0.58     33522\n",
      "weighted avg       0.89      0.91      0.88     33522\n",
      "\n"
     ]
    }
   ],
   "source": [
    "#Evaluating logistic regression with fastText embeddings\n",
    "y_test_ft_pred = log_reg.predict(X_test_embed[\"clause_ABSA_ft_vectors\"].to_list())\n",
    "print(classification_report(y_test[\"sentiment\"], y_test_ft_pred))"
   ]
  },
  {
   "cell_type": "code",
   "execution_count": 75,
   "metadata": {},
   "outputs": [
    {
     "data": {
      "text/plain": [
       "LogisticRegression(random_state=1)"
      ]
     },
     "execution_count": 75,
     "metadata": {},
     "output_type": "execute_result"
    }
   ],
   "source": [
    "#Fitting logistic regression with Spacy embeddings\n",
    "log_reg = LogisticRegression(random_state = 1)\n",
    "log_reg.fit(X_train_total_embed[\"clause_ABSA_spacy_vectors\"].to_list(), y_train_total[\"sentiment\"])"
   ]
  },
  {
   "cell_type": "code",
   "execution_count": 76,
   "metadata": {},
   "outputs": [
    {
     "name": "stdout",
     "output_type": "stream",
     "text": [
      "              precision    recall  f1-score   support\n",
      "\n",
      "           0       0.92      0.98      0.95     30212\n",
      "           1       0.63      0.25      0.36      3310\n",
      "\n",
      "    accuracy                           0.91     33522\n",
      "   macro avg       0.78      0.62      0.65     33522\n",
      "weighted avg       0.89      0.91      0.89     33522\n",
      "\n"
     ]
    }
   ],
   "source": [
    "#Evaluating logistic regression with Spacy embeddings\n",
    "y_test_spacy_pred = log_reg.predict(X_test_embed[\"clause_ABSA_spacy_vectors\"].to_list())\n",
    "print(classification_report(y_test[\"sentiment\"], y_test_spacy_pred))"
   ]
  },
  {
   "cell_type": "code",
   "execution_count": 77,
   "metadata": {},
   "outputs": [
    {
     "data": {
      "text/plain": [
       "{'penalty': 'l2'}"
      ]
     },
     "execution_count": 77,
     "metadata": {},
     "output_type": "execute_result"
    }
   ],
   "source": [
    "#Deriving best parameters for logistic regression\n",
    "log_reg_params = [{\"penalty\": [\"l1\", \"l2\", \"elasticnet\", \"none\"]}]\n",
    "gs = GridSearchCV(LogisticRegression(solver = \"liblinear\"), \n",
    "                  param_grid = log_reg_params,\n",
    "                  cv = 2, \n",
    "                  scoring = \"f1_macro\")\n",
    "gs.fit(X_train_total_embed[\"clause_ABSA_spacy_vectors\"].to_list(), y_train_total[\"sentiment\"])\n",
    "best_params_penalty = gs.best_params_\n",
    "best_params_penalty"
   ]
  },
  {
   "cell_type": "code",
   "execution_count": 78,
   "metadata": {},
   "outputs": [
    {
     "data": {
      "image/png": "[encoded data removed]",
      "text/plain": [
       "<Figure size 864x288 with 1 Axes>"
      ]
     },
     "metadata": {
      "needs_background": "light"
     },
     "output_type": "display_data"
    }
   ],
   "source": [
    "#Visualizing hyperparameter tuning\n",
    "#Preparing data\n",
    "y = gs.cv_results_[\"mean_test_score\"][gs.cv_results_[\"mean_test_score\"] > 0]\n",
    "\n",
    "#Creating plot architecture\n",
    "fig, ax = plt.subplots(figsize = (12, 4))\n",
    "sns.despine(top = True)\n",
    "fig.suptitle(\"Logistic regression: Tuning penalty\",\n",
    "             color = \"#696969\",\n",
    "             weight = \"bold\",\n",
    "             size = 12)\n",
    "\n",
    "#Plotting\n",
    "plt.bar([\"l1\", \"l2\"], y, color = \"#E8E8E8\")\n",
    "plt.ylabel(\"F1 macro\")\n",
    "plt.ylim(0, 1)\n",
    "plt.xlabel(\"Penalty\")\n",
    "\n",
    "#Setting parameters\n",
    "ax.patches[1].set_facecolor(\"#add1de\")\n",
    "\n",
    "plt.show()"
   ]
  },
  {
   "cell_type": "code",
   "execution_count": 79,
   "metadata": {},
   "outputs": [
    {
     "data": {
      "text/plain": [
       "{'C': 89.0}"
      ]
     },
     "execution_count": 79,
     "metadata": {},
     "output_type": "execute_result"
    }
   ],
   "source": [
    "#Deriving best parameters for logistic regression\n",
    "log_reg_params = [{\"C\": np.linspace(1, 100, 10)}]\n",
    "gs = GridSearchCV(LogisticRegression(solver = \"liblinear\",\n",
    "                                     penalty = best_params_penalty[\"penalty\"]), \n",
    "                  param_grid = log_reg_params,\n",
    "                  cv = 2, \n",
    "                  scoring = \"f1_macro\")\n",
    "gs.fit(X_train_total_embed[\"clause_ABSA_spacy_vectors\"].to_list(), y_train_total[\"sentiment\"])\n",
    "best_params_C = gs.best_params_\n",
    "best_params_C"
   ]
  },
  {
   "cell_type": "code",
   "execution_count": 80,
   "metadata": {},
   "outputs": [
    {
     "data": {
      "image/png": "[encoded data removed]",
      "text/plain": [
       "<Figure size 864x288 with 1 Axes>"
      ]
     },
     "metadata": {
      "needs_background": "light"
     },
     "output_type": "display_data"
    }
   ],
   "source": [
    "#Visualizing hyperparameter tuning\n",
    "#Creating plot architecture\n",
    "fig, ax = plt.subplots(figsize = (12, 4))\n",
    "sns.despine(top = True)\n",
    "fig.suptitle(\"Logistic regression: Tuning C\",\n",
    "             color = \"#696969\",\n",
    "             weight = \"bold\",\n",
    "             size = 12)\n",
    "\n",
    "#Plotting\n",
    "plt.plot(np.linspace(1, 100, 10), abs(gs.cv_results_[\"mean_test_score\"]), color = \"#7ec8d9\")\n",
    "plt.ylabel(\"F1 macro\")\n",
    "plt.ylim(0.5, 1)\n",
    "plt.xlabel(\"C\")\n",
    "plt.xlim(1, 100)\n",
    "\n",
    "plt.show()"
   ]
  },
  {
   "cell_type": "code",
   "execution_count": 81,
   "metadata": {},
   "outputs": [
    {
     "data": {
      "text/plain": [
       "LogisticRegression(C=89.0, random_state=1, solver='liblinear')"
      ]
     },
     "execution_count": 81,
     "metadata": {},
     "output_type": "execute_result"
    }
   ],
   "source": [
    "#Fitting logistic regression\n",
    "log_reg_spacy = LogisticRegression(solver = \"liblinear\",\n",
    "                                   penalty = best_params_penalty[\"penalty\"],\n",
    "                                   C = best_params_C[\"C\"], \n",
    "                                   random_state = 1)\n",
    "log_reg_spacy.fit(X_train_total_embed[\"clause_ABSA_spacy_vectors\"].to_list(), y_train_total[\"sentiment\"])"
   ]
  },
  {
   "cell_type": "code",
   "execution_count": 82,
   "metadata": {},
   "outputs": [
    {
     "name": "stdout",
     "output_type": "stream",
     "text": [
      "              precision    recall  f1-score   support\n",
      "\n",
      "           0       0.92      0.98      0.95     30212\n",
      "           1       0.64      0.25      0.36      3310\n",
      "\n",
      "    accuracy                           0.91     33522\n",
      "   macro avg       0.78      0.62      0.66     33522\n",
      "weighted avg       0.89      0.91      0.89     33522\n",
      "\n"
     ]
    }
   ],
   "source": [
    "#Evaluating logistic regression on total test set\n",
    "y_test_spacy_pred = log_reg_spacy.predict(X_test_embed[\"clause_ABSA_spacy_vectors\"].to_list())\n",
    "print(classification_report(y_test[\"sentiment\"], y_test_spacy_pred))"
   ]
  },
  {
   "cell_type": "code",
   "execution_count": 83,
   "metadata": {},
   "outputs": [
    {
     "name": "stdout",
     "output_type": "stream",
     "text": [
      "              precision    recall  f1-score   support\n",
      "\n",
      "           0       0.89      0.98      0.93      2123\n",
      "           1       0.34      0.09      0.14       282\n",
      "\n",
      "    accuracy                           0.87      2405\n",
      "   macro avg       0.62      0.53      0.54      2405\n",
      "weighted avg       0.83      0.87      0.84      2405\n",
      "\n"
     ]
    }
   ],
   "source": [
    "#Evaluating logistic regression on gold test set\n",
    "y_test_gold_spacy_pred = log_reg_spacy.predict(X_test_gold_embed[\"clause_ABSA_spacy_vectors\"].to_list())\n",
    "print(classification_report(y_test_gold[\"sentiment\"], y_test_gold_spacy_pred))"
   ]
  },
  {
   "cell_type": "code",
   "execution_count": 84,
   "metadata": {},
   "outputs": [],
   "source": [
    "#Saving fitted model\n",
    "os.chdir(\"..\")\n",
    "os.chdir(\"..\")\n",
    "os.chdir(\"Models/Articles/ML_DL\")\n",
    "model_name = \"log_reg_spacy.pkl\"\n",
    "with open(model_name, \"wb\") as file:\n",
    "    pickle.dump(log_reg_spacy, file)\n",
    "os.chdir(\"..\")\n",
    "os.chdir(\"..\")\n",
    "os.chdir(\"Notebooks/Articles\")"
   ]
  },
  {
   "cell_type": "markdown",
   "metadata": {},
   "source": [
    "### Section 3.3: <a class=\"anchor\" id=\"section_3_3\"></a> XGBoost"
   ]
  },
  {
   "cell_type": "code",
   "execution_count": 85,
   "metadata": {},
   "outputs": [
    {
     "data": {
      "text/plain": [
       "XGBClassifier(base_score=0.5, booster='gbtree', callbacks=None,\n",
       "              colsample_bylevel=1, colsample_bynode=1, colsample_bytree=1,\n",
       "              early_stopping_rounds=None, enable_categorical=False,\n",
       "              eval_metric=None, gamma=0, gpu_id=-1, grow_policy='depthwise',\n",
       "              importance_type=None, interaction_constraints='',\n",
       "              learning_rate=0.300000012, max_bin=256, max_cat_to_onehot=4,\n",
       "              max_delta_step=0, max_depth=6, max_leaves=0, min_child_weight=1,\n",
       "              missing=nan, monotone_constraints='()', n_estimators=100,\n",
       "              n_jobs=0, num_parallel_tree=1, predictor='auto', random_state=1,\n",
       "              reg_alpha=0, reg_lambda=1, ...)"
      ]
     },
     "execution_count": 85,
     "metadata": {},
     "output_type": "execute_result"
    }
   ],
   "source": [
    "#Fitting XGBoost with fastText embeddings\n",
    "xgbr = xg.XGBClassifier(random_state = 1)\n",
    "xgbr.fit(X_train_total_embed[\"clause_ABSA_ft_vectors\"].to_list(), y_train_total[\"sentiment\"])"
   ]
  },
  {
   "cell_type": "code",
   "execution_count": 86,
   "metadata": {},
   "outputs": [
    {
     "name": "stdout",
     "output_type": "stream",
     "text": [
      "              precision    recall  f1-score   support\n",
      "\n",
      "           0       0.92      0.99      0.95     30212\n",
      "           1       0.67      0.23      0.35      3310\n",
      "\n",
      "    accuracy                           0.91     33522\n",
      "   macro avg       0.80      0.61      0.65     33522\n",
      "weighted avg       0.90      0.91      0.89     33522\n",
      "\n"
     ]
    }
   ],
   "source": [
    "#Evaluating XGBoost with fastText embeddings\n",
    "y_test_ft_pred = xgbr.predict(X_test_embed[\"clause_ABSA_ft_vectors\"].to_list())\n",
    "print(classification_report(y_test[\"sentiment\"], y_test_ft_pred))"
   ]
  },
  {
   "cell_type": "code",
   "execution_count": 87,
   "metadata": {},
   "outputs": [
    {
     "data": {
      "text/plain": [
       "XGBClassifier(base_score=0.5, booster='gbtree', callbacks=None,\n",
       "              colsample_bylevel=1, colsample_bynode=1, colsample_bytree=1,\n",
       "              early_stopping_rounds=None, enable_categorical=False,\n",
       "              eval_metric=None, gamma=0, gpu_id=-1, grow_policy='depthwise',\n",
       "              importance_type=None, interaction_constraints='',\n",
       "              learning_rate=0.300000012, max_bin=256, max_cat_to_onehot=4,\n",
       "              max_delta_step=0, max_depth=6, max_leaves=0, min_child_weight=1,\n",
       "              missing=nan, monotone_constraints='()', n_estimators=100,\n",
       "              n_jobs=0, num_parallel_tree=1, predictor='auto', random_state=1,\n",
       "              reg_alpha=0, reg_lambda=1, ...)"
      ]
     },
     "execution_count": 87,
     "metadata": {},
     "output_type": "execute_result"
    }
   ],
   "source": [
    "#Fitting XGBoost with Spacy embeddings\n",
    "xgbr = xg.XGBClassifier(random_state = 1)\n",
    "xgbr.fit(X_train_total_embed[\"clause_ABSA_spacy_vectors\"].to_list(), y_train_total[\"sentiment\"])"
   ]
  },
  {
   "cell_type": "code",
   "execution_count": 88,
   "metadata": {},
   "outputs": [
    {
     "name": "stdout",
     "output_type": "stream",
     "text": [
      "              precision    recall  f1-score   support\n",
      "\n",
      "           0       0.92      0.99      0.95     30212\n",
      "           1       0.65      0.22      0.33      3310\n",
      "\n",
      "    accuracy                           0.91     33522\n",
      "   macro avg       0.79      0.60      0.64     33522\n",
      "weighted avg       0.89      0.91      0.89     33522\n",
      "\n"
     ]
    }
   ],
   "source": [
    "#Evaluating XGBoost with Spacy embeddings\n",
    "y_test_spacy_pred = xgbr.predict(X_test_embed[\"clause_ABSA_spacy_vectors\"].to_list())\n",
    "print(classification_report(y_test[\"sentiment\"], y_test_spacy_pred))"
   ]
  },
  {
   "cell_type": "code",
   "execution_count": 89,
   "metadata": {},
   "outputs": [
    {
     "data": {
      "text/plain": [
       "XGBClassifier(base_score=0.5, booster='gbtree', callbacks=None,\n",
       "              colsample_bylevel=1, colsample_bynode=1, colsample_bytree=1,\n",
       "              early_stopping_rounds=None, enable_categorical=False,\n",
       "              eval_metric=None, gamma=0, gpu_id=-1, grow_policy='depthwise',\n",
       "              importance_type=None, interaction_constraints='',\n",
       "              learning_rate=0.8, max_bin=256, max_cat_to_onehot=4,\n",
       "              max_delta_step=0, max_depth=8, max_leaves=0, min_child_weight=1,\n",
       "              missing=nan, monotone_constraints='()', n_estimators=200,\n",
       "              n_jobs=0, num_parallel_tree=1, predictor='auto', random_state=1,\n",
       "              reg_alpha=0, reg_lambda=1, ...)"
      ]
     },
     "execution_count": 89,
     "metadata": {},
     "output_type": "execute_result"
    }
   ],
   "source": [
    "#Fitting XGBoost\n",
    "#No GridSearch given long training time\n",
    "xgb_spacy = xg.XGBClassifier(objective = \"binary:logistic\", \n",
    "                             booster = \"gbtree\",\n",
    "                             #best_params_booster[\"booster\"],\n",
    "                             learning_rate = 0.8,\n",
    "                             max_depth = 8,\n",
    "                             subsample = 1,\n",
    "                             colsample_bytree = 1, \n",
    "                             n_estimators = 200,\n",
    "                             gamma = 0,\n",
    "                             random_state = 1)\n",
    "xgb_spacy.fit(X_train_total_embed[\"clause_ABSA_spacy_vectors\"].to_list(), y_train_total[\"sentiment\"])"
   ]
  },
  {
   "cell_type": "code",
   "execution_count": 90,
   "metadata": {},
   "outputs": [
    {
     "name": "stdout",
     "output_type": "stream",
     "text": [
      "              precision    recall  f1-score   support\n",
      "\n",
      "           0       0.93      0.98      0.95     30212\n",
      "           1       0.65      0.31      0.42      3310\n",
      "\n",
      "    accuracy                           0.92     33522\n",
      "   macro avg       0.79      0.64      0.69     33522\n",
      "weighted avg       0.90      0.92      0.90     33522\n",
      "\n"
     ]
    }
   ],
   "source": [
    "#Evaluating XGBoost on total test set\n",
    "y_test_spacy_pred = xgb_spacy.predict(X_test_embed[\"clause_ABSA_spacy_vectors\"].to_list())\n",
    "print(classification_report(y_test[\"sentiment\"], y_test_spacy_pred))"
   ]
  },
  {
   "cell_type": "code",
   "execution_count": 91,
   "metadata": {},
   "outputs": [
    {
     "name": "stdout",
     "output_type": "stream",
     "text": [
      "              precision    recall  f1-score   support\n",
      "\n",
      "           0       0.90      0.97      0.94      2123\n",
      "           1       0.49      0.22      0.30       282\n",
      "\n",
      "    accuracy                           0.88      2405\n",
      "   macro avg       0.70      0.59      0.62      2405\n",
      "weighted avg       0.86      0.88      0.86      2405\n",
      "\n"
     ]
    }
   ],
   "source": [
    "#Evaluating XGBoost on gold test set\n",
    "y_test_gold_spacy_pred = xgb_spacy.predict(X_test_gold_embed[\"clause_ABSA_spacy_vectors\"].to_list())\n",
    "print(classification_report(y_test_gold[\"sentiment\"], y_test_gold_spacy_pred))"
   ]
  },
  {
   "cell_type": "code",
   "execution_count": 92,
   "metadata": {},
   "outputs": [],
   "source": [
    "#Saving fitted model\n",
    "os.chdir(\"..\")\n",
    "os.chdir(\"..\")\n",
    "os.chdir(\"Models/Articles/ML_DL\")\n",
    "model_name = \"xgb_spacy.pkl\"\n",
    "with open(model_name, \"wb\") as file:\n",
    "    pickle.dump(xgb_spacy, file)\n",
    "os.chdir(\"..\")\n",
    "os.chdir(\"..\")\n",
    "os.chdir(\"Notebooks/Articles\")"
   ]
  },
  {
   "cell_type": "markdown",
   "metadata": {},
   "source": [
    "### Section 3.4: <a class=\"anchor\" id=\"section_3_4\"></a> Random Forest"
   ]
  },
  {
   "cell_type": "code",
   "execution_count": 93,
   "metadata": {},
   "outputs": [
    {
     "data": {
      "text/plain": [
       "RandomForestClassifier(random_state=1)"
      ]
     },
     "execution_count": 93,
     "metadata": {},
     "output_type": "execute_result"
    }
   ],
   "source": [
    "#Fitting random forest with fastText embeddings\n",
    "rf = RandomForestClassifier(random_state = 1)\n",
    "rf.fit(X_train_total_embed[\"clause_ABSA_ft_vectors\"].to_list(), y_train_total[\"sentiment\"])"
   ]
  },
  {
   "cell_type": "code",
   "execution_count": 94,
   "metadata": {},
   "outputs": [
    {
     "name": "stdout",
     "output_type": "stream",
     "text": [
      "              precision    recall  f1-score   support\n",
      "\n",
      "           0       0.91      1.00      0.95     30212\n",
      "           1       0.85      0.11      0.20      3310\n",
      "\n",
      "    accuracy                           0.91     33522\n",
      "   macro avg       0.88      0.55      0.57     33522\n",
      "weighted avg       0.91      0.91      0.88     33522\n",
      "\n"
     ]
    }
   ],
   "source": [
    "#Evaluating random forest with fastText embeddings\n",
    "y_test_ft_pred = rf.predict(X_test_embed[\"clause_ABSA_ft_vectors\"].to_list())\n",
    "print(classification_report(y_test[\"sentiment\"], y_test_ft_pred))"
   ]
  },
  {
   "cell_type": "code",
   "execution_count": 95,
   "metadata": {},
   "outputs": [
    {
     "data": {
      "text/plain": [
       "RandomForestClassifier(random_state=1)"
      ]
     },
     "execution_count": 95,
     "metadata": {},
     "output_type": "execute_result"
    }
   ],
   "source": [
    "#Fitting random forest with Spacy embeddings\n",
    "rf = RandomForestClassifier(random_state = 1)\n",
    "rf.fit(X_train_total_embed[\"clause_ABSA_spacy_vectors\"].to_list(), y_train_total[\"sentiment\"])"
   ]
  },
  {
   "cell_type": "code",
   "execution_count": 96,
   "metadata": {},
   "outputs": [
    {
     "name": "stdout",
     "output_type": "stream",
     "text": [
      "              precision    recall  f1-score   support\n",
      "\n",
      "           0       0.91      1.00      0.95     30212\n",
      "           1       0.84      0.10      0.18      3310\n",
      "\n",
      "    accuracy                           0.91     33522\n",
      "   macro avg       0.87      0.55      0.56     33522\n",
      "weighted avg       0.90      0.91      0.88     33522\n",
      "\n"
     ]
    }
   ],
   "source": [
    "#Evaluating random forest with Spacy embeddings\n",
    "y_test_spacy_pred = rf.predict(X_test_embed[\"clause_ABSA_spacy_vectors\"].to_list())\n",
    "print(classification_report(y_test[\"sentiment\"], y_test_spacy_pred))"
   ]
  },
  {
   "cell_type": "code",
   "execution_count": 97,
   "metadata": {},
   "outputs": [
    {
     "data": {
      "text/plain": [
       "RandomForestClassifier(random_state=1)"
      ]
     },
     "execution_count": 97,
     "metadata": {},
     "output_type": "execute_result"
    }
   ],
   "source": [
    "#Fitting random forest\n",
    "#No GridSearch given long training time\n",
    "rf_spacy = RandomForestClassifier(#max_features = 3000, \n",
    "                                  #max_depth = 2500,\n",
    "                                  random_state = 1)\n",
    "rf_spacy.fit(X_train_total_embed[\"clause_ABSA_spacy_vectors\"].to_list(), y_train_total[\"sentiment\"])"
   ]
  },
  {
   "cell_type": "code",
   "execution_count": 98,
   "metadata": {},
   "outputs": [
    {
     "name": "stdout",
     "output_type": "stream",
     "text": [
      "              precision    recall  f1-score   support\n",
      "\n",
      "           0       0.91      1.00      0.95     30212\n",
      "           1       0.84      0.10      0.18      3310\n",
      "\n",
      "    accuracy                           0.91     33522\n",
      "   macro avg       0.87      0.55      0.56     33522\n",
      "weighted avg       0.90      0.91      0.88     33522\n",
      "\n"
     ]
    }
   ],
   "source": [
    "#Evaluating random forest on total test set\n",
    "y_test_spacy_pred = rf_spacy.predict(X_test_embed[\"clause_ABSA_spacy_vectors\"].to_list())\n",
    "print(classification_report(y_test[\"sentiment\"], y_test_spacy_pred))"
   ]
  },
  {
   "cell_type": "code",
   "execution_count": 99,
   "metadata": {},
   "outputs": [
    {
     "name": "stdout",
     "output_type": "stream",
     "text": [
      "              precision    recall  f1-score   support\n",
      "\n",
      "           0       0.89      0.99      0.94      2123\n",
      "           1       0.56      0.08      0.14       282\n",
      "\n",
      "    accuracy                           0.88      2405\n",
      "   macro avg       0.73      0.54      0.54      2405\n",
      "weighted avg       0.85      0.88      0.84      2405\n",
      "\n"
     ]
    }
   ],
   "source": [
    "#Evaluating random forest on gold test set\n",
    "y_test_gold_spacy_pred = rf_spacy.predict(X_test_gold_embed[\"clause_ABSA_spacy_vectors\"].to_list())\n",
    "print(classification_report(y_test_gold[\"sentiment\"], y_test_gold_spacy_pred))"
   ]
  },
  {
   "cell_type": "code",
   "execution_count": 100,
   "metadata": {},
   "outputs": [],
   "source": [
    "#Saving fitted model\n",
    "os.chdir(\"..\")\n",
    "os.chdir(\"..\")\n",
    "os.chdir(\"Models/Articles/ML_DL\")\n",
    "model_name = \"rf_spacy.pkl\"\n",
    "with open(model_name, \"wb\") as file:\n",
    "    pickle.dump(rf_spacy, file)\n",
    "os.chdir(\"..\")\n",
    "os.chdir(\"..\")\n",
    "os.chdir(\"Notebooks/Articles\")"
   ]
  },
  {
   "cell_type": "markdown",
   "metadata": {},
   "source": [
    "## Chapter 4: <a class=\"anchor\" id=\"chapter4\"></a> Ensemble Method"
   ]
  },
  {
   "cell_type": "code",
   "execution_count": 101,
   "metadata": {},
   "outputs": [],
   "source": [
    "#Defining function to generate majority vote\n",
    "def get_majority_vote(pred_list):\n",
    "    total_votes = len(pred_list)\n",
    "    total_pos = sum(pred_list)\n",
    "    if total_pos >= total_votes/2:\n",
    "        return 1\n",
    "    else:\n",
    "        return 0"
   ]
  },
  {
   "cell_type": "code",
   "execution_count": 102,
   "metadata": {},
   "outputs": [],
   "source": [
    "#Generating predictions\n",
    "y_test_pred_log_reg_cv = list(log_reg_cv.predict(X_test_cv))\n",
    "y_test_pred_xgb_cv = list(xgb_cv.predict(X_test_cv))\n",
    "y_test_pred_rf_cv = list(rf_cv.predict(X_test_cv))\n",
    "y_test_pred_log_reg_spacy = list(log_reg_spacy.predict(X_test_embed[\"clause_ABSA_spacy_vectors\"].to_list()))\n",
    "y_test_pred_xgb_spacy = list(xgb_spacy.predict(X_test_embed[\"clause_ABSA_spacy_vectors\"].to_list()))\n",
    "y_test_pred_rf_spacy = list(rf_spacy.predict(X_test_embed[\"clause_ABSA_spacy_vectors\"].to_list()))\n",
    "\n",
    "y_test_gold_pred_log_reg_cv = list(log_reg_cv.predict(X_test_gold_cv))\n",
    "y_test_gold_pred_xgb_cv = list(xgb_cv.predict(X_test_gold_cv))\n",
    "y_test_gold_pred_rf_cv = list(rf_cv.predict(X_test_gold_cv))\n",
    "y_test_gold_pred_log_reg_spacy = list(log_reg_spacy.predict(X_test_gold_embed[\"clause_ABSA_spacy_vectors\"].to_list()))\n",
    "y_test_gold_pred_xgb_spacy = list(xgb_spacy.predict(X_test_gold_embed[\"clause_ABSA_spacy_vectors\"].to_list()))\n",
    "y_test_gold_pred_rf_spacy = list(rf_spacy.predict(X_test_gold_embed[\"clause_ABSA_spacy_vectors\"].to_list()))"
   ]
  },
  {
   "cell_type": "code",
   "execution_count": 103,
   "metadata": {},
   "outputs": [],
   "source": [
    "#Creating dataframe\n",
    "pred_df = pd.DataFrame(data = {\"log_reg_cv\": y_test_pred_log_reg_cv,\n",
    "                               #\"xgb_cv\": y_test_pred_xgb_cv, \n",
    "                               \"rf_cv\": y_test_pred_rf_cv,\n",
    "                               \"log_reg_spacy\": y_test_pred_log_reg_spacy, \n",
    "                               \"xgb_spacy\": y_test_pred_xgb_spacy, \n",
    "                               \"rf_spacy\": y_test_pred_rf_spacy})\n",
    "pred_df[\"majority_vote\"] = pred_df.apply(lambda x: get_majority_vote(list(x[\"log_reg_cv\":\"rf_spacy\"])), axis = 1)\n",
    "\n",
    "pred_df_gold = pd.DataFrame(data = {\"log_reg_gold_cv\": y_test_gold_pred_log_reg_cv,\n",
    "                                    #\"xgb_gold_cv\": y_test_gold_pred_xgb_cv, \n",
    "                                    \"rf_gold_cv\": y_test_gold_pred_rf_cv,\n",
    "                                    \"log_reg_gold_spacy\": y_test_gold_pred_log_reg_spacy, \n",
    "                                    \"xgb_gold_spacy\": y_test_gold_pred_xgb_spacy, \n",
    "                                    \"rf_gold_spacy\": y_test_gold_pred_rf_spacy\n",
    "                                   })\n",
    "pred_df_gold[\"majority_vote_gold\"] = pred_df_gold.apply(lambda x: get_majority_vote(list(x[\"log_reg_gold_cv\":\"rf_gold_spacy\"])), axis = 1)"
   ]
  },
  {
   "cell_type": "code",
   "execution_count": 104,
   "metadata": {},
   "outputs": [
    {
     "name": "stdout",
     "output_type": "stream",
     "text": [
      "              precision    recall  f1-score   support\n",
      "\n",
      "           0       0.93      0.99      0.96     30212\n",
      "           1       0.85      0.33      0.47      3310\n",
      "\n",
      "    accuracy                           0.93     33522\n",
      "   macro avg       0.89      0.66      0.72     33522\n",
      "weighted avg       0.92      0.93      0.91     33522\n",
      "\n"
     ]
    }
   ],
   "source": [
    "#Evaluating ensemble on total test set\n",
    "print(classification_report(y_test[\"sentiment\"], pred_df[\"majority_vote\"]))"
   ]
  },
  {
   "cell_type": "code",
   "execution_count": 105,
   "metadata": {},
   "outputs": [
    {
     "name": "stdout",
     "output_type": "stream",
     "text": [
      "              precision    recall  f1-score   support\n",
      "\n",
      "           0       0.90      0.97      0.94      2123\n",
      "           1       0.49      0.19      0.27       282\n",
      "\n",
      "    accuracy                           0.88      2405\n",
      "   macro avg       0.69      0.58      0.60      2405\n",
      "weighted avg       0.85      0.88      0.86      2405\n",
      "\n"
     ]
    }
   ],
   "source": [
    "#Evaluating ensemble on gold test set\n",
    "print(classification_report(y_test_gold[\"sentiment\"], pred_df_gold[\"majority_vote_gold\"]))"
   ]
  },
  {
   "cell_type": "markdown",
   "metadata": {},
   "source": [
    "## Chapter 5: <a class=\"anchor\" id=\"chapter5\"></a> Propagation"
   ]
  },
  {
   "cell_type": "code",
   "execution_count": 106,
   "metadata": {},
   "outputs": [],
   "source": [
    "#Count vectorizing X\n",
    "X_cv = cv.transform(X[\"clause_ABSA\"])"
   ]
  },
  {
   "cell_type": "code",
   "execution_count": 107,
   "metadata": {},
   "outputs": [
    {
     "name": "stderr",
     "output_type": "stream",
     "text": [
      "100%|██████████████████████████████████| 160393/160393 [05:41<00:00, 470.27it/s]\n"
     ]
    }
   ],
   "source": [
    "#Embedding X\n",
    "X_embed = X.copy()\n",
    "X_embed[\"clause_ABSA_tokens\"] = X_embed[\"clause_ABSA\"].apply(lambda x: x.split(\" \"))\n",
    "X_embed[\"clause_ABSA_spacy_vectors\"] = X_embed[\"clause_ABSA_tokens\"].progress_apply(lambda x: get_spacy_vectors(x).mean(axis = 0))"
   ]
  },
  {
   "cell_type": "code",
   "execution_count": 108,
   "metadata": {},
   "outputs": [],
   "source": [
    "#Generating predictions\n",
    "y_pred_log_reg_cv = list(log_reg_cv.predict(X_cv))\n",
    "y_pred_rf_cv = list(rf_cv.predict(X_cv))\n",
    "y_pred_log_reg_spacy = list(log_reg_spacy.predict(X_embed[\"clause_ABSA_spacy_vectors\"].to_list()))\n",
    "y_pred_xgb_spacy = list(xgb_spacy.predict(X_embed[\"clause_ABSA_spacy_vectors\"].to_list()))\n",
    "y_pred_rf_spacy = list(rf_spacy.predict(X_embed[\"clause_ABSA_spacy_vectors\"].to_list()))"
   ]
  },
  {
   "cell_type": "code",
   "execution_count": 109,
   "metadata": {},
   "outputs": [],
   "source": [
    "#Creating dataframe\n",
    "pred_df = pd.DataFrame(data = {\"log_reg_cv\": y_pred_log_reg_cv,\n",
    "                               \"rf_cv\": y_pred_rf_cv,\n",
    "                               \"log_reg_spacy\": y_pred_log_reg_spacy, \n",
    "                               \"xgb_spacy\": y_pred_xgb_spacy, \n",
    "                               \"rf_spacy\": y_pred_rf_spacy})\n",
    "pred_df[\"majority_vote\"] = pred_df.apply(lambda x: get_majority_vote(list(x[\"log_reg_cv\":\"rf_spacy\"])), axis = 1)"
   ]
  },
  {
   "cell_type": "code",
   "execution_count": 110,
   "metadata": {},
   "outputs": [],
   "source": [
    "#Joining dataframe\n",
    "final_df = df_unique.join(pred_df[\"majority_vote\"])"
   ]
  },
  {
   "cell_type": "code",
   "execution_count": 111,
   "metadata": {},
   "outputs": [],
   "source": [
    "#Renaming columns\n",
    "final_df.rename(columns = {\"sentiment\": \"snorkel_sentiment\", \n",
    "                           \"majority_vote\": \"sentiment\"}, \n",
    "                inplace = True)"
   ]
  },
  {
   "cell_type": "code",
   "execution_count": 112,
   "metadata": {},
   "outputs": [],
   "source": [
    "#Dropping columns\n",
    "final_df.drop([\"index\", \"stratification\", \"sentence_ABSA_subclause\", \"sentence_ABSA_rel_keywords\", \"entity_keyword\"], \n",
    "              axis = 1, \n",
    "              inplace = True)"
   ]
  },
  {
   "cell_type": "code",
   "execution_count": 114,
   "metadata": {},
   "outputs": [],
   "source": [
    "#Saving to CSV\n",
    "os.chdir(\"..\")\n",
    "os.chdir(\"..\")\n",
    "final_df.to_csv(\"Outputs/Articles/ML/ml.csv\")\n",
    "os.chdir(\"Notebooks/Articles\")"
   ]
  }
 ],
 "metadata": {
  "kernelspec": {
   "display_name": "Python 3 (ipykernel)",
   "language": "python",
   "name": "python3"
  },
  "language_info": {
   "codemirror_mode": {
    "name": "ipython",
    "version": 3
   },
   "file_extension": ".py",
   "mimetype": "text/x-python",
   "name": "python",
   "nbconvert_exporter": "python",
   "pygments_lexer": "ipython3",
   "version": "3.9.7"
  }
 },
 "nbformat": 4,
 "nbformat_minor": 2
}
